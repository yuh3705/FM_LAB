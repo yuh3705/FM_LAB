{
 "cells": [
  {
   "cell_type": "markdown",
   "metadata": {
    "id": "3x9uySjxDhZ0"
   },
   "source": [
    "# Neural Network Example\n",
    "\n",
    "Xây dựng neural network với hai tầng ẩn (hidden layer). Các trọng số và mối liên hệ giữa các tầng ẩn được thiết lập và cài đặt bằng việc sử dụng API của thư viện PyTorch"
   ]
  },
  {
   "cell_type": "markdown",
   "metadata": {
    "id": "t_U1OnHRDhZ4"
   },
   "source": [
    "## Neural Network Overview\n",
    "\n",
    "<img src=\"http://cs231n.github.io/assets/nn1/neural_net2.jpeg\" alt=\"nn\" style=\"width: 400px;\"/>\n",
    "\n",
    "## MNIST Dataset Overview\n",
    "\n"
   ]
  },
  {
   "cell_type": "code",
   "execution_count": 29,
   "metadata": {
    "id": "qdOjSpvgDhZ5"
   },
   "outputs": [],
   "source": [
    "from __future__ import absolute_import, division, print_function\n",
    "\n",
    "import torch\n",
    "import torch.nn as nn\n",
    "import torch.nn.functional as F\n",
    "import torch.optim as optim\n",
    "import torchvision\n",
    "import torchvision.transforms as transforms\n",
    "from torch.autograd import Variable\n",
    "import numpy as np"
   ]
  },
  {
   "cell_type": "code",
   "execution_count": 30,
   "metadata": {
    "colab": {
     "base_uri": "https://localhost:8080/"
    },
    "executionInfo": {
     "elapsed": 3518,
     "status": "ok",
     "timestamp": 1630115635932,
     "user": {
      "displayName": "Nam Cao Hải",
      "photoUrl": "https://lh3.googleusercontent.com/a-/AOh14GiCmrl3X4wfKjF82UzLyBPTNB6px2ty7jZ8llyL=s64",
      "userId": "02198006735637931468"
     },
     "user_tz": -420
    },
    "id": "VozvoFF6gXDB",
    "outputId": "c7234e60-bd4f-4835-9b0e-eed0d8f5a21d"
   },
   "outputs": [],
   "source": [
    "# Chuẩn bị dữ liệu\n",
    "from tensorflow.keras.datasets import mnist\n",
    "(x_train, y_train), (x_test, y_test) = mnist.load_data()\n",
    "# Chuyển đổi sang định dạng float32.\n",
    "x_train, x_test = np.array(x_train, np.float32), np.array(x_test, np.float32)\n",
    "# Chuẩn hóa ảnh từ from [0, 255] to [0, 1].\n",
    "x_train, x_test = x_train / 255., x_test / 255.\n",
    "x_train, x_test, y_train, y_test = torch.from_numpy(x_train), torch.from_numpy(x_test), torch.from_numpy(y_train).type(torch.LongTensor), torch.from_numpy(y_test).type(torch.LongTensor)"
   ]
  },
  {
   "cell_type": "code",
   "execution_count": 31,
   "metadata": {
    "id": "2l0-L8j1pTAo"
   },
   "outputs": [],
   "source": [
    "# MNIST dataset parameters.\n",
    "num_classes = 10 # total classes (0-9 digits).\n",
    "num_features = 784 # data features (img shape: 28*28).\n",
    "\n",
    "# Network parameters.\n",
    "n_hidden_1 = 128 # 1st layer number of neurons.\n",
    "# n_hidden_2 = 256 # 2nd layer number of neurons."
   ]
  },
  {
   "cell_type": "code",
   "execution_count": 32,
   "metadata": {
    "id": "DmRW7160DhZ5"
   },
   "outputs": [],
   "source": [
    "batch_size = 16"
   ]
  },
  {
   "cell_type": "code",
   "execution_count": 33,
   "metadata": {
    "id": "jlCutM-HgnGm"
   },
   "outputs": [],
   "source": [
    "trainloader = []\n",
    "for (i,j) in zip(x_train, y_train):\n",
    "    trainloader.append([i,j])\n",
    "trainloader = torch.utils.data.DataLoader(trainloader, shuffle=True, batch_size=batch_size)\n",
    "\n",
    "testloader = []\n",
    "for (i,j) in zip(x_test, y_test):\n",
    "    testloader.append([i,j])\n",
    "testloader = torch.utils.data.DataLoader(testloader, shuffle=True, batch_size=batch_size)"
   ]
  },
  {
   "cell_type": "markdown",
   "metadata": {
    "id": "2ozBMqxygTt3"
   },
   "source": [
    "## Hiển thị một vài ví dụ"
   ]
  },
  {
   "cell_type": "code",
   "execution_count": 34,
   "metadata": {
    "colab": {
     "base_uri": "https://localhost:8080/",
     "height": 287
    },
    "executionInfo": {
     "elapsed": 1572,
     "status": "ok",
     "timestamp": 1630115645212,
     "user": {
      "displayName": "Nam Cao Hải",
      "photoUrl": "https://lh3.googleusercontent.com/a-/AOh14GiCmrl3X4wfKjF82UzLyBPTNB6px2ty7jZ8llyL=s64",
      "userId": "02198006735637931468"
     },
     "user_tz": -420
    },
    "id": "OKzi3NK4INqd",
    "outputId": "4421a3ea-7437-4faf-f78b-4973220e8786"
   },
   "outputs": [
    {
     "data": {
      "image/png": "[encoded data removed]",
      "text/plain": [
       "<Figure size 2500x400 with 16 Axes>"
      ]
     },
     "metadata": {},
     "output_type": "display_data"
    }
   ],
   "source": [
    "import matplotlib.pyplot as plt\n",
    "%matplotlib inline\n",
    "    \n",
    "dataiter = iter(trainloader)\n",
    "images, labels = next(dataiter)\n",
    "images = images.numpy()\n",
    "\n",
    "# hiển thị dữ liệu theo từng batch và nhãn tương ứng\n",
    "fig = plt.figure(figsize=(25, 4))\n",
    "for idx in np.arange(batch_size):\n",
    "    ax = fig.add_subplot(2, int(batch_size/2), idx+1, xticks=[], yticks=[])\n",
    "    ax.imshow(np.squeeze(images[idx]), cmap='gray')\n",
    "    ax.set_title(str(labels[idx].item()))"
   ]
  },
  {
   "cell_type": "code",
   "execution_count": 35,
   "metadata": {
    "id": "Rql7CBYODhZ6"
   },
   "outputs": [
    {
     "name": "stdout",
     "output_type": "stream",
     "text": [
      "MLPModel(\n",
      "  (fc1): Linear(in_features=784, out_features=128, bias=True)\n",
      "  (fc2): Linear(in_features=128, out_features=10, bias=True)\n",
      ")\n"
     ]
    }
   ],
   "source": [
    "import torch.nn as nn\n",
    "import torch.nn.functional as F\n",
    "\n",
    "## định nghĩa mạng\n",
    "class MLPModel(nn.Module):\n",
    "    def __init__(self):\n",
    "        super(MLPModel, self).__init__()\n",
    "        self.fc1 = nn.Linear(num_features, n_hidden_1)\n",
    "        # linear layer (n_hidden -> hidden_2)\n",
    "        self.fc2 = nn.Linear(n_hidden_1, num_classes)\n",
    "\n",
    "    def forward(self, x):\n",
    "        # chuyển từ định dạng ma trận thành vector\n",
    "        x = x.view(-1, 28 * 28)\n",
    "        # add hidden layer, with relu activation function\n",
    "        x = F.relu(self.fc1(x))\n",
    "        x = F.relu(self.fc2(x))\n",
    "        return x\n",
    "\n",
    "# initialize the NN\n",
    "model = MLPModel()\n",
    "print(model)"
   ]
  },
  {
   "cell_type": "code",
   "execution_count": 36,
   "metadata": {
    "id": "hCTP3kWMng7e"
   },
   "outputs": [],
   "source": [
    "import torch.optim as optim\n",
    "# trong hàm loss cross entropy đã áp dụng hàm soft max cho vector đầu ra\n",
    "criterion = nn.CrossEntropyLoss()\n",
    "optimizer = optim.SGD(model.parameters(), lr=0.01)"
   ]
  },
  {
   "cell_type": "code",
   "execution_count": 37,
   "metadata": {
    "id": "F08Eg4vfmtOQ"
   },
   "outputs": [],
   "source": [
    "def accuracy():\n",
    "    correct = 0\n",
    "    total = 0\n",
    "    # since we're not training, we don't need to calculate the gradients for our outputs\n",
    "    with torch.no_grad():\n",
    "        for data in testloader:\n",
    "            images, labels = data\n",
    "            # calculate outputs by running images through the network\n",
    "            outputs = model(images)\n",
    "            # the class with the highest energy is what we choose as prediction\n",
    "            _, predicted = torch.max(outputs.data, 1)\n",
    "            total += labels.size(0)\n",
    "            correct += (predicted == labels).sum().item()\n",
    "\n",
    "    return correct/total"
   ]
  },
  {
   "cell_type": "code",
   "execution_count": 38,
   "metadata": {
    "id": "NDl_S1CynsUR"
   },
   "outputs": [
    {
     "name": "stdout",
     "output_type": "stream",
     "text": [
      "Iteration: 10, accuracy: 0.754\n",
      "Finished Training\n"
     ]
    }
   ],
   "source": [
    "losses = []\n",
    "for epoch in range(10):  # loop over the dataset multiple times\n",
    "\n",
    "    running_loss = 0.0\n",
    "    for i, data in enumerate(trainloader, 0):\n",
    "        # get the inputs; data is a list of [inputs, labels]\n",
    "        inputs, labels = data\n",
    "\n",
    "        # zero the parameter gradients\n",
    "        optimizer.zero_grad()\n",
    "\n",
    "        # forward + backward + optimize\n",
    "        outputs = model(inputs)\n",
    "        loss = criterion(outputs, labels)\n",
    "        loss.backward()\n",
    "        optimizer.step()\n",
    "\n",
    "        # print statistics\n",
    "        running_loss += loss.item()\n",
    "    losses.append(running_loss)\n",
    "    if epoch % 10 == 9:\n",
    "        print('Iteration: %d, accuracy: %.3f' %(epoch + 1, accuracy()))\n",
    "\n",
    "print('Finished Training')"
   ]
  },
  {
   "cell_type": "code",
   "execution_count": 39,
   "metadata": {
    "colab": {
     "base_uri": "https://localhost:8080/",
     "height": 264
    },
    "executionInfo": {
     "elapsed": 549,
     "status": "ok",
     "timestamp": 1630119179697,
     "user": {
      "displayName": "Nam Cao Hải",
      "photoUrl": "https://lh3.googleusercontent.com/a-/AOh14GiCmrl3X4wfKjF82UzLyBPTNB6px2ty7jZ8llyL=s64",
      "userId": "02198006735637931468"
     },
     "user_tz": -420
    },
    "id": "wULStpofn6KQ",
    "outputId": "906cfef8-9419-4b5d-9e91-60be3c8abc03"
   },
   "outputs": [
    {
     "data": {
      "image/png": "[encoded data removed]",
      "text/plain": [
       "<Figure size 640x480 with 1 Axes>"
      ]
     },
     "metadata": {},
     "output_type": "display_data"
    }
   ],
   "source": [
    "# Biểu đồ biểu diễn độ biến thiên của hàm mất mát qua các vòng lặp\n",
    "plt.plot([i for i in range(len(losses))], losses, label='Loss line')\n",
    "# plt.plot(X, np.array(W * X + b), label='Fitted line')\n",
    "plt.legend()\n",
    "plt.show()"
   ]
  },
  {
   "cell_type": "markdown",
   "metadata": {
    "id": "r9TNrG3r0OYV"
   },
   "source": [
    "## Bài tập\n",
    "\n",
    "*   Tiến hành huấn luyện mô hình với số lượng epoch lần lượt là 50, 100, 150.Rút ra nhận xét.\n",
    "\n"
   ]
  },
  {
   "cell_type": "markdown",
   "metadata": {
    "id": "ByD_DioQ0n58"
   },
   "source": [
    "\n",
    "\n",
    "*   Hiển thị một số kết quả\n",
    "\n"
   ]
  },
  {
   "cell_type": "code",
   "execution_count": 42,
   "metadata": {
    "colab": {
     "base_uri": "https://localhost:8080/",
     "height": 191
    },
    "executionInfo": {
     "elapsed": 804,
     "status": "ok",
     "timestamp": 1630083571823,
     "user": {
      "displayName": "Nam Cao Hải",
      "photoUrl": "https://lh3.googleusercontent.com/a-/AOh14GiCmrl3X4wfKjF82UzLyBPTNB6px2ty7jZ8llyL=s64",
      "userId": "02198006735637931468"
     },
     "user_tz": -420
    },
    "id": "EPVrejvmDhZ_",
    "outputId": "3f19b554-38a4-40de-ebe6-1cadbf7f92e8"
   },
   "outputs": [
    {
     "data": {
      "image/png": "[encoded data removed]",
      "text/plain": [
       "<Figure size 2500x400 with 16 Axes>"
      ]
     },
     "metadata": {},
     "output_type": "display_data"
    }
   ],
   "source": [
    "# obtain one batch of test images\n",
    "dataiter = iter(testloader)\n",
    "images, labels = next(dataiter)\n",
    "\n",
    "# get sample outputs\n",
    "output = model(images)\n",
    "# convert output probabilities to predicted class\n",
    "_, preds = torch.max(output, 1)\n",
    "# prep images for display\n",
    "images = images.numpy()\n",
    "\n",
    "# plot the images in the batch, along with predicted and true labels\n",
    "fig = plt.figure(figsize=(25, 4))\n",
    "for idx in np.arange(batch_size):\n",
    "    ax = fig.add_subplot(2, int(batch_size/2), idx+1, xticks=[], yticks=[])\n",
    "    ax.imshow(np.squeeze(images[idx]), cmap='gray')\n",
    "    ax.set_title(\"{} ({})\".format(str(preds[idx].item()), str(labels[idx].item())),\n",
    "                 color=(\"green\" if preds[idx]==labels[idx] else \"red\"))"
   ]
  },
  {
   "cell_type": "code",
   "execution_count": null,
   "metadata": {
    "id": "M64NL8UXhe00"
   },
   "outputs": [],
   "source": []
  },
  {
   "cell_type": "markdown",
   "metadata": {
    "id": "LZnmFyT3yvBd"
   },
   "source": [
    "## Bài tập\n",
    "\n",
    "*   Thiết lập thêm 3 mạng nơ ron với số tầng ẩn lần lượt là 3,5 (số lượng nơ ron của các tầng tùy ý). Với mỗi mạng mới được sinh ra, áp dụng learning-rate lần lượt bằng 0.1, 0,05, 0.001 để huấn luyện. Huấn luyện qua khoảng 100 epoch.\n",
    "*   Chia tập train hiện có thành 2 phần. **85%** dữ liệu làm tập **train**, **15%** còn lại làm tập **dev**. Huấn luyện các mô hình tạo ra ở bước trên với tập **train** mới, sau đó kiểm thử trên tập **dev**. \n",
    "* Dùng các model kiểm thử trên tập **test**. So sánh model cho kết quả tốt nhất khi kiểm thử trên 2 tập này và rút ra nhận xét về vai trò của tập **dev**\n",
    "\n"
   ]
  },
  {
   "cell_type": "code",
   "execution_count": 43,
   "metadata": {
    "id": "kHagR4zz1_Ek"
   },
   "outputs": [
    {
     "name": "stdout",
     "output_type": "stream",
     "text": [
      "Iteration: 10, accuracy: 0.973\n",
      "Iteration: 20, accuracy: 0.977\n",
      "Iteration: 30, accuracy: 0.979\n",
      "Iteration: 40, accuracy: 0.978\n",
      "Iteration: 50, accuracy: 0.979\n",
      "Finished Training\n"
     ]
    },
    {
     "data": {
      "image/png": "[encoded data removed]",
      "text/plain": [
       "<Figure size 640x480 with 1 Axes>"
      ]
     },
     "metadata": {},
     "output_type": "display_data"
    }
   ],
   "source": [
    "losses_50 = []\n",
    "for epoch in range(50):  # loop over the dataset multiple times\n",
    "\n",
    "    running_loss = 0.0\n",
    "    for i, data in enumerate(trainloader, 0):\n",
    "        # get the inputs; data is a list of [inputs, labels]\n",
    "        inputs, labels = data\n",
    "\n",
    "        # zero the parameter gradients\n",
    "        optimizer.zero_grad()\n",
    "\n",
    "        # forward + backward + optimize\n",
    "        outputs = model(inputs)\n",
    "        loss = criterion(outputs, labels)\n",
    "        loss.backward()\n",
    "        optimizer.step()\n",
    "\n",
    "        # print statistics\n",
    "        running_loss += loss.item()\n",
    "    losses_50.append(running_loss)\n",
    "    if epoch % 10 == 9:\n",
    "        print('Iteration: %d, accuracy: %.3f' %(epoch + 1, accuracy()))\n",
    "\n",
    "print('Finished Training')\n",
    "\n",
    "# Biểu đồ biểu diễn độ biến thiên của hàm mất mát qua các vòng lặp\n",
    "plt.plot([i for i in range(len(losses_50))], losses_50, label='Loss line')\n",
    "# plt.plot(X, np.array(W * X + b), label='Fitted line')\n",
    "plt.legend()\n",
    "plt.show()"
   ]
  },
  {
   "cell_type": "code",
   "execution_count": null,
   "metadata": {},
   "outputs": [
    {
     "name": "stdout",
     "output_type": "stream",
     "text": [
      "Iteration: 10, accuracy: 0.980\n",
      "Iteration: 20, accuracy: 0.980\n",
      "Iteration: 30, accuracy: 0.980\n",
      "Iteration: 40, accuracy: 0.980\n",
      "Iteration: 50, accuracy: 0.980\n",
      "Iteration: 60, accuracy: 0.980\n",
      "Iteration: 70, accuracy: 0.980\n",
      "Iteration: 80, accuracy: 0.980\n",
      "Iteration: 90, accuracy: 0.980\n",
      "Iteration: 100, accuracy: 0.980\n",
      "Iteration: 110, accuracy: 0.980\n",
      "Iteration: 120, accuracy: 0.980\n",
      "Iteration: 130, accuracy: 0.980\n",
      "Iteration: 140, accuracy: 0.981\n",
      "Iteration: 150, accuracy: 0.980\n",
      "Finished Training\n"
     ]
    },
    {
     "data": {
      "image/png": "[encoded data removed]",
      "text/plain": [
       "<Figure size 640x480 with 1 Axes>"
      ]
     },
     "metadata": {},
     "output_type": "display_data"
    }
   ],
   "source": [
    "losses_150 = []\n",
    "for epoch in range(150):  # loop over the dataset multiple times\n",
    "\n",
    "    running_loss = 0.0\n",
    "    for i, data in enumerate(trainloader, 0):\n",
    "        # get the inputs; data is a list of [inputs, labels]\n",
    "        inputs, labels = data\n",
    "\n",
    "        # zero the parameter gradients\n",
    "        optimizer.zero_grad()\n",
    "\n",
    "        # forward + backward + optimize\n",
    "        outputs = model(inputs)\n",
    "        loss = criterion(outputs, labels)\n",
    "        loss.backward()\n",
    "        optimizer.step()\n",
    "\n",
    "        # print statistics\n",
    "        running_loss += loss.item()\n",
    "    losses_150.append(running_loss)\n",
    "    if epoch % 10 == 9:\n",
    "        print('Iteration: %d, accuracy: %.3f' %(epoch + 1, accuracy()))\n",
    "\n",
    "print('Finished Training')\n",
    "\n",
    "# Biểu đồ biểu diễn độ biến thiên của hàm mất mát qua các vòng lặp\n",
    "plt.plot([i for i in range(len(losses_150))], losses_150, label='Loss line')\n",
    "# plt.plot(X, np.array(W * X + b), label='Fitted line')\n",
    "plt.legend()\n",
    "plt.show()"
   ]
  },
  {
   "cell_type": "code",
   "execution_count": 50,
   "metadata": {},
   "outputs": [
    {
     "name": "stdout",
     "output_type": "stream",
     "text": [
      "Số lượng mẫu trong tập train mới: 51000\n",
      "Số lượng mẫu trong tập dev: 9000\n",
      "Số lượng mẫu trong tập test: 10000\n"
     ]
    }
   ],
   "source": [
    "# Chuẩn bị dữ liệu\n",
    "from tensorflow.keras.datasets import mnist\n",
    "from torch.utils.data import random_split, DataLoader, TensorDataset\n",
    "(x_train, y_train), (x_test, y_test) = mnist.load_data()\n",
    "# Chuyển đổi sang định dạng float32.\n",
    "x_train, x_test = np.array(x_train, np.float32), np.array(x_test, np.float32)\n",
    "# Chuẩn hóa ảnh từ from [0, 255] to [0, 1].\n",
    "x_train, x_test = x_train / 255., x_test / 255.\n",
    "x_train, x_test, y_train, y_test = torch.from_numpy(x_train), torch.from_numpy(x_test), torch.from_numpy(y_train).type(torch.LongTensor), torch.from_numpy(y_test).type(torch.LongTensor)\n",
    "\n",
    "train_dataset = TensorDataset(x_train, y_train)\n",
    "test_dataset = TensorDataset(x_test, y_test)\n",
    "train_size = int(0.85 * len(train_dataset))\n",
    "dev_size = len(train_dataset) - train_size\n",
    "\n",
    "train_data, dev_data = random_split(train_dataset, [train_size, dev_size])\n",
    "\n",
    "train_loader = DataLoader(train_data, batch_size=batch_size, shuffle=True)\n",
    "dev_loader = DataLoader(dev_data, batch_size=batch_size, shuffle=False)\n",
    "test_loader = DataLoader(test_dataset, batch_size=batch_size, shuffle=False)\n",
    "\n",
    "print(f\"Số lượng mẫu trong tập train mới: {len(train_data)}\")\n",
    "print(f\"Số lượng mẫu trong tập dev: {len(dev_data)}\")\n",
    "print(f\"Số lượng mẫu trong tập test: {len(test_dataset)}\")\n"
   ]
  },
  {
   "cell_type": "code",
   "execution_count": 48,
   "metadata": {},
   "outputs": [
    {
     "name": "stdout",
     "output_type": "stream",
     "text": [
      "MLPModel_3(\n",
      "  (fc1): Linear(in_features=784, out_features=256, bias=True)\n",
      "  (fc2): Linear(in_features=256, out_features=128, bias=True)\n",
      "  (fc3): Linear(in_features=128, out_features=64, bias=True)\n",
      "  (fc4): Linear(in_features=64, out_features=10, bias=True)\n",
      ")\n",
      "MLPModel_5(\n",
      "  (fc1): Linear(in_features=784, out_features=512, bias=True)\n",
      "  (fc2): Linear(in_features=512, out_features=256, bias=True)\n",
      "  (fc3): Linear(in_features=256, out_features=128, bias=True)\n",
      "  (fc4): Linear(in_features=128, out_features=64, bias=True)\n",
      "  (fc5): Linear(in_features=64, out_features=32, bias=True)\n",
      "  (fc6): Linear(in_features=32, out_features=10, bias=True)\n",
      ")\n"
     ]
    }
   ],
   "source": [
    "## định nghĩa mạng\n",
    "class MLPModel_3(nn.Module):\n",
    "    def __init__(self):\n",
    "        super(MLPModel_3, self).__init__()\n",
    "        self.fc1 = nn.Linear(num_features, 256)\n",
    "        self.fc2 = nn.Linear(256, 128)\n",
    "        self.fc3 = nn.Linear(128, 64)\n",
    "        self.fc4 = nn.Linear(64, 10)\n",
    "\n",
    "    def forward(self, x):\n",
    "        x = x.view(-1, 28 * 28)\n",
    "        x = F.relu(self.fc1(x))\n",
    "        x = F.relu(self.fc2(x))\n",
    "        x = F.relu(self.fc3(x))\n",
    "        x = self.fc4(x)\n",
    "        return x\n",
    "    \n",
    "class MLPModel_5(nn.Module):\n",
    "    def __init__(self):\n",
    "        super(MLPModel_5, self).__init__()\n",
    "        self.fc1 = nn.Linear(num_features, 512)\n",
    "        self.fc2 = nn.Linear(512, 256)\n",
    "        self.fc3 = nn.Linear(256, 128)\n",
    "        self.fc4 = nn.Linear(128, 64)\n",
    "        self.fc5 = nn.Linear(64, 32)\n",
    "        self.fc6 = nn.Linear(32, 10)\n",
    "\n",
    "    def forward(self, x):\n",
    "        x = x.view(-1, 28 * 28)\n",
    "        x = F.relu(self.fc1(x))\n",
    "        x = F.relu(self.fc2(x))\n",
    "        x = F.relu(self.fc3(x))\n",
    "        x = F.relu(self.fc4(x))\n",
    "        x = F.relu(self.fc5(x))\n",
    "        x = self.fc6(x)\n",
    "        return x\n",
    "\n",
    "# initialize the NN\n",
    "model_3 = MLPModel_3()\n",
    "model_5 = MLPModel_5()\n",
    "print(model_3)\n",
    "print(model_5)"
   ]
  },
  {
   "cell_type": "code",
   "execution_count": 52,
   "metadata": {},
   "outputs": [],
   "source": [
    "def accuracy(model, data_loader):\n",
    "    correct = 0\n",
    "    total = 0\n",
    "    # since we're not training, we don't need to calculate the gradients for our outputs\n",
    "    with torch.no_grad():\n",
    "        for data in data_loader:\n",
    "            images, labels = data\n",
    "            # calculate outputs by running images through the network\n",
    "            outputs = model(images)\n",
    "            # the class with the highest energy is what we choose as prediction\n",
    "            _, predicted = torch.max(outputs.data, 1)\n",
    "            total += labels.size(0)\n",
    "            correct += (predicted == labels).sum().item()\n",
    "\n",
    "    return correct/total"
   ]
  },
  {
   "cell_type": "code",
   "execution_count": null,
   "metadata": {},
   "outputs": [
    {
     "name": "stdout",
     "output_type": "stream",
     "text": [
      "\n",
      "============================================================\n",
      "Training MLPModel 3 layers | Learning Rate = 0.1\n",
      "============================================================\n",
      "Epoch [10/100], Loss: 0.0212\n",
      "Epoch [20/100], Loss: 0.0021\n",
      "Epoch [30/100], Loss: 0.0002\n",
      "Epoch [40/100], Loss: 0.0000\n",
      "Epoch [50/100], Loss: 0.0000\n",
      "Epoch [60/100], Loss: 0.0000\n",
      "Epoch [70/100], Loss: 0.0000\n",
      "Epoch [80/100], Loss: 0.0000\n",
      "Epoch [90/100], Loss: 0.0000\n",
      "Epoch [100/100], Loss: 0.0000\n",
      "\n",
      "Dev Accuracy: 0.9840\n",
      "\n",
      "============================================================\n",
      "Training MLPModel 3 layers | Learning Rate = 0.05\n",
      "============================================================\n",
      "Epoch [10/100], Loss: 0.0181\n",
      "Epoch [20/100], Loss: 0.0003\n",
      "Epoch [30/100], Loss: 0.0001\n",
      "Epoch [40/100], Loss: 0.0000\n",
      "Epoch [50/100], Loss: 0.0000\n",
      "Epoch [60/100], Loss: 0.0000\n",
      "Epoch [70/100], Loss: 0.0000\n",
      "Epoch [80/100], Loss: 0.0000\n",
      "Epoch [90/100], Loss: 0.0000\n",
      "Epoch [100/100], Loss: 0.0000\n",
      "\n",
      "Dev Accuracy: 0.9820\n",
      "\n",
      "============================================================\n",
      "Training MLPModel 3 layers | Learning Rate = 0.001\n",
      "============================================================\n",
      "Epoch [10/100], Loss: 0.3933\n",
      "Epoch [20/100], Loss: 0.2703\n",
      "Epoch [30/100], Loss: 0.1961\n",
      "Epoch [40/100], Loss: 0.1493\n",
      "Epoch [50/100], Loss: 0.1181\n",
      "Epoch [60/100], Loss: 0.0947\n",
      "Epoch [70/100], Loss: 0.0771\n",
      "Epoch [80/100], Loss: 0.0628\n",
      "Epoch [90/100], Loss: 0.0518\n",
      "Epoch [100/100], Loss: 0.0424\n",
      "\n",
      "Dev Accuracy: 0.9686\n",
      "\n",
      "============================================================\n",
      "TRAINING FINISHED\n",
      "============================================================\n",
      "Best Model: MLPModel 3 layers\n",
      "Learning Rate: 0.1\n",
      "Dev Accuracy: 0.9840\n",
      "Test Accuracy: 0.9847\n"
     ]
    }
   ],
   "source": [
    "import torch\n",
    "import torch.nn as nn\n",
    "import torch.optim as optim\n",
    "\n",
    "lrs = [0.1, 0.05, 0.001]  \n",
    "epochs = 100\n",
    "best_acc = 0\n",
    "best_model = None  \n",
    "best_model_config = {}\n",
    "\n",
    "for lr in lrs:\n",
    "    print(f\"\\n{'='*60}\")\n",
    "    print(f\"Training MLPModel 3 layers | Learning Rate = {lr}\")\n",
    "    print(f\"{'='*60}\")\n",
    "    \n",
    "    model = MLPModel_3()\n",
    "    criterion = nn.CrossEntropyLoss()\n",
    "    optimizer = optim.SGD(model.parameters(), lr=lr)\n",
    "    \n",
    "    for epoch in range(epochs):\n",
    "        model.train()  \n",
    "        \n",
    "        running_loss = 0.0\n",
    "        for inputs, labels in train_loader:\n",
    "            optimizer.zero_grad()\n",
    "            outputs = model(inputs)\n",
    "            loss = criterion(outputs, labels)\n",
    "            loss.backward()\n",
    "            optimizer.step()\n",
    "            \n",
    "            running_loss += loss.item()\n",
    "        \n",
    "        if (epoch + 1) % 10 == 0:\n",
    "            avg_loss = running_loss / len(train_loader)\n",
    "            print(f'Epoch [{epoch+1}/{epochs}], Loss: {avg_loss:.4f}')\n",
    "    \n",
    "    dev_acc = accuracy(model, dev_loader)\n",
    "    print(f'\\nDev Accuracy: {dev_acc:.4f}')\n",
    "    \n",
    "    if dev_acc > best_acc:\n",
    "        best_acc = dev_acc\n",
    "        best_model = model  \n",
    "        best_model_config = {\n",
    "            \"name\": \"MLPModel 3 layers\",\n",
    "            \"learning_rate\": lr,      \n",
    "            \"dev_accuracy\": dev_acc   \n",
    "        }\n",
    "\n",
    "print(\"\\n\" + \"=\"*60)\n",
    "print(\"TRAINING FINISHED\")\n",
    "print(\"=\"*60)\n",
    "print(f\"Best Model: {best_model_config['name']}\")\n",
    "print(f\"Learning Rate: {best_model_config['learning_rate']}\") \n",
    "print(f\"Dev Accuracy: {best_model_config['dev_accuracy']:.4f}\") \n",
    "\n",
    "test_acc = accuracy(best_model, test_loader)\n",
    "print(f\"Test Accuracy: {test_acc:.4f}\")\n"
   ]
  },
  {
   "cell_type": "code",
   "execution_count": null,
   "metadata": {},
   "outputs": [
    {
     "name": "stdout",
     "output_type": "stream",
     "text": [
      "\n",
      "============================================================\n",
      "Training MLPModel 5 layers | Learning Rate = 0.1\n",
      "============================================================\n",
      "Epoch [10/100], Loss: 0.0236\n",
      "Epoch [20/100], Loss: 0.0078\n",
      "Epoch [30/100], Loss: 0.0035\n",
      "Epoch [40/100], Loss: 0.0000\n",
      "Epoch [50/100], Loss: 0.0000\n",
      "Epoch [60/100], Loss: 0.0000\n",
      "Epoch [70/100], Loss: 0.0000\n",
      "Epoch [80/100], Loss: 0.0000\n",
      "Epoch [90/100], Loss: 0.0000\n",
      "Epoch [100/100], Loss: 0.0000\n",
      "\n",
      "Dev Accuracy: 0.9850\n",
      "\n",
      "============================================================\n",
      "Training MLPModel 5 layers | Learning Rate = 0.05\n",
      "============================================================\n",
      "Epoch [10/100], Loss: 0.0187\n",
      "Epoch [20/100], Loss: 0.0068\n",
      "Epoch [30/100], Loss: 0.0000\n",
      "Epoch [40/100], Loss: 0.0000\n",
      "Epoch [50/100], Loss: 0.0000\n",
      "Epoch [60/100], Loss: 0.0000\n",
      "Epoch [70/100], Loss: 0.0000\n",
      "Epoch [80/100], Loss: 0.0000\n",
      "Epoch [90/100], Loss: 0.0000\n",
      "Epoch [100/100], Loss: 0.0000\n",
      "\n",
      "Dev Accuracy: 0.9830\n",
      "\n",
      "============================================================\n",
      "Training MLPModel 5 layers | Learning Rate = 0.001\n",
      "============================================================\n",
      "Epoch [10/100], Loss: 2.2766\n",
      "Epoch [20/100], Loss: 0.4232\n",
      "Epoch [30/100], Loss: 0.2004\n",
      "Epoch [40/100], Loss: 0.1095\n",
      "Epoch [50/100], Loss: 0.0572\n",
      "Epoch [60/100], Loss: 0.0280\n",
      "Epoch [70/100], Loss: 0.0124\n",
      "Epoch [80/100], Loss: 0.0056\n",
      "Epoch [90/100], Loss: 0.0030\n",
      "Epoch [100/100], Loss: 0.0020\n",
      "\n",
      "Dev Accuracy: 0.9630\n",
      "\n",
      "============================================================\n",
      "TRAINING FINISHED\n",
      "============================================================\n",
      "Best Model: MLPModel 5 layers\n",
      "Learning Rate: 0.1\n",
      "Dev Accuracy: 0.9850\n",
      "Test Accuracy: 0.9847\n"
     ]
    }
   ],
   "source": [
    "lrs = [0.1, 0.05, 0.001]  \n",
    "epochs = 100\n",
    "best_acc = 0\n",
    "best_model = None  \n",
    "best_model_config = {}\n",
    "\n",
    "for lr in lrs:\n",
    "    print(f\"\\n{'='*60}\")\n",
    "    print(f\"Training MLPModel 5 layers | Learning Rate = {lr}\")\n",
    "    print(f\"{'='*60}\")\n",
    "    \n",
    "    model = MLPModel_5()\n",
    "    criterion = nn.CrossEntropyLoss()\n",
    "    optimizer = optim.SGD(model.parameters(), lr=lr)\n",
    "    \n",
    "    for epoch in range(epochs):\n",
    "        model.train()  \n",
    "        \n",
    "        running_loss = 0.0\n",
    "        for inputs, labels in train_loader:\n",
    "            optimizer.zero_grad()\n",
    "            outputs = model(inputs)\n",
    "            loss = criterion(outputs, labels)\n",
    "            loss.backward()\n",
    "            optimizer.step()\n",
    "            \n",
    "            running_loss += loss.item()\n",
    "        \n",
    "        if (epoch + 1) % 10 == 0:\n",
    "            avg_loss = running_loss / len(train_loader)\n",
    "            print(f'Epoch [{epoch+1}/{epochs}], Loss: {avg_loss:.4f}')\n",
    "    \n",
    "    dev_acc = accuracy(model, dev_loader)\n",
    "    print(f'\\nDev Accuracy: {dev_acc:.4f}')\n",
    "    \n",
    "    if dev_acc > best_acc:\n",
    "        best_acc = dev_acc\n",
    "        best_model = model  \n",
    "        best_model_config = {\n",
    "            \"name\": \"MLPModel 5 layers\",\n",
    "            \"learning_rate\": lr,      \n",
    "            \"dev_accuracy\": dev_acc   \n",
    "        }\n",
    "\n",
    "print(\"\\n\" + \"=\"*60)\n",
    "print(\"TRAINING FINISHED\")\n",
    "print(\"=\"*60)\n",
    "print(f\"Best Model: {best_model_config['name']}\")\n",
    "print(f\"Learning Rate: {best_model_config['learning_rate']}\") \n",
    "print(f\"Dev Accuracy: {best_model_config['dev_accuracy']:.4f}\") \n",
    "\n",
    "test_acc = accuracy(best_model, test_loader)\n",
    "print(f\"Test Accuracy: {test_acc:.4f}\")\n"
   ]
  }
 ],
 "metadata": {
  "colab": {
   "collapsed_sections": [],
   "name": "neural_network.ipynb",
   "provenance": []
  },
  "kernelspec": {
   "display_name": "base",
   "language": "python",
   "name": "python3"
  },
  "language_info": {
   "codemirror_mode": {
    "name": "ipython",
    "version": 3
   },
   "file_extension": ".py",
   "mimetype": "text/x-python",
   "name": "python",
   "nbconvert_exporter": "python",
   "pygments_lexer": "ipython3",
   "version": "3.13.5"
  }
 },
 "nbformat": 4,
 "nbformat_minor": 0
}
