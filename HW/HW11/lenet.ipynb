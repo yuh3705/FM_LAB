{
 "cells": [
  {
   "cell_type": "code",
   "execution_count": 1,
   "metadata": {
    "id": "pRKONRsrZ4lb"
   },
   "outputs": [
    {
     "name": "stdout",
     "output_type": "stream",
     "text": [
      "Requirement already satisfied: d2l==0.16.5 in d:\\anaconda\\lib\\site-packages (0.16.5)\n",
      "Requirement already satisfied: jupyter in d:\\anaconda\\lib\\site-packages (from d2l==0.16.5) (1.1.1)\n",
      "Requirement already satisfied: numpy in d:\\anaconda\\lib\\site-packages (from d2l==0.16.5) (2.3.4)\n",
      "Requirement already satisfied: matplotlib in d:\\anaconda\\lib\\site-packages (from d2l==0.16.5) (3.10.6)\n",
      "Requirement already satisfied: requests in d:\\anaconda\\lib\\site-packages (from d2l==0.16.5) (2.32.4)\n",
      "Requirement already satisfied: pandas in d:\\anaconda\\lib\\site-packages (from d2l==0.16.5) (2.3.3)\n",
      "Requirement already satisfied: notebook in d:\\anaconda\\lib\\site-packages (from jupyter->d2l==0.16.5) (7.4.7)\n",
      "Requirement already satisfied: jupyter-console in d:\\anaconda\\lib\\site-packages (from jupyter->d2l==0.16.5) (6.6.3)\n",
      "Requirement already satisfied: nbconvert in d:\\anaconda\\lib\\site-packages (from jupyter->d2l==0.16.5) (7.16.6)\n",
      "Requirement already satisfied: ipykernel in d:\\anaconda\\lib\\site-packages (from jupyter->d2l==0.16.5) (6.30.1)\n",
      "Requirement already satisfied: ipywidgets in d:\\anaconda\\lib\\site-packages (from jupyter->d2l==0.16.5) (8.1.7)\n",
      "Requirement already satisfied: jupyterlab in d:\\anaconda\\lib\\site-packages (from jupyter->d2l==0.16.5) (4.4.9)\n",
      "Requirement already satisfied: comm>=0.1.1 in d:\\anaconda\\lib\\site-packages (from ipykernel->jupyter->d2l==0.16.5) (0.2.3)\n",
      "Requirement already satisfied: debugpy>=1.6.5 in d:\\anaconda\\lib\\site-packages (from ipykernel->jupyter->d2l==0.16.5) (1.8.17)\n",
      "Requirement already satisfied: ipython>=7.23.1 in d:\\anaconda\\lib\\site-packages (from ipykernel->jupyter->d2l==0.16.5) (9.6.0)\n",
      "Requirement already satisfied: jupyter-client>=8.0.0 in d:\\anaconda\\lib\\site-packages (from ipykernel->jupyter->d2l==0.16.5) (8.6.3)\n",
      "Requirement already satisfied: jupyter-core!=5.0.*,>=4.12 in d:\\anaconda\\lib\\site-packages (from ipykernel->jupyter->d2l==0.16.5) (5.8.1)\n",
      "Requirement already satisfied: matplotlib-inline>=0.1 in d:\\anaconda\\lib\\site-packages (from ipykernel->jupyter->d2l==0.16.5) (0.1.7)\n",
      "Requirement already satisfied: nest-asyncio>=1.4 in d:\\anaconda\\lib\\site-packages (from ipykernel->jupyter->d2l==0.16.5) (1.6.0)\n",
      "Requirement already satisfied: packaging>=22 in d:\\anaconda\\lib\\site-packages (from ipykernel->jupyter->d2l==0.16.5) (25.0)\n",
      "Requirement already satisfied: psutil>=5.7 in d:\\anaconda\\lib\\site-packages (from ipykernel->jupyter->d2l==0.16.5) (7.1.0)\n",
      "Requirement already satisfied: pyzmq>=25 in d:\\anaconda\\lib\\site-packages (from ipykernel->jupyter->d2l==0.16.5) (27.1.0)\n",
      "Requirement already satisfied: tornado>=6.2 in d:\\anaconda\\lib\\site-packages (from ipykernel->jupyter->d2l==0.16.5) (6.5.2)\n",
      "Requirement already satisfied: traitlets>=5.4.0 in d:\\anaconda\\lib\\site-packages (from ipykernel->jupyter->d2l==0.16.5) (5.14.3)\n",
      "Requirement already satisfied: colorama in d:\\anaconda\\lib\\site-packages (from ipython>=7.23.1->ipykernel->jupyter->d2l==0.16.5) (0.4.6)\n",
      "Requirement already satisfied: decorator in d:\\anaconda\\lib\\site-packages (from ipython>=7.23.1->ipykernel->jupyter->d2l==0.16.5) (5.2.1)\n",
      "Requirement already satisfied: ipython-pygments-lexers in d:\\anaconda\\lib\\site-packages (from ipython>=7.23.1->ipykernel->jupyter->d2l==0.16.5) (1.1.1)\n",
      "Requirement already satisfied: jedi>=0.16 in d:\\anaconda\\lib\\site-packages (from ipython>=7.23.1->ipykernel->jupyter->d2l==0.16.5) (0.19.2)\n",
      "Requirement already satisfied: prompt_toolkit<3.1.0,>=3.0.41 in d:\\anaconda\\lib\\site-packages (from ipython>=7.23.1->ipykernel->jupyter->d2l==0.16.5) (3.0.52)\n",
      "Requirement already satisfied: pygments>=2.4.0 in d:\\anaconda\\lib\\site-packages (from ipython>=7.23.1->ipykernel->jupyter->d2l==0.16.5) (2.19.1)\n",
      "Requirement already satisfied: stack_data in d:\\anaconda\\lib\\site-packages (from ipython>=7.23.1->ipykernel->jupyter->d2l==0.16.5) (0.6.3)\n",
      "Requirement already satisfied: wcwidth in d:\\anaconda\\lib\\site-packages (from prompt_toolkit<3.1.0,>=3.0.41->ipython>=7.23.1->ipykernel->jupyter->d2l==0.16.5) (0.2.14)\n",
      "Requirement already satisfied: parso<0.9.0,>=0.8.4 in d:\\anaconda\\lib\\site-packages (from jedi>=0.16->ipython>=7.23.1->ipykernel->jupyter->d2l==0.16.5) (0.8.5)\n",
      "Requirement already satisfied: python-dateutil>=2.8.2 in d:\\anaconda\\lib\\site-packages (from jupyter-client>=8.0.0->ipykernel->jupyter->d2l==0.16.5) (2.9.0.post0)\n",
      "Requirement already satisfied: platformdirs>=2.5 in d:\\anaconda\\lib\\site-packages (from jupyter-core!=5.0.*,>=4.12->ipykernel->jupyter->d2l==0.16.5) (4.3.7)\n",
      "Requirement already satisfied: pywin32>=300 in d:\\anaconda\\lib\\site-packages (from jupyter-core!=5.0.*,>=4.12->ipykernel->jupyter->d2l==0.16.5) (311)\n",
      "Requirement already satisfied: six>=1.5 in d:\\anaconda\\lib\\site-packages (from python-dateutil>=2.8.2->jupyter-client>=8.0.0->ipykernel->jupyter->d2l==0.16.5) (1.17.0)\n",
      "Requirement already satisfied: widgetsnbextension~=4.0.14 in d:\\anaconda\\lib\\site-packages (from ipywidgets->jupyter->d2l==0.16.5) (4.0.14)\n",
      "Requirement already satisfied: jupyterlab_widgets~=3.0.15 in d:\\anaconda\\lib\\site-packages (from ipywidgets->jupyter->d2l==0.16.5) (3.0.15)\n",
      "Requirement already satisfied: async-lru>=1.0.0 in d:\\anaconda\\lib\\site-packages (from jupyterlab->jupyter->d2l==0.16.5) (2.0.5)\n",
      "Requirement already satisfied: httpx<1,>=0.25.0 in d:\\anaconda\\lib\\site-packages (from jupyterlab->jupyter->d2l==0.16.5) (0.28.1)\n",
      "Requirement already satisfied: jinja2>=3.0.3 in d:\\anaconda\\lib\\site-packages (from jupyterlab->jupyter->d2l==0.16.5) (3.1.6)\n",
      "Requirement already satisfied: jupyter-lsp>=2.0.0 in d:\\anaconda\\lib\\site-packages (from jupyterlab->jupyter->d2l==0.16.5) (2.3.0)\n",
      "Requirement already satisfied: jupyter-server<3,>=2.4.0 in d:\\anaconda\\lib\\site-packages (from jupyterlab->jupyter->d2l==0.16.5) (2.17.0)\n",
      "Requirement already satisfied: jupyterlab-server<3,>=2.27.1 in d:\\anaconda\\lib\\site-packages (from jupyterlab->jupyter->d2l==0.16.5) (2.27.3)\n",
      "Requirement already satisfied: notebook-shim>=0.2 in d:\\anaconda\\lib\\site-packages (from jupyterlab->jupyter->d2l==0.16.5) (0.2.4)\n",
      "Requirement already satisfied: setuptools>=41.1.0 in d:\\anaconda\\lib\\site-packages (from jupyterlab->jupyter->d2l==0.16.5) (72.1.0)\n",
      "Requirement already satisfied: anyio in d:\\anaconda\\lib\\site-packages (from httpx<1,>=0.25.0->jupyterlab->jupyter->d2l==0.16.5) (4.11.0)\n",
      "Requirement already satisfied: certifi in d:\\anaconda\\lib\\site-packages (from httpx<1,>=0.25.0->jupyterlab->jupyter->d2l==0.16.5) (2025.10.5)\n",
      "Requirement already satisfied: httpcore==1.* in d:\\anaconda\\lib\\site-packages (from httpx<1,>=0.25.0->jupyterlab->jupyter->d2l==0.16.5) (1.0.9)\n",
      "Requirement already satisfied: idna in d:\\anaconda\\lib\\site-packages (from httpx<1,>=0.25.0->jupyterlab->jupyter->d2l==0.16.5) (3.7)\n",
      "Requirement already satisfied: h11>=0.16 in d:\\anaconda\\lib\\site-packages (from httpcore==1.*->httpx<1,>=0.25.0->jupyterlab->jupyter->d2l==0.16.5) (0.16.0)\n",
      "Requirement already satisfied: argon2-cffi>=21.1 in d:\\anaconda\\lib\\site-packages (from jupyter-server<3,>=2.4.0->jupyterlab->jupyter->d2l==0.16.5) (25.1.0)\n",
      "Requirement already satisfied: jupyter-events>=0.11.0 in d:\\anaconda\\lib\\site-packages (from jupyter-server<3,>=2.4.0->jupyterlab->jupyter->d2l==0.16.5) (0.12.0)\n",
      "Requirement already satisfied: jupyter-server-terminals>=0.4.4 in d:\\anaconda\\lib\\site-packages (from jupyter-server<3,>=2.4.0->jupyterlab->jupyter->d2l==0.16.5) (0.5.3)\n",
      "Requirement already satisfied: nbformat>=5.3.0 in d:\\anaconda\\lib\\site-packages (from jupyter-server<3,>=2.4.0->jupyterlab->jupyter->d2l==0.16.5) (5.10.4)\n",
      "Requirement already satisfied: prometheus-client>=0.9 in d:\\anaconda\\lib\\site-packages (from jupyter-server<3,>=2.4.0->jupyterlab->jupyter->d2l==0.16.5) (0.23.1)\n",
      "Requirement already satisfied: pywinpty>=2.0.1 in d:\\anaconda\\lib\\site-packages (from jupyter-server<3,>=2.4.0->jupyterlab->jupyter->d2l==0.16.5) (2.0.15)\n",
      "Requirement already satisfied: send2trash>=1.8.2 in d:\\anaconda\\lib\\site-packages (from jupyter-server<3,>=2.4.0->jupyterlab->jupyter->d2l==0.16.5) (1.8.3)\n",
      "Requirement already satisfied: terminado>=0.8.3 in d:\\anaconda\\lib\\site-packages (from jupyter-server<3,>=2.4.0->jupyterlab->jupyter->d2l==0.16.5) (0.18.1)\n",
      "Requirement already satisfied: websocket-client>=1.7 in d:\\anaconda\\lib\\site-packages (from jupyter-server<3,>=2.4.0->jupyterlab->jupyter->d2l==0.16.5) (1.8.0)\n",
      "Requirement already satisfied: babel>=2.10 in d:\\anaconda\\lib\\site-packages (from jupyterlab-server<3,>=2.27.1->jupyterlab->jupyter->d2l==0.16.5) (2.17.0)\n",
      "Requirement already satisfied: json5>=0.9.0 in d:\\anaconda\\lib\\site-packages (from jupyterlab-server<3,>=2.27.1->jupyterlab->jupyter->d2l==0.16.5) (0.12.1)\n",
      "Requirement already satisfied: jsonschema>=4.18.0 in d:\\anaconda\\lib\\site-packages (from jupyterlab-server<3,>=2.27.1->jupyterlab->jupyter->d2l==0.16.5) (4.25.1)\n",
      "Requirement already satisfied: sniffio>=1.1 in d:\\anaconda\\lib\\site-packages (from anyio->httpx<1,>=0.25.0->jupyterlab->jupyter->d2l==0.16.5) (1.3.1)\n",
      "Requirement already satisfied: argon2-cffi-bindings in d:\\anaconda\\lib\\site-packages (from argon2-cffi>=21.1->jupyter-server<3,>=2.4.0->jupyterlab->jupyter->d2l==0.16.5) (25.1.0)\n",
      "Requirement already satisfied: MarkupSafe>=2.0 in d:\\anaconda\\lib\\site-packages (from jinja2>=3.0.3->jupyterlab->jupyter->d2l==0.16.5) (3.0.3)\n",
      "Requirement already satisfied: attrs>=22.2.0 in d:\\anaconda\\lib\\site-packages (from jsonschema>=4.18.0->jupyterlab-server<3,>=2.27.1->jupyterlab->jupyter->d2l==0.16.5) (25.4.0)\n",
      "Requirement already satisfied: jsonschema-specifications>=2023.03.6 in d:\\anaconda\\lib\\site-packages (from jsonschema>=4.18.0->jupyterlab-server<3,>=2.27.1->jupyterlab->jupyter->d2l==0.16.5) (2025.9.1)\n",
      "Requirement already satisfied: referencing>=0.28.4 in d:\\anaconda\\lib\\site-packages (from jsonschema>=4.18.0->jupyterlab-server<3,>=2.27.1->jupyterlab->jupyter->d2l==0.16.5) (0.36.2)\n",
      "Requirement already satisfied: rpds-py>=0.7.1 in d:\\anaconda\\lib\\site-packages (from jsonschema>=4.18.0->jupyterlab-server<3,>=2.27.1->jupyterlab->jupyter->d2l==0.16.5) (0.27.1)\n",
      "Requirement already satisfied: python-json-logger>=2.0.4 in d:\\anaconda\\lib\\site-packages (from jupyter-events>=0.11.0->jupyter-server<3,>=2.4.0->jupyterlab->jupyter->d2l==0.16.5) (2.0.7)\n",
      "Requirement already satisfied: pyyaml>=5.3 in d:\\anaconda\\lib\\site-packages (from jupyter-events>=0.11.0->jupyter-server<3,>=2.4.0->jupyterlab->jupyter->d2l==0.16.5) (6.0.3)\n",
      "Requirement already satisfied: rfc3339-validator in d:\\anaconda\\lib\\site-packages (from jupyter-events>=0.11.0->jupyter-server<3,>=2.4.0->jupyterlab->jupyter->d2l==0.16.5) (0.1.4)\n",
      "Requirement already satisfied: rfc3986-validator>=0.1.1 in d:\\anaconda\\lib\\site-packages (from jupyter-events>=0.11.0->jupyter-server<3,>=2.4.0->jupyterlab->jupyter->d2l==0.16.5) (0.1.1)\n",
      "Requirement already satisfied: fqdn in d:\\anaconda\\lib\\site-packages (from jsonschema[format-nongpl]>=4.18.0->jupyter-events>=0.11.0->jupyter-server<3,>=2.4.0->jupyterlab->jupyter->d2l==0.16.5) (1.5.1)\n",
      "Requirement already satisfied: isoduration in d:\\anaconda\\lib\\site-packages (from jsonschema[format-nongpl]>=4.18.0->jupyter-events>=0.11.0->jupyter-server<3,>=2.4.0->jupyterlab->jupyter->d2l==0.16.5) (20.11.0)\n",
      "Requirement already satisfied: jsonpointer>1.13 in d:\\anaconda\\lib\\site-packages (from jsonschema[format-nongpl]>=4.18.0->jupyter-events>=0.11.0->jupyter-server<3,>=2.4.0->jupyterlab->jupyter->d2l==0.16.5) (3.0.0)\n",
      "Requirement already satisfied: rfc3987-syntax>=1.1.0 in d:\\anaconda\\lib\\site-packages (from jsonschema[format-nongpl]>=4.18.0->jupyter-events>=0.11.0->jupyter-server<3,>=2.4.0->jupyterlab->jupyter->d2l==0.16.5) (1.1.0)\n",
      "Requirement already satisfied: uri-template in d:\\anaconda\\lib\\site-packages (from jsonschema[format-nongpl]>=4.18.0->jupyter-events>=0.11.0->jupyter-server<3,>=2.4.0->jupyterlab->jupyter->d2l==0.16.5) (1.3.0)\n",
      "Requirement already satisfied: webcolors>=24.6.0 in d:\\anaconda\\lib\\site-packages (from jsonschema[format-nongpl]>=4.18.0->jupyter-events>=0.11.0->jupyter-server<3,>=2.4.0->jupyterlab->jupyter->d2l==0.16.5) (24.11.1)\n",
      "Requirement already satisfied: beautifulsoup4 in d:\\anaconda\\lib\\site-packages (from nbconvert->jupyter->d2l==0.16.5) (4.14.2)\n",
      "Requirement already satisfied: bleach!=5.0.0 in d:\\anaconda\\lib\\site-packages (from bleach[css]!=5.0.0->nbconvert->jupyter->d2l==0.16.5) (6.2.0)\n",
      "Requirement already satisfied: defusedxml in d:\\anaconda\\lib\\site-packages (from nbconvert->jupyter->d2l==0.16.5) (0.7.1)\n",
      "Requirement already satisfied: jupyterlab-pygments in d:\\anaconda\\lib\\site-packages (from nbconvert->jupyter->d2l==0.16.5) (0.3.0)\n",
      "Requirement already satisfied: mistune<4,>=2.0.3 in d:\\anaconda\\lib\\site-packages (from nbconvert->jupyter->d2l==0.16.5) (3.1.4)\n",
      "Requirement already satisfied: nbclient>=0.5.0 in d:\\anaconda\\lib\\site-packages (from nbconvert->jupyter->d2l==0.16.5) (0.10.2)\n",
      "Requirement already satisfied: pandocfilters>=1.4.1 in d:\\anaconda\\lib\\site-packages (from nbconvert->jupyter->d2l==0.16.5) (1.5.0)\n",
      "Requirement already satisfied: webencodings in d:\\anaconda\\lib\\site-packages (from bleach!=5.0.0->bleach[css]!=5.0.0->nbconvert->jupyter->d2l==0.16.5) (0.5.1)\n",
      "Requirement already satisfied: tinycss2<1.5,>=1.1.0 in d:\\anaconda\\lib\\site-packages (from bleach[css]!=5.0.0->nbconvert->jupyter->d2l==0.16.5) (1.4.0)\n",
      "Requirement already satisfied: fastjsonschema>=2.15 in d:\\anaconda\\lib\\site-packages (from nbformat>=5.3.0->jupyter-server<3,>=2.4.0->jupyterlab->jupyter->d2l==0.16.5) (2.21.2)\n",
      "Requirement already satisfied: charset_normalizer<4,>=2 in d:\\anaconda\\lib\\site-packages (from requests->d2l==0.16.5) (3.3.2)\n",
      "Requirement already satisfied: urllib3<3,>=1.21.1 in d:\\anaconda\\lib\\site-packages (from requests->d2l==0.16.5) (2.5.0)\n",
      "Requirement already satisfied: lark>=1.2.2 in d:\\anaconda\\lib\\site-packages (from rfc3987-syntax>=1.1.0->jsonschema[format-nongpl]>=4.18.0->jupyter-events>=0.11.0->jupyter-server<3,>=2.4.0->jupyterlab->jupyter->d2l==0.16.5) (1.3.0)\n",
      "Requirement already satisfied: cffi>=1.0.1 in d:\\anaconda\\lib\\site-packages (from argon2-cffi-bindings->argon2-cffi>=21.1->jupyter-server<3,>=2.4.0->jupyterlab->jupyter->d2l==0.16.5) (1.17.1)\n",
      "Requirement already satisfied: pycparser in d:\\anaconda\\lib\\site-packages (from cffi>=1.0.1->argon2-cffi-bindings->argon2-cffi>=21.1->jupyter-server<3,>=2.4.0->jupyterlab->jupyter->d2l==0.16.5) (2.21)\n",
      "Requirement already satisfied: soupsieve>1.2 in d:\\anaconda\\lib\\site-packages (from beautifulsoup4->nbconvert->jupyter->d2l==0.16.5) (2.8)\n",
      "Requirement already satisfied: typing-extensions>=4.0.0 in d:\\anaconda\\lib\\site-packages (from beautifulsoup4->nbconvert->jupyter->d2l==0.16.5) (4.12.2)\n",
      "Requirement already satisfied: arrow>=0.15.0 in d:\\anaconda\\lib\\site-packages (from isoduration->jsonschema[format-nongpl]>=4.18.0->jupyter-events>=0.11.0->jupyter-server<3,>=2.4.0->jupyterlab->jupyter->d2l==0.16.5) (1.3.0)\n",
      "Requirement already satisfied: types-python-dateutil>=2.8.10 in d:\\anaconda\\lib\\site-packages (from arrow>=0.15.0->isoduration->jsonschema[format-nongpl]>=4.18.0->jupyter-events>=0.11.0->jupyter-server<3,>=2.4.0->jupyterlab->jupyter->d2l==0.16.5) (2.9.0.20250822)\n",
      "Requirement already satisfied: contourpy>=1.0.1 in d:\\anaconda\\lib\\site-packages (from matplotlib->d2l==0.16.5) (1.3.1)\n",
      "Requirement already satisfied: cycler>=0.10 in d:\\anaconda\\lib\\site-packages (from matplotlib->d2l==0.16.5) (0.11.0)\n",
      "Requirement already satisfied: fonttools>=4.22.0 in d:\\anaconda\\lib\\site-packages (from matplotlib->d2l==0.16.5) (4.60.1)\n",
      "Requirement already satisfied: kiwisolver>=1.3.1 in d:\\anaconda\\lib\\site-packages (from matplotlib->d2l==0.16.5) (1.4.8)\n",
      "Requirement already satisfied: pillow>=8 in d:\\anaconda\\lib\\site-packages (from matplotlib->d2l==0.16.5) (11.1.0)\n",
      "Requirement already satisfied: pyparsing>=2.3.1 in d:\\anaconda\\lib\\site-packages (from matplotlib->d2l==0.16.5) (3.2.0)\n",
      "Requirement already satisfied: pytz>=2020.1 in d:\\anaconda\\lib\\site-packages (from pandas->d2l==0.16.5) (2025.2)\n",
      "Requirement already satisfied: tzdata>=2022.7 in d:\\anaconda\\lib\\site-packages (from pandas->d2l==0.16.5) (2025.2)\n",
      "Requirement already satisfied: executing>=1.2.0 in d:\\anaconda\\lib\\site-packages (from stack_data->ipython>=7.23.1->ipykernel->jupyter->d2l==0.16.5) (2.2.1)\n",
      "Requirement already satisfied: asttokens>=2.1.0 in d:\\anaconda\\lib\\site-packages (from stack_data->ipython>=7.23.1->ipykernel->jupyter->d2l==0.16.5) (3.0.0)\n",
      "Requirement already satisfied: pure_eval in d:\\anaconda\\lib\\site-packages (from stack_data->ipython>=7.23.1->ipykernel->jupyter->d2l==0.16.5) (0.2.3)\n"
     ]
    }
   ],
   "source": [
    "# cài bộ thư viện d2l\n",
    "!pip install d2l==0.16.5\n"
   ]
  },
  {
   "cell_type": "markdown",
   "metadata": {
    "id": "0-xY34dhZ4lc",
    "origin_pos": 0
   },
   "source": [
    "# Convolutional Neural Networks (LeNet)\n",
    "\n",
    "Bây giờ ta đã sẵn sàng kết hợp tất cả các công cụ lại với nhau để triển khai mạng nơ-ron tích chập hoàn chỉnh. Trong lần trước, chúng ta đã áp dụng softmax regression và một perceptron đa tầng cho ảnh quần áo trong bộ dữ liệu Fashion-MNIST.\n",
    "\n",
    "Để tương thích với đầu vào dạng vector một chiều với độ dài cố định của các perceptron đa tầng, đầu tiên ta trải phẳng từng hình ảnh và thu được các vector có chiều dài 784, trước khi xử lý chúng với một chuỗi các tầng kết nối đầy đủ.\n",
    "\n",
    "Bây giờ đã có các tầng tích chập, ta có thể giữ nguyên ảnh đầu vào ở dạng không gian hai chiều như ảnh gốc và xử lý chúng với một chuỗi các tầng tích chập liên tiếp. Hơn nữa, vì ta đang sử dụng các tầng tích chập, số lượng tham số cần thiết sẽ giảm đi đáng kể.\n",
    "\n",
    "Trong phần này, chúng tôi sẽ giới thiệu một trong những mạng nơ-ron tích chập được công bố đầu tiên. Ưu điểm của mạng tích chập được minh hoạ lần đầu bởi Yann Lecun (lúc đó đang nghiên cứu tại AT&T Bell Labs) với ứng dụng nhận dạng các số viết tay trong ảnh-LeNet5. Vào những năm 90, các thí nghiệm của các nhà nghiên cứu với LeNet đã đưa ra bằng chứng thuyết phục đầu tiên về tính khả thi của việc huấn luyện mạng nơ-ron tích chập bằng lan truyền ngược. Mô hình của họ đã đạt được kết quả rất tốt (chỉ có Máy Vector Hỗ trợ — SVM tại thời điểm đó là có thể sánh bằng) và đã được đưa vào sử dụng để nhận diện các chữ số khi xử lý tiền gửi trong máy ATM. Một số máy ATM vẫn chạy các đoạn mã mà Yann và đồng nghiệp Leon Bottou đã viết vào những năm 1990!\n",
    "\n",
    "\n",
    "## LeNet\n",
    "\n",
    "Có thể coi đơn giản LeNet gồm 2 phần : \n",
    "\n",
    "(i) một khối các tầng tích chập\n",
    "\n",
    "(ii) một khối các tầng kết nối đầy đủ\n",
    "\n",
    "![Data flow in LeNet. The input is a handwritten digit, the output a probability over 10 possible outcomes.](http://d2l.ai/_images/lenet.svg)\n",
    "<!-- :label:`img_lenet` -->\n",
    "\n",
    "Các đơn vị cơ bản trong khối tích chập là một tầng tích chập và một lớp gộp trung bình theo sau (lưu ý rằng gộp cực đại hoạt động tốt hơn, nhưng nó chưa được phát minh vào những năm 90). Tầng tích chập được sử dụng để nhận dạng các mẫu không gian trong ảnh, chẳng hạn như các đường cạnh và các bộ phận của vật thể, lớp gộp trung bình phía sau được dùng để giảm số chiều. Khối tầng tích chập tạo nên từ việc xếp chồng các khối nhỏ gồm hai đơn vị cơ bản này. Mỗi tầng tích chập sử dụng kernel size có kích thước  5×5  và xử lý mỗi đầu ra với một hàm kích hoạt sigmoid (ReLU hiện được biết là hoạt động đáng tin cậy hơn, nhưng chưa được phát minh vào thời điểm đó!). Tầng tích chập đầu tiên có 6 kênh đầu ra và tầng tích chập thứ hai tăng độ sâu kênh hơn nữa lên 16.\n",
    "\n",
    "Tuy nhiên, cùng với sự gia tăng số lượng kênh này, chiều cao và chiều rộng lại giảm đáng kể. Do đó, việc tăng số lượng kênh đầu ra làm cho kích thước tham số của hai tầng tích chập tương tự nhau. Hai lớp gộp trung bình có kích thước  2×2  và sải bước bằng 2 (điều này có nghĩa là chúng không chồng chéo). Nói cách khác, lớp gộp giảm kích thước của các biểu diễn còn một phần tư kích thước trước khi gộp.\n",
    "\n",
    "Đầu ra của khối tích chập có kích thước được xác định bằng (kích thước batch, kênh, chiều cao, chiều rộng). Trước khi chuyển đầu ra của khối tích chập sang khối kết nối đầy đủ, ta phải trải phẳng từng mẫu trong minibatch. Nói cách khác, ta biến đổi đầu vào 4D thành đầu vào 2D tương thích với các tầng kết nối đầy đủ: nhắc lại, chiều thứ nhất là chỉ số các mẫu trong minibatch và chiều thứ hai là biểu diễn vector phẳng của mỗi mẫu. Khối tầng kết nối đầy đủ của LeNet có ba tầng kết nối đầy đủ, với số lượng đầu ra lần lượt là 120, 84 và 10. Bởi vì ta đang thực hiện bài toán phân loại, tầng đầu ra 10 chiều tương ứng với số lượng các lớp đầu ra khả thi (10 chữ số từ 0 đến 9).\n",
    "\n",
    "Để thực sự hiểu những gì diễn ra bên trong LeNet có thể đòi hỏi một chút nỗ lực, tuy nhiên bạn có thể thấy bên dưới đây việc lập trình Lenet bằng thư viện học sâu hiện đại rất đơn giản. Một lần nữa, ta sẽ dựa vào lớp Sequential.\n",
    "\n",
    "\n"
   ]
  },
  {
   "cell_type": "code",
   "execution_count": 2,
   "metadata": {
    "id": "3o43w0PmZ4ld",
    "origin_pos": 3,
    "tab": [
     "tensorflow"
    ]
   },
   "outputs": [],
   "source": [
    "import torch\n",
    "from torch import nn\n",
    "from d2l import torch as d2l\n",
    "\n",
    "net = nn.Sequential(nn.Conv2d(1, 6, kernel_size=5, padding=2), nn.Sigmoid(),\n",
    "                    nn.AvgPool2d(kernel_size=2, stride=2),\n",
    "                    nn.Conv2d(6, 16, kernel_size=5), nn.Sigmoid(),\n",
    "                    nn.AvgPool2d(kernel_size=2, stride=2), nn.Flatten(),\n",
    "                    nn.Linear(16*5*5, 120), nn.Sigmoid(),\n",
    "                    nn.Linear(120, 84), nn.Sigmoid(), nn.Linear(84, 10))"
   ]
  },
  {
   "cell_type": "markdown",
   "metadata": {
    "id": "4VK4Xf8TZ4le",
    "origin_pos": 4
   },
   "source": [
    "So với mạng ban đầu, ta đã thay thế kích hoạt Gauss ở tầng cuối cùng bằng một tầng kết nối đầy đủ thông thường mà thường dễ huấn luyện hơn đáng kể. Ngoại trừ điểm đó, mạng này giống với định nghĩa gốc của LeNet5.\n",
    "\n",
    "Tiếp theo, ta hãy xem một ví dụ dưới đây. Như trong hình, ta đưa vào mạng một mẫu đơn kênh kích thước  28×28  và thực hiện một lượt truyền xuôi qua các tầng và in kích thước đầu ra ở mỗi tầng để hiểu rõ những gì đang xảy ra bên trong.\n",
    "\n",
    "\n",
    "![Compressed notation for LeNet-5.](https://github.com/d2l-ai/d2l-tensorflow-colab/blob/master/img/lenet-vert.svg?raw=1)\n",
    "<!-- :label:`img_lenet_vert` -->"
   ]
  },
  {
   "cell_type": "code",
   "execution_count": 3,
   "metadata": {
    "colab": {
     "base_uri": "https://localhost:8080/"
    },
    "executionInfo": {
     "elapsed": 484,
     "status": "ok",
     "timestamp": 1629997758588,
     "user": {
      "displayName": "Max Ph",
      "photoUrl": "",
      "userId": "05319390549713197190"
     },
     "user_tz": -420
    },
    "id": "I1vPKbzzZ4le",
    "origin_pos": 7,
    "outputId": "607fec26-d369-4b06-a6cd-b630ad538d4c",
    "tab": [
     "tensorflow"
    ]
   },
   "outputs": [
    {
     "name": "stdout",
     "output_type": "stream",
     "text": [
      "Conv2d output shape: \t torch.Size([1, 6, 28, 28])\n",
      "Sigmoid output shape: \t torch.Size([1, 6, 28, 28])\n",
      "AvgPool2d output shape: \t torch.Size([1, 6, 14, 14])\n",
      "Conv2d output shape: \t torch.Size([1, 16, 10, 10])\n",
      "Sigmoid output shape: \t torch.Size([1, 16, 10, 10])\n",
      "AvgPool2d output shape: \t torch.Size([1, 16, 5, 5])\n",
      "Flatten output shape: \t torch.Size([1, 400])\n",
      "Linear output shape: \t torch.Size([1, 120])\n",
      "Sigmoid output shape: \t torch.Size([1, 120])\n",
      "Linear output shape: \t torch.Size([1, 84])\n",
      "Sigmoid output shape: \t torch.Size([1, 84])\n",
      "Linear output shape: \t torch.Size([1, 10])\n"
     ]
    }
   ],
   "source": [
    "X = torch.rand(size=(1, 1, 28, 28), dtype=torch.float32)\n",
    "for layer in net:\n",
    "    X = layer(X)\n",
    "    print(layer.__class__.__name__, 'output shape: \\t', X.shape)"
   ]
  },
  {
   "cell_type": "markdown",
   "metadata": {
    "id": "o_RwNqBEZ4lf",
    "origin_pos": 8
   },
   "source": [
    "chú ý rằng, chiều cao và chiều rộng của biểu diễn sau mỗi tầng trong toàn bộ khối tích chập sẽ giảm theo chiều sâu của mạng(so với chiều cao và chiều rộng của biểu diễn ở tầng trước). Tầng tích chập đầu tiên sử dụng một hạt nhân với chiều cao và chiều rộng là  5  rồi đệm thêm  2  đơn vị điểm ảnh để giữ nguyên kích thước đầu vào. Trong khi đó, tầng tích chập thứ hai cũng dùng cùng một hạt nhân với kích thước là  5×5  mà không có sử dụng giá trị đệm thêm vào, dẫn đến việc chiều cao và chiều rộng giảm đi 4 đơn vị điểm ảnh. Ngoài ra, mỗi tầng gộp sẽ làm giảm đi một nửa chiều cao và chiều rộng của đặc trưng ánh xạ đầu vào. Tuy nhiên, khi chúng ta đi theo chiều sâu của mạng, số kênh sẽ tăng lần lượt theo từng tầng. Từ 1 kênh của dữ liệu đầu vào lên tới 6 kênh sau tầng tích chập thứ nhất và 16 kênh sau tầng tích chập thứ hai. Sau đó,giảm số chiều lần lượt qua từng tầng kết nối đầy đủ đến khi trả về một đầu ra có kích thước bằng số lượng lớp của hình ảnh.\n",
    "\n",
    "## Training"
   ]
  },
  {
   "cell_type": "code",
   "execution_count": 4,
   "metadata": {
    "id": "Kr6Bjqu9Z4lg",
    "origin_pos": 9,
    "tab": [
     "tensorflow"
    ]
   },
   "outputs": [],
   "source": [
    "batch_size = 256\n",
    "train_iter, test_iter = d2l.load_data_fashion_mnist(batch_size=batch_size)"
   ]
  },
  {
   "cell_type": "markdown",
   "metadata": {
    "id": "sqDNuWJtZ4lg",
    "origin_pos": 10
   },
   "source": [
    "Dù mạng tích chập có thể có số lượng tham số không lớn, chúng vẫn tiêu tốn nhiều tài nguyên tính toán hơn so với perceptron sâu đa tầng. Vì vậy, nếu có sẵn GPU, thì đây là thời điểm thích hợp để dùng nó nhằm tăng tốc quá trình huấn luyện."
   ]
  },
  {
   "cell_type": "markdown",
   "metadata": {
    "id": "qnPwhPOFZ4lh",
    "origin_pos": 14
   },
   "source": [
    "Chúng ta cũng cần phải cập nhật hàm huấn luyện để mô hình có thể chạy được trên GPU. Chúng ta cần chuyển từng batch dữ liệu tới ngữ cảnh được chỉ định (hy vọng là GPU thay vì CPU) trước khi thực hiện lượt truyền xuôi và lượt truyền ngược.\n",
    "\n",
    "Để đơn giản khi làm việc với mạng nơ-ron có tới hàng chục tầng, hàm train_ch6 chỉ hỗ trợ các mô hình được xây dựng bằng thư viện Gluon. Để khởi tạo bộ tham số của mô hình trên thiết bị đã được chỉ định bởi ctx, ta sẽ sử dụng bộ khởi tạo Xavier. Ta vẫn sử dụng hàm mất mát entropy chéo và thuật toán huấn luyện là phương pháp hạ gradient ngẫu nhiên theo minibatch. Với mỗi epoch tốn khoảng hàng chục giây để chạy, ta sẽ vẽ đường biểu diễn giá trị mất mát huấn luyện với nhiều giá trị chi tiết hơn."
   ]
  },
  {
   "cell_type": "code",
   "execution_count": 5,
   "metadata": {
    "id": "rgJG4NnAZ4li",
    "origin_pos": 17,
    "tab": [
     "tensorflow"
    ]
   },
   "outputs": [],
   "source": [
    "def evaluate_accuracy_gpu(net, data_iter, device=None): # None này có thể để nguyên !\n",
    "    if isinstance(net, nn.Module):\n",
    "        net.eval()  \n",
    "        if not device:\n",
    "            device = next(iter(net.parameters())).device\n",
    "\n",
    "    metric = d2l.Accumulator(2)\n",
    "\n",
    "    with torch.no_grad():\n",
    "        for X, y in data_iter:\n",
    "            if isinstance(X, list):\n",
    "                X = [x.to(device) for x in X]\n",
    "            else:\n",
    "                X = X.to(device)\n",
    "            y = y.to(device)\n",
    "            metric.add(d2l.accuracy(net(X), y), y.numel())\n",
    "    return metric[0] / metric[1]"
   ]
  },
  {
   "cell_type": "code",
   "execution_count": 6,
   "metadata": {
    "id": "BvjREdIEbsQR"
   },
   "outputs": [],
   "source": [
    "# Không cần thay đổi hàm này nhé bạn\n",
    "def train_ch6(net, train_iter, test_iter, num_epochs, lr, device):\n",
    "    def init_weights(m):\n",
    "        if type(m) == nn.Linear or type(m) == nn.Conv2d:\n",
    "            nn.init.xavier_uniform_(m.weight)\n",
    "\n",
    "    net.apply(init_weights)\n",
    "    print('training on', device)\n",
    "    net.to(device) # chuyển model sang device trên\n",
    "    optimizer = torch.optim.SGD(net.parameters(), lr=lr) # optimizer\n",
    "    criterion = nn.CrossEntropyLoss() # loss f\n",
    "    animator = d2l.Animator(xlabel='epoch', xlim=[1, num_epochs],\n",
    "                            legend=['train loss', 'train acc', 'test acc'])\n",
    "    timer, num_batches = d2l.Timer(), len(train_iter)\n",
    "    for epoch in range(num_epochs):\n",
    "        # Sum of training loss, sum of training accuracy, no. of examples\n",
    "        metric = d2l.Accumulator(3)\n",
    "        net.train()\n",
    "        for i, (X, y) in enumerate(train_iter):\n",
    "            timer.start()\n",
    "            optimizer.zero_grad() # zero grad\n",
    "            X, y = X.to(device) , y.to(device) # which device? \n",
    "            y_hat = net(X)\n",
    "            l = criterion(y_hat, y) # loss\n",
    "            l.backward() # backward\n",
    "            optimizer.step() # update\n",
    "            with torch.no_grad():\n",
    "                metric.add(l * X.shape[0], d2l.accuracy(y_hat, y), X.shape[0])\n",
    "            timer.stop()\n",
    "            train_l = metric[0] / metric[2]\n",
    "            train_acc = metric[1] / metric[2]\n",
    "            if (i + 1) % (num_batches // 5) == 0 or i == num_batches - 1:\n",
    "                animator.add(epoch + (i + 1) / num_batches,\n",
    "                             (train_l, train_acc, None))\n",
    "        test_acc = evaluate_accuracy_gpu(net, test_iter) # evaluate model với test_iter\n",
    "        animator.add(epoch + 1, (None, None, test_acc))\n",
    "    print(f'loss {train_l:.3f}, train acc {train_acc:.3f}, '\n",
    "          f'test acc {test_acc:.3f}')\n",
    "    print(f'{metric[2] * num_epochs / timer.sum():.1f} examples/sec '\n",
    "          f'on {str(device)}')"
   ]
  },
  {
   "cell_type": "code",
   "execution_count": 8,
   "metadata": {
    "id": "ougTJ-GPZ4lj",
    "origin_pos": 19,
    "tab": [
     "tensorflow"
    ]
   },
   "outputs": [
    {
     "name": "stdout",
     "output_type": "stream",
     "text": [
      "loss 0.469, train acc 0.825, test acc 0.814\n",
      "65377.2 examples/sec on cuda:0\n"
     ]
    },
    {
     "data": {
      "image/png": "[encoded data removed]",
      "text/plain": [
       "<Figure size 350x250 with 1 Axes>"
      ]
     },
     "metadata": {},
     "output_type": "display_data"
    }
   ],
   "source": [
    "#Bắt đầu traning vói train_ch6\n",
    "def use_svg_display_dummy():\n",
    "    pass\n",
    "d2l.use_svg_display = use_svg_display_dummy\n",
    "lr, num_epochs = 0.9, 10\n",
    "train_ch6(net, train_iter, test_iter, num_epochs, lr, d2l.try_gpu())"
   ]
  },
  {
   "cell_type": "markdown",
   "metadata": {
    "id": "4SyS9FXAZ4lk",
    "origin_pos": 20
   },
   "source": [
    "## Summary\n",
    "\n",
    "* Mạng nơ-ron tích chập (gọi tắt là ConvNet) là một mạng sử dụng các tầng tích chập.\n",
    "\n",
    "* Trong ConvNet, ta xen kẽ các phép tích chập, các hàm phi tuyến và các phép gộp.\n",
    "\n",
    "* Độ phân giải được giảm xuống trước khi tạo một đầu ra thông qua một (hoặc nhiều) tầng kết nối dày đặc.\n",
    "\n",
    "* Trong CNN truyền thống, các biểu diễn được mã hóa bởi các khối tích chập được xử lý bởi một hoặc nhiều lớp FC trước khi output.\n",
    "\n",
    "* LeNet là mạng ConvNet đầu tiên được triển khai thành công.\n",
    "\n",
    "\n"
   ]
  },
  {
   "cell_type": "markdown",
   "metadata": {
    "id": "qQKEbjBwZ4lk",
    "origin_pos": 23,
    "tab": [
     "tensorflow"
    ]
   },
   "source": [
    "[Discussions](https://discuss.d2l.ai/t/275)\n"
   ]
  }
 ],
 "metadata": {
  "accelerator": "GPU",
  "colab": {
   "collapsed_sections": [],
   "name": "lenet.ipynb",
   "provenance": []
  },
  "kernelspec": {
   "display_name": "base",
   "language": "python",
   "name": "python3"
  },
  "language_info": {
   "codemirror_mode": {
    "name": "ipython",
    "version": 3
   },
   "file_extension": ".py",
   "mimetype": "text/x-python",
   "name": "python",
   "nbconvert_exporter": "python",
   "pygments_lexer": "ipython3",
   "version": "3.13.5"
  }
 },
 "nbformat": 4,
 "nbformat_minor": 0
}
