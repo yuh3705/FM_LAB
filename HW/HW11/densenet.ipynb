{
 "cells": [
  {
   "cell_type": "code",
   "execution_count": 31,
   "metadata": {
    "id": "nzU6iWmId26Q"
   },
   "outputs": [
    {
     "name": "stdout",
     "output_type": "stream",
     "text": [
      "Requirement already satisfied: d2l==0.16.5 in d:\\anaconda\\lib\\site-packages (0.16.5)\n",
      "Requirement already satisfied: jupyter in d:\\anaconda\\lib\\site-packages (from d2l==0.16.5) (1.1.1)\n",
      "Requirement already satisfied: numpy in d:\\anaconda\\lib\\site-packages (from d2l==0.16.5) (2.3.4)\n",
      "Requirement already satisfied: matplotlib in d:\\anaconda\\lib\\site-packages (from d2l==0.16.5) (3.10.6)\n",
      "Requirement already satisfied: requests in d:\\anaconda\\lib\\site-packages (from d2l==0.16.5) (2.32.4)\n",
      "Requirement already satisfied: pandas in d:\\anaconda\\lib\\site-packages (from d2l==0.16.5) (2.3.3)\n",
      "Requirement already satisfied: notebook in d:\\anaconda\\lib\\site-packages (from jupyter->d2l==0.16.5) (7.4.7)\n",
      "Requirement already satisfied: jupyter-console in d:\\anaconda\\lib\\site-packages (from jupyter->d2l==0.16.5) (6.6.3)\n",
      "Requirement already satisfied: nbconvert in d:\\anaconda\\lib\\site-packages (from jupyter->d2l==0.16.5) (7.16.6)\n",
      "Requirement already satisfied: ipykernel in d:\\anaconda\\lib\\site-packages (from jupyter->d2l==0.16.5) (6.30.1)\n",
      "Requirement already satisfied: ipywidgets in d:\\anaconda\\lib\\site-packages (from jupyter->d2l==0.16.5) (8.1.7)\n",
      "Requirement already satisfied: jupyterlab in d:\\anaconda\\lib\\site-packages (from jupyter->d2l==0.16.5) (4.4.9)\n",
      "Requirement already satisfied: comm>=0.1.1 in d:\\anaconda\\lib\\site-packages (from ipykernel->jupyter->d2l==0.16.5) (0.2.3)\n",
      "Requirement already satisfied: debugpy>=1.6.5 in d:\\anaconda\\lib\\site-packages (from ipykernel->jupyter->d2l==0.16.5) (1.8.17)\n",
      "Requirement already satisfied: ipython>=7.23.1 in d:\\anaconda\\lib\\site-packages (from ipykernel->jupyter->d2l==0.16.5) (9.6.0)\n",
      "Requirement already satisfied: jupyter-client>=8.0.0 in d:\\anaconda\\lib\\site-packages (from ipykernel->jupyter->d2l==0.16.5) (8.6.3)\n",
      "Requirement already satisfied: jupyter-core!=5.0.*,>=4.12 in d:\\anaconda\\lib\\site-packages (from ipykernel->jupyter->d2l==0.16.5) (5.8.1)\n",
      "Requirement already satisfied: matplotlib-inline>=0.1 in d:\\anaconda\\lib\\site-packages (from ipykernel->jupyter->d2l==0.16.5) (0.1.7)\n",
      "Requirement already satisfied: nest-asyncio>=1.4 in d:\\anaconda\\lib\\site-packages (from ipykernel->jupyter->d2l==0.16.5) (1.6.0)\n",
      "Requirement already satisfied: packaging>=22 in d:\\anaconda\\lib\\site-packages (from ipykernel->jupyter->d2l==0.16.5) (25.0)\n",
      "Requirement already satisfied: psutil>=5.7 in d:\\anaconda\\lib\\site-packages (from ipykernel->jupyter->d2l==0.16.5) (7.1.0)\n",
      "Requirement already satisfied: pyzmq>=25 in d:\\anaconda\\lib\\site-packages (from ipykernel->jupyter->d2l==0.16.5) (27.1.0)\n",
      "Requirement already satisfied: tornado>=6.2 in d:\\anaconda\\lib\\site-packages (from ipykernel->jupyter->d2l==0.16.5) (6.5.2)\n",
      "Requirement already satisfied: traitlets>=5.4.0 in d:\\anaconda\\lib\\site-packages (from ipykernel->jupyter->d2l==0.16.5) (5.14.3)\n",
      "Requirement already satisfied: colorama in d:\\anaconda\\lib\\site-packages (from ipython>=7.23.1->ipykernel->jupyter->d2l==0.16.5) (0.4.6)\n",
      "Requirement already satisfied: decorator in d:\\anaconda\\lib\\site-packages (from ipython>=7.23.1->ipykernel->jupyter->d2l==0.16.5) (5.2.1)\n",
      "Requirement already satisfied: ipython-pygments-lexers in d:\\anaconda\\lib\\site-packages (from ipython>=7.23.1->ipykernel->jupyter->d2l==0.16.5) (1.1.1)\n",
      "Requirement already satisfied: jedi>=0.16 in d:\\anaconda\\lib\\site-packages (from ipython>=7.23.1->ipykernel->jupyter->d2l==0.16.5) (0.19.2)\n",
      "Requirement already satisfied: prompt_toolkit<3.1.0,>=3.0.41 in d:\\anaconda\\lib\\site-packages (from ipython>=7.23.1->ipykernel->jupyter->d2l==0.16.5) (3.0.52)\n",
      "Requirement already satisfied: pygments>=2.4.0 in d:\\anaconda\\lib\\site-packages (from ipython>=7.23.1->ipykernel->jupyter->d2l==0.16.5) (2.19.1)\n",
      "Requirement already satisfied: stack_data in d:\\anaconda\\lib\\site-packages (from ipython>=7.23.1->ipykernel->jupyter->d2l==0.16.5) (0.6.3)\n",
      "Requirement already satisfied: wcwidth in d:\\anaconda\\lib\\site-packages (from prompt_toolkit<3.1.0,>=3.0.41->ipython>=7.23.1->ipykernel->jupyter->d2l==0.16.5) (0.2.14)\n",
      "Requirement already satisfied: parso<0.9.0,>=0.8.4 in d:\\anaconda\\lib\\site-packages (from jedi>=0.16->ipython>=7.23.1->ipykernel->jupyter->d2l==0.16.5) (0.8.5)\n",
      "Requirement already satisfied: python-dateutil>=2.8.2 in d:\\anaconda\\lib\\site-packages (from jupyter-client>=8.0.0->ipykernel->jupyter->d2l==0.16.5) (2.9.0.post0)\n",
      "Requirement already satisfied: platformdirs>=2.5 in d:\\anaconda\\lib\\site-packages (from jupyter-core!=5.0.*,>=4.12->ipykernel->jupyter->d2l==0.16.5) (4.3.7)\n",
      "Requirement already satisfied: pywin32>=300 in d:\\anaconda\\lib\\site-packages (from jupyter-core!=5.0.*,>=4.12->ipykernel->jupyter->d2l==0.16.5) (311)\n",
      "Requirement already satisfied: six>=1.5 in d:\\anaconda\\lib\\site-packages (from python-dateutil>=2.8.2->jupyter-client>=8.0.0->ipykernel->jupyter->d2l==0.16.5) (1.17.0)\n",
      "Requirement already satisfied: widgetsnbextension~=4.0.14 in d:\\anaconda\\lib\\site-packages (from ipywidgets->jupyter->d2l==0.16.5) (4.0.14)\n",
      "Requirement already satisfied: jupyterlab_widgets~=3.0.15 in d:\\anaconda\\lib\\site-packages (from ipywidgets->jupyter->d2l==0.16.5) (3.0.15)\n",
      "Requirement already satisfied: async-lru>=1.0.0 in d:\\anaconda\\lib\\site-packages (from jupyterlab->jupyter->d2l==0.16.5) (2.0.5)\n",
      "Requirement already satisfied: httpx<1,>=0.25.0 in d:\\anaconda\\lib\\site-packages (from jupyterlab->jupyter->d2l==0.16.5) (0.28.1)\n",
      "Requirement already satisfied: jinja2>=3.0.3 in d:\\anaconda\\lib\\site-packages (from jupyterlab->jupyter->d2l==0.16.5) (3.1.6)\n",
      "Requirement already satisfied: jupyter-lsp>=2.0.0 in d:\\anaconda\\lib\\site-packages (from jupyterlab->jupyter->d2l==0.16.5) (2.3.0)\n",
      "Requirement already satisfied: jupyter-server<3,>=2.4.0 in d:\\anaconda\\lib\\site-packages (from jupyterlab->jupyter->d2l==0.16.5) (2.17.0)\n",
      "Requirement already satisfied: jupyterlab-server<3,>=2.27.1 in d:\\anaconda\\lib\\site-packages (from jupyterlab->jupyter->d2l==0.16.5) (2.27.3)\n",
      "Requirement already satisfied: notebook-shim>=0.2 in d:\\anaconda\\lib\\site-packages (from jupyterlab->jupyter->d2l==0.16.5) (0.2.4)\n",
      "Requirement already satisfied: setuptools>=41.1.0 in d:\\anaconda\\lib\\site-packages (from jupyterlab->jupyter->d2l==0.16.5) (72.1.0)\n",
      "Requirement already satisfied: anyio in d:\\anaconda\\lib\\site-packages (from httpx<1,>=0.25.0->jupyterlab->jupyter->d2l==0.16.5) (4.11.0)\n",
      "Requirement already satisfied: certifi in d:\\anaconda\\lib\\site-packages (from httpx<1,>=0.25.0->jupyterlab->jupyter->d2l==0.16.5) (2025.10.5)\n",
      "Requirement already satisfied: httpcore==1.* in d:\\anaconda\\lib\\site-packages (from httpx<1,>=0.25.0->jupyterlab->jupyter->d2l==0.16.5) (1.0.9)\n",
      "Requirement already satisfied: idna in d:\\anaconda\\lib\\site-packages (from httpx<1,>=0.25.0->jupyterlab->jupyter->d2l==0.16.5) (3.7)\n",
      "Requirement already satisfied: h11>=0.16 in d:\\anaconda\\lib\\site-packages (from httpcore==1.*->httpx<1,>=0.25.0->jupyterlab->jupyter->d2l==0.16.5) (0.16.0)\n",
      "Requirement already satisfied: argon2-cffi>=21.1 in d:\\anaconda\\lib\\site-packages (from jupyter-server<3,>=2.4.0->jupyterlab->jupyter->d2l==0.16.5) (25.1.0)\n",
      "Requirement already satisfied: jupyter-events>=0.11.0 in d:\\anaconda\\lib\\site-packages (from jupyter-server<3,>=2.4.0->jupyterlab->jupyter->d2l==0.16.5) (0.12.0)\n",
      "Requirement already satisfied: jupyter-server-terminals>=0.4.4 in d:\\anaconda\\lib\\site-packages (from jupyter-server<3,>=2.4.0->jupyterlab->jupyter->d2l==0.16.5) (0.5.3)\n",
      "Requirement already satisfied: nbformat>=5.3.0 in d:\\anaconda\\lib\\site-packages (from jupyter-server<3,>=2.4.0->jupyterlab->jupyter->d2l==0.16.5) (5.10.4)\n",
      "Requirement already satisfied: prometheus-client>=0.9 in d:\\anaconda\\lib\\site-packages (from jupyter-server<3,>=2.4.0->jupyterlab->jupyter->d2l==0.16.5) (0.23.1)\n",
      "Requirement already satisfied: pywinpty>=2.0.1 in d:\\anaconda\\lib\\site-packages (from jupyter-server<3,>=2.4.0->jupyterlab->jupyter->d2l==0.16.5) (2.0.15)\n",
      "Requirement already satisfied: send2trash>=1.8.2 in d:\\anaconda\\lib\\site-packages (from jupyter-server<3,>=2.4.0->jupyterlab->jupyter->d2l==0.16.5) (1.8.3)\n",
      "Requirement already satisfied: terminado>=0.8.3 in d:\\anaconda\\lib\\site-packages (from jupyter-server<3,>=2.4.0->jupyterlab->jupyter->d2l==0.16.5) (0.18.1)\n",
      "Requirement already satisfied: websocket-client>=1.7 in d:\\anaconda\\lib\\site-packages (from jupyter-server<3,>=2.4.0->jupyterlab->jupyter->d2l==0.16.5) (1.8.0)\n",
      "Requirement already satisfied: babel>=2.10 in d:\\anaconda\\lib\\site-packages (from jupyterlab-server<3,>=2.27.1->jupyterlab->jupyter->d2l==0.16.5) (2.17.0)\n",
      "Requirement already satisfied: json5>=0.9.0 in d:\\anaconda\\lib\\site-packages (from jupyterlab-server<3,>=2.27.1->jupyterlab->jupyter->d2l==0.16.5) (0.12.1)\n",
      "Requirement already satisfied: jsonschema>=4.18.0 in d:\\anaconda\\lib\\site-packages (from jupyterlab-server<3,>=2.27.1->jupyterlab->jupyter->d2l==0.16.5) (4.25.1)\n",
      "Requirement already satisfied: sniffio>=1.1 in d:\\anaconda\\lib\\site-packages (from anyio->httpx<1,>=0.25.0->jupyterlab->jupyter->d2l==0.16.5) (1.3.1)\n",
      "Requirement already satisfied: argon2-cffi-bindings in d:\\anaconda\\lib\\site-packages (from argon2-cffi>=21.1->jupyter-server<3,>=2.4.0->jupyterlab->jupyter->d2l==0.16.5) (25.1.0)\n",
      "Requirement already satisfied: MarkupSafe>=2.0 in d:\\anaconda\\lib\\site-packages (from jinja2>=3.0.3->jupyterlab->jupyter->d2l==0.16.5) (3.0.3)\n",
      "Requirement already satisfied: attrs>=22.2.0 in d:\\anaconda\\lib\\site-packages (from jsonschema>=4.18.0->jupyterlab-server<3,>=2.27.1->jupyterlab->jupyter->d2l==0.16.5) (25.4.0)\n",
      "Requirement already satisfied: jsonschema-specifications>=2023.03.6 in d:\\anaconda\\lib\\site-packages (from jsonschema>=4.18.0->jupyterlab-server<3,>=2.27.1->jupyterlab->jupyter->d2l==0.16.5) (2025.9.1)\n",
      "Requirement already satisfied: referencing>=0.28.4 in d:\\anaconda\\lib\\site-packages (from jsonschema>=4.18.0->jupyterlab-server<3,>=2.27.1->jupyterlab->jupyter->d2l==0.16.5) (0.36.2)\n",
      "Requirement already satisfied: rpds-py>=0.7.1 in d:\\anaconda\\lib\\site-packages (from jsonschema>=4.18.0->jupyterlab-server<3,>=2.27.1->jupyterlab->jupyter->d2l==0.16.5) (0.27.1)\n",
      "Requirement already satisfied: python-json-logger>=2.0.4 in d:\\anaconda\\lib\\site-packages (from jupyter-events>=0.11.0->jupyter-server<3,>=2.4.0->jupyterlab->jupyter->d2l==0.16.5) (2.0.7)\n",
      "Requirement already satisfied: pyyaml>=5.3 in d:\\anaconda\\lib\\site-packages (from jupyter-events>=0.11.0->jupyter-server<3,>=2.4.0->jupyterlab->jupyter->d2l==0.16.5) (6.0.3)\n",
      "Requirement already satisfied: rfc3339-validator in d:\\anaconda\\lib\\site-packages (from jupyter-events>=0.11.0->jupyter-server<3,>=2.4.0->jupyterlab->jupyter->d2l==0.16.5) (0.1.4)\n",
      "Requirement already satisfied: rfc3986-validator>=0.1.1 in d:\\anaconda\\lib\\site-packages (from jupyter-events>=0.11.0->jupyter-server<3,>=2.4.0->jupyterlab->jupyter->d2l==0.16.5) (0.1.1)\n",
      "Requirement already satisfied: fqdn in d:\\anaconda\\lib\\site-packages (from jsonschema[format-nongpl]>=4.18.0->jupyter-events>=0.11.0->jupyter-server<3,>=2.4.0->jupyterlab->jupyter->d2l==0.16.5) (1.5.1)\n",
      "Requirement already satisfied: isoduration in d:\\anaconda\\lib\\site-packages (from jsonschema[format-nongpl]>=4.18.0->jupyter-events>=0.11.0->jupyter-server<3,>=2.4.0->jupyterlab->jupyter->d2l==0.16.5) (20.11.0)\n",
      "Requirement already satisfied: jsonpointer>1.13 in d:\\anaconda\\lib\\site-packages (from jsonschema[format-nongpl]>=4.18.0->jupyter-events>=0.11.0->jupyter-server<3,>=2.4.0->jupyterlab->jupyter->d2l==0.16.5) (3.0.0)\n",
      "Requirement already satisfied: rfc3987-syntax>=1.1.0 in d:\\anaconda\\lib\\site-packages (from jsonschema[format-nongpl]>=4.18.0->jupyter-events>=0.11.0->jupyter-server<3,>=2.4.0->jupyterlab->jupyter->d2l==0.16.5) (1.1.0)\n",
      "Requirement already satisfied: uri-template in d:\\anaconda\\lib\\site-packages (from jsonschema[format-nongpl]>=4.18.0->jupyter-events>=0.11.0->jupyter-server<3,>=2.4.0->jupyterlab->jupyter->d2l==0.16.5) (1.3.0)\n",
      "Requirement already satisfied: webcolors>=24.6.0 in d:\\anaconda\\lib\\site-packages (from jsonschema[format-nongpl]>=4.18.0->jupyter-events>=0.11.0->jupyter-server<3,>=2.4.0->jupyterlab->jupyter->d2l==0.16.5) (24.11.1)\n",
      "Requirement already satisfied: beautifulsoup4 in d:\\anaconda\\lib\\site-packages (from nbconvert->jupyter->d2l==0.16.5) (4.14.2)\n",
      "Requirement already satisfied: bleach!=5.0.0 in d:\\anaconda\\lib\\site-packages (from bleach[css]!=5.0.0->nbconvert->jupyter->d2l==0.16.5) (6.2.0)\n",
      "Requirement already satisfied: defusedxml in d:\\anaconda\\lib\\site-packages (from nbconvert->jupyter->d2l==0.16.5) (0.7.1)\n",
      "Requirement already satisfied: jupyterlab-pygments in d:\\anaconda\\lib\\site-packages (from nbconvert->jupyter->d2l==0.16.5) (0.3.0)\n",
      "Requirement already satisfied: mistune<4,>=2.0.3 in d:\\anaconda\\lib\\site-packages (from nbconvert->jupyter->d2l==0.16.5) (3.1.4)\n",
      "Requirement already satisfied: nbclient>=0.5.0 in d:\\anaconda\\lib\\site-packages (from nbconvert->jupyter->d2l==0.16.5) (0.10.2)\n",
      "Requirement already satisfied: pandocfilters>=1.4.1 in d:\\anaconda\\lib\\site-packages (from nbconvert->jupyter->d2l==0.16.5) (1.5.0)\n",
      "Requirement already satisfied: webencodings in d:\\anaconda\\lib\\site-packages (from bleach!=5.0.0->bleach[css]!=5.0.0->nbconvert->jupyter->d2l==0.16.5) (0.5.1)\n",
      "Requirement already satisfied: tinycss2<1.5,>=1.1.0 in d:\\anaconda\\lib\\site-packages (from bleach[css]!=5.0.0->nbconvert->jupyter->d2l==0.16.5) (1.4.0)\n",
      "Requirement already satisfied: fastjsonschema>=2.15 in d:\\anaconda\\lib\\site-packages (from nbformat>=5.3.0->jupyter-server<3,>=2.4.0->jupyterlab->jupyter->d2l==0.16.5) (2.21.2)\n",
      "Requirement already satisfied: charset_normalizer<4,>=2 in d:\\anaconda\\lib\\site-packages (from requests->d2l==0.16.5) (3.3.2)\n",
      "Requirement already satisfied: urllib3<3,>=1.21.1 in d:\\anaconda\\lib\\site-packages (from requests->d2l==0.16.5) (2.5.0)\n",
      "Requirement already satisfied: lark>=1.2.2 in d:\\anaconda\\lib\\site-packages (from rfc3987-syntax>=1.1.0->jsonschema[format-nongpl]>=4.18.0->jupyter-events>=0.11.0->jupyter-server<3,>=2.4.0->jupyterlab->jupyter->d2l==0.16.5) (1.3.0)\n",
      "Requirement already satisfied: cffi>=1.0.1 in d:\\anaconda\\lib\\site-packages (from argon2-cffi-bindings->argon2-cffi>=21.1->jupyter-server<3,>=2.4.0->jupyterlab->jupyter->d2l==0.16.5) (1.17.1)\n",
      "Requirement already satisfied: pycparser in d:\\anaconda\\lib\\site-packages (from cffi>=1.0.1->argon2-cffi-bindings->argon2-cffi>=21.1->jupyter-server<3,>=2.4.0->jupyterlab->jupyter->d2l==0.16.5) (2.21)\n",
      "Requirement already satisfied: soupsieve>1.2 in d:\\anaconda\\lib\\site-packages (from beautifulsoup4->nbconvert->jupyter->d2l==0.16.5) (2.8)\n",
      "Requirement already satisfied: typing-extensions>=4.0.0 in d:\\anaconda\\lib\\site-packages (from beautifulsoup4->nbconvert->jupyter->d2l==0.16.5) (4.12.2)\n",
      "Requirement already satisfied: arrow>=0.15.0 in d:\\anaconda\\lib\\site-packages (from isoduration->jsonschema[format-nongpl]>=4.18.0->jupyter-events>=0.11.0->jupyter-server<3,>=2.4.0->jupyterlab->jupyter->d2l==0.16.5) (1.3.0)\n",
      "Requirement already satisfied: types-python-dateutil>=2.8.10 in d:\\anaconda\\lib\\site-packages (from arrow>=0.15.0->isoduration->jsonschema[format-nongpl]>=4.18.0->jupyter-events>=0.11.0->jupyter-server<3,>=2.4.0->jupyterlab->jupyter->d2l==0.16.5) (2.9.0.20250822)\n",
      "Requirement already satisfied: contourpy>=1.0.1 in d:\\anaconda\\lib\\site-packages (from matplotlib->d2l==0.16.5) (1.3.1)\n",
      "Requirement already satisfied: cycler>=0.10 in d:\\anaconda\\lib\\site-packages (from matplotlib->d2l==0.16.5) (0.11.0)\n",
      "Requirement already satisfied: fonttools>=4.22.0 in d:\\anaconda\\lib\\site-packages (from matplotlib->d2l==0.16.5) (4.60.1)\n",
      "Requirement already satisfied: kiwisolver>=1.3.1 in d:\\anaconda\\lib\\site-packages (from matplotlib->d2l==0.16.5) (1.4.8)\n",
      "Requirement already satisfied: pillow>=8 in d:\\anaconda\\lib\\site-packages (from matplotlib->d2l==0.16.5) (11.1.0)\n",
      "Requirement already satisfied: pyparsing>=2.3.1 in d:\\anaconda\\lib\\site-packages (from matplotlib->d2l==0.16.5) (3.2.0)\n",
      "Requirement already satisfied: pytz>=2020.1 in d:\\anaconda\\lib\\site-packages (from pandas->d2l==0.16.5) (2025.2)\n",
      "Requirement already satisfied: tzdata>=2022.7 in d:\\anaconda\\lib\\site-packages (from pandas->d2l==0.16.5) (2025.2)\n",
      "Requirement already satisfied: executing>=1.2.0 in d:\\anaconda\\lib\\site-packages (from stack_data->ipython>=7.23.1->ipykernel->jupyter->d2l==0.16.5) (2.2.1)\n",
      "Requirement already satisfied: asttokens>=2.1.0 in d:\\anaconda\\lib\\site-packages (from stack_data->ipython>=7.23.1->ipykernel->jupyter->d2l==0.16.5) (3.0.0)\n",
      "Requirement already satisfied: pure_eval in d:\\anaconda\\lib\\site-packages (from stack_data->ipython>=7.23.1->ipykernel->jupyter->d2l==0.16.5) (0.2.3)\n"
     ]
    }
   ],
   "source": [
    "# cài bộ thư viện d2l\n",
    "!pip install d2l==0.16.5\n"
   ]
  },
  {
   "cell_type": "markdown",
   "metadata": {
    "id": "In88gedjd26R",
    "origin_pos": 0
   },
   "source": [
    "# Densely Connected Networks (DenseNet)\n",
    "\n",
    "ResNet đã làm thay đổi đáng kể quan điểm về cách tham số hóa các hàm số trong mạng nơ-ron sâu. Ở một mức độ nào đó, DenseNet có thể được coi là phiên bản mở rộng hợp lý của ResNet. Để hiểu cách đi đến kết luận đó, ta cần tìm hiểu một chút lý thuyết.\n",
    "\n",
    "\n",
    "\n",
    "## From ResNet to DenseNet\n",
    "\n",
    "Nhắc lại công thức khai triển Taylor cho hàm một biến vô hướng như sau:\n",
    "\n",
    "$$f(x) = f(0) + f'(0) x + \\frac{f''(0)}{2!}  x^2 + \\frac{f'''(0)}{3!}  x^3 + \\ldots.$$\n",
    "\n",
    "Điểm mấu chốt là khai triển Taylor phân tách hàm số thành các số hạng có bậc tăng dần. Tương tự, ResNet phân tách các hàm số thành:\n",
    "\n",
    "$$f(\\mathbf{x}) = \\mathbf{x} + g(\\mathbf{x}).$$\n",
    "\n",
    "Cụ thể, ResNet tách hàm số   $f$ thành một số hạng tuyến tính đơn giản và một số hạng phi tuyến phức tạp hơn. Nếu ta muốn tách ra thành nhiều hơn hai số hạng thì sao? .\n",
    "Một giải pháp đã được đề xuất bởi trong bài báo [Huang et al., 2017] với kiến trúc DenseNet. Kiến trúc này đạt được kết quả kỉ lục trên tập dữ liệu ImageNet.\n",
    "\n",
    "![The main difference between ResNet (left) and DenseNet (right) in cross-layer connections: use of addition and use of concatenation. ](https://github.com/d2l-ai/d2l-tensorflow-colab/blob/master/img/densenet-block.svg?raw=1)\n",
    "<!-- :label:`fig_densenet_block` -->\n",
    "\n",
    "Điểm khác biệt chính là DenseNet nối đầu ra lại với nhau thay vì cộng lại như ở ResNet. Kết quả là ta thực hiện một ánh xạ từ  x  đến các giá trị của nó sau khi áp dụng một chuỗi các hàm với độ phức tạp tăng dần.\n",
    "\n",
    "$$\\mathbf{x} \\to \\left[\n",
    "\\mathbf{x},\n",
    "f_1(\\mathbf{x}),\n",
    "f_2([\\mathbf{x}, f_1(\\mathbf{x})]), f_3([\\mathbf{x}, f_1(\\mathbf{x}), f_2([\\mathbf{x}, f_1(\\mathbf{x})])]), \\ldots\\right].$$\n",
    "\n",
    "Cuối cùng, tất cả các hàm số này sẽ được kết hợp trong một Perceptron đa tầng để giảm số lượng đặc trưng một lần nữa. Lập trình thay đổi này khá đơn giản — thay vì cộng các số hạng với nhau, ta sẽ nối chúng lại. Cái tên DenseNet phát sinh từ việc đồ thị phụ thuộc giữa các biến trở nên khá dày đặc. Tầng cuối cùng của một chuỗi như vậy được kết nối “dày đặc” tới tất cả các tầng trước đó.\n",
    "\n",
    "![Dense connections in DenseNet.](http://d2l.ai/_images/densenet.svg)\n",
    ":label:`fig_densenet`\n",
    "\n",
    " Thành phần chính của DenseNet là các khối dày đặc và các tầng chuyển tiếp. Các khối dày đặc định nghĩa cách các đầu vào và đầu ra được nối với nhau, trong khi các tầng chuyển tiếp kiểm soát số lượng kênh sao cho nó không quá lớn. \n",
    "\n",
    "## [**Dense Blocks**]\n",
    "\n",
    "DenseNet sử dụng kiến trúc “chuẩn hóa theo batch, hàm kích hoạt và phép tích chập” đã qua sửa đổi của ResNet. Đầu tiên, ta sẽ lập trình kiến trúc này trong hàm conv_block.\n"
   ]
  },
  {
   "cell_type": "code",
   "execution_count": 32,
   "metadata": {
    "id": "N8mOhaGNd26S",
    "origin_pos": 3,
    "tab": [
     "tensorflow"
    ]
   },
   "outputs": [],
   "source": [
    "import torch\n",
    "from torch import nn\n",
    "from d2l import torch as d2l\n",
    "\n",
    "def conv_block(input_channels, num_channels):\n",
    "    return nn.Sequential(\n",
    "       nn.BatchNorm2d(input_channels),\n",
    "       nn.ReLU(),\n",
    "       nn.Conv2d(input_channels, num_channels, kernel_size=3, padding=1)\n",
    "    )"
   ]
  },
  {
   "cell_type": "markdown",
   "metadata": {
    "id": "pVXAeG3Ld26T",
    "origin_pos": 4
   },
   "source": [
    "Một khối dày đặc bao gồm nhiều khối conv_block với cùng số lượng kênh đầu ra. Tuy nhiên, ta sẽ nối đầu vào và đầu ra của từng khối theo chiều kênh khi tính toán lượt truyền xuôi."
   ]
  },
  {
   "cell_type": "code",
   "execution_count": 33,
   "metadata": {
    "id": "QR7GbXdWd26T",
    "origin_pos": 7,
    "tab": [
     "tensorflow"
    ]
   },
   "outputs": [],
   "source": [
    "class DenseBlock(nn.Module):\n",
    "    def __init__(self, num_convs, input_channels, num_channels):\n",
    "        super(DenseBlock, self).__init__()\n",
    "        layer = []\n",
    "        for i in range(num_convs):\n",
    "            layer.append(\n",
    "                conv_block(num_channels * i + input_channels, num_channels))\n",
    "        self.net = nn.Sequential(*layer)\n",
    "\n",
    "    def forward(self, X):\n",
    "        for blk in self.net:\n",
    "            Y = blk(X)\n",
    "            X = torch.cat((X, Y), dim=1)\n",
    "        return X"
   ]
  },
  {
   "cell_type": "markdown",
   "metadata": {
    "id": "F52Gm2Dgd26T",
    "origin_pos": 8
   },
   "source": [
    "Trong ví dụ sau, ta sẽ định nghĩa một khối dày đặc gồm hai khối tích chập với 10 kênh đầu ra. Với một đầu vào gồm 3 kênh, ta sẽ nhận được một đầu ra với  3+2×10=23  kênh. Số lượng kênh của khối tích chập kiểm soát sự gia tăng của số lượng kênh đầu ra so với số lượng kênh đầu vào. Số lượng kênh này còn được gọi là tốc độ tăng trưởng (growth rate)."
   ]
  },
  {
   "cell_type": "code",
   "execution_count": 34,
   "metadata": {
    "id": "Y4Mv-hjSd26U",
    "origin_pos": 11,
    "tab": [
     "tensorflow"
    ]
   },
   "outputs": [],
   "source": [
    "blk = DenseBlock(2, 3, 10)\n",
    "X = torch.randn(4, 3, 8, 8)\n",
    "Y = blk(X)\n",
    "assert Y.shape == (4,23,8,8)"
   ]
  },
  {
   "cell_type": "markdown",
   "metadata": {
    "id": "VISffc1fd26W",
    "origin_pos": 12
   },
   "source": [
    "## [**Transition Layers**]\n",
    "\n",
    "Mỗi khối dày đặc sẽ làm tăng thêm số lượng kênh. Nhưng việc thêm quá nhiều kênh sẽ tạo nên một mô hình phức tạp quá mức. Do đó, một tầng chuyển tiếp sẽ được sử dụng để kiểm soát độ phức tạp của mô hình. Tầng này dùng một tầng tích chập  1×1  để giảm số lượng kênh, theo sau là một tầng avgpool với sải bước bằng 2 để giảm một nửa chiều cao và chiều rộng, từ đó giảm độ phức tạp của mô hình hơn nữa."
   ]
  },
  {
   "cell_type": "code",
   "execution_count": 35,
   "metadata": {
    "id": "vnQkNHXUd26W",
    "origin_pos": 15,
    "tab": [
     "tensorflow"
    ]
   },
   "outputs": [],
   "source": [
    "def transition_block(input_channels, num_channels):\n",
    "    return nn.Sequential(\n",
    "        nn.BatchNorm2d(input_channels), nn.ReLU(),\n",
    "        nn.Conv2d(input_channels, num_channels, kernel_size=1),\n",
    "        nn.AvgPool2d(kernel_size=2, stride=2))"
   ]
  },
  {
   "cell_type": "markdown",
   "metadata": {
    "id": "iYKHNk0Rd26W",
    "origin_pos": 16
   },
   "source": [
    "Ta sẽ áp dụng một tầng chuyển tiếp với 10 kênh lên đầu ra của khối dày đặc trong ví dụ trước. Việc này sẽ làm giảm số lượng kênh đầu ra xuống còn 10, đồng thời làm giảm đi một nửa chiều cao và chiều rộng."
   ]
  },
  {
   "cell_type": "code",
   "execution_count": 36,
   "metadata": {
    "id": "ThcX6tLLd26X",
    "origin_pos": 19,
    "tab": [
     "tensorflow"
    ]
   },
   "outputs": [],
   "source": [
    "blk = transition_block(23, 10)\n",
    "assert blk(Y).shape == (4,10,4,4)"
   ]
  },
  {
   "cell_type": "markdown",
   "metadata": {
    "id": "3yGRxZQ3d26X",
    "origin_pos": 20
   },
   "source": [
    "## [**DenseNet Model**]\n",
    "\n",
    "Tiếp theo, ta sẽ xây dựng một mô hình DenseNet. Đầu tiên, DenseNet sử dụng một tầng tích chập và một tầng gộp cực đại như trong ResNet."
   ]
  },
  {
   "cell_type": "code",
   "execution_count": 37,
   "metadata": {
    "id": "qn1XU47bd26X",
    "origin_pos": 23,
    "tab": [
     "tensorflow"
    ]
   },
   "outputs": [],
   "source": [
    "b1 = nn.Sequential(nn.Conv2d(1, 64, kernel_size=7, stride=2, padding=3),\n",
    "                   nn.BatchNorm2d(64), nn.ReLU(),\n",
    "                   nn.MaxPool2d(kernel_size=3, stride=2, padding=1))"
   ]
  },
  {
   "cell_type": "markdown",
   "metadata": {
    "id": "aXpcGtbvd26Y",
    "origin_pos": 24
   },
   "source": [
    "Sau đó, tương tự như cách ResNet sử dụng bốn khối phần dư, DenseNet cũng dùng bốn khối dày đặc. Và cũng giống như ResNet, ta có thể tùy chỉnh số lượng tầng tích chập được sử dụng trong mỗi khối dày đặc. Ở đây, ta sẽ đặt số lượng khối tích chập bằng 4 để giống với kiến trúc ResNet-18 trong phần trước. Ngoài ra, ta đặt số lượng kênh (tức tốc độ tăng trưởng) của các tầng tích chập trong khối dày đặc là 32, vì vậy 128 kênh sẽ được thêm vào trong mỗi khối dày đặc.\n",
    "\n",
    "Trong ResNet, chiều cao và chiều rộng được giảm sau mỗi khối bằng cách sử dụng một khối phần dư với sải bước bằng 2. Ở đây, ta sẽ sử dụng tầng chuyển tiếp để làm giảm đi một nửa chiều cao, chiều rộng và số kênh."
   ]
  },
  {
   "cell_type": "code",
   "execution_count": 38,
   "metadata": {
    "id": "qvAF4TeZd26Y",
    "origin_pos": 27,
    "tab": [
     "tensorflow"
    ]
   },
   "outputs": [],
   "source": [
    "num_channels, growth_rate = 64, 32\n",
    "num_convs_in_dense_blocks = [4, 4, 4, 4]\n",
    "blks = []\n",
    "for i, num_convs in enumerate(num_convs_in_dense_blocks):\n",
    "    blks.append(DenseBlock(num_convs, num_channels, growth_rate))\n",
    "    num_channels += num_convs * growth_rate\n",
    "    if i != len(num_convs_in_dense_blocks) - 1:\n",
    "        blks.append(transition_block(num_channels, num_channels // 2))\n",
    "        num_channels = num_channels // 2"
   ]
  },
  {
   "cell_type": "markdown",
   "metadata": {
    "id": "jemv41NPd26Y",
    "origin_pos": 28
   },
   "source": [
    "Tương tự như ResNet, một tầng gộp toàn cục và một tầng kết nối đầy đủ sẽ được thêm vào cuối mạng để tính toán đầu ra."
   ]
  },
  {
   "cell_type": "code",
   "execution_count": 39,
   "metadata": {
    "id": "Y6dIBYeid26Y",
    "origin_pos": 31,
    "tab": [
     "tensorflow"
    ]
   },
   "outputs": [],
   "source": [
    "net = nn.Sequential(b1, *blks, nn.BatchNorm2d(num_channels), nn.ReLU(),\n",
    "                    nn.AdaptiveMaxPool2d((1, 1)), nn.Flatten(),\n",
    "                    nn.Linear(num_channels, 10))"
   ]
  },
  {
   "cell_type": "markdown",
   "metadata": {
    "id": "4l-Ud-Vhd26Z",
    "origin_pos": 32
   },
   "source": [
    "## [**Training**]\n",
    "\n",
    "Trong phần này, vì đang sử dụng một mạng sâu hơn nên để đơn giản hóa việc tính toán, ta sẽ giảm chiều cao và chiều rộng của đầu vào từ 224 xuống còn 96.\n"
   ]
  },
  {
   "cell_type": "code",
   "execution_count": 41,
   "metadata": {
    "id": "3vUY6TAad26Z",
    "origin_pos": 33,
    "outputId": "03742c81-fffe-4f72-f497-a0c819c2b562",
    "tab": [
     "tensorflow"
    ]
   },
   "outputs": [
    {
     "name": "stdout",
     "output_type": "stream",
     "text": [
      "loss 0.146, train acc 0.946, test acc 0.876\n",
      "2502.5 examples/sec on cuda:0\n"
     ]
    },
    {
     "data": {
      "image/png": "[encoded data removed]",
      "text/plain": [
       "<Figure size 350x250 with 1 Axes>"
      ]
     },
     "metadata": {},
     "output_type": "display_data"
    }
   ],
   "source": [
    "def use_svg_display_dummy():\n",
    "    pass\n",
    "\n",
    "d2l.use_svg_display = use_svg_display_dummy\n",
    "\n",
    "lr, num_epochs, batch_size = 0.1, 10, 256\n",
    "train_iter, test_iter = d2l.load_data_fashion_mnist(batch_size, resize=96)\n",
    "d2l.train_ch6(net, train_iter, test_iter, num_epochs, lr, d2l.try_gpu())"
   ]
  },
  {
   "cell_type": "markdown",
   "metadata": {
    "id": "LcEJ34wjd26Z",
    "origin_pos": 34
   },
   "source": [
    "## Tóm tắt\n",
    "\n",
    "* Về mặt kết nối xuyên tầng, không giống như trong ResNet khi đầu vào và đầu ra được cộng lại với nhau, DenseNet nối các đầu vào và đầu ra theo chiều kênh.\n",
    "\n",
    "* Các thành phần chính tạo nên DenseNet là các khối dày đặc và các tầng chuyển tiếp.\n",
    "\n",
    "* Ta cần kiểm soát kích thước của các chiều khi thiết kế mạng bằng cách thêm các tầng chuyển tiếp để làm giảm số lượng kênh.\n",
    "\n"
   ]
  },
  {
   "cell_type": "markdown",
   "metadata": {
    "id": "qu5bT3t3d26a",
    "origin_pos": 37,
    "tab": [
     "tensorflow"
    ]
   },
   "source": [
    "[Discussions](https://discuss.d2l.ai/t/331)\n"
   ]
  }
 ],
 "metadata": {
  "accelerator": "GPU",
  "colab": {
   "collapsed_sections": [],
   "name": "densenet.ipynb",
   "provenance": []
  },
  "kernelspec": {
   "display_name": "base",
   "language": "python",
   "name": "python3"
  },
  "language_info": {
   "codemirror_mode": {
    "name": "ipython",
    "version": 3
   },
   "file_extension": ".py",
   "mimetype": "text/x-python",
   "name": "python",
   "nbconvert_exporter": "python",
   "pygments_lexer": "ipython3",
   "version": "3.13.5"
  }
 },
 "nbformat": 4,
 "nbformat_minor": 0
}
