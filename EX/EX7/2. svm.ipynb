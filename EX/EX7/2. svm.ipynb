{
 "cells": [
  {
   "cell_type": "markdown",
   "metadata": {},
   "source": [
    "# Bài toán phân loại sử dụng SVM \n"
   ]
  },
  {
   "cell_type": "markdown",
   "metadata": {},
   "source": [
    "Mục tiêu: \n",
    "\n",
    "- Xây dựng được mô hình svm sử dụng thư viện sklearn. \n",
    "- Ứng dụng, hiểu cách áp dụng mô hình svm vào giải quyết bài toán thực tế (vd: phân loại tin tức dạng văn bản) .\n",
    "- Sử dụng độ đo Accuracy để làm độ đo đánh giá chất lượng mô hình. \n",
    "\n",
    "Vấn đề: \n",
    "\n",
    "- Có một tập các văn bản dạng text không có nhãn, làm sao để biết văn bản này là thuộc về thể loại nào, pháp luật, đời sống, văn học, thể thao ...\n",
    "- Cần xây dựng mô hình học máy phân loại các thể loại của văn bản dựa trên nội dung.  \n",
    "\n",
    "Dữ liệu: \n",
    "\n",
    "- Có tập các văn bản và nhãn tương ứng của từng văn bản trong một khoảng thời gian \n",
    "- Tập các nhãn - 10 nhãn văn bản: \n",
    "    > Giải trí, Khoa học - Công nghệ, Kinh tế, Pháp luật, Sức khỏe, Thể thao, Thời sự, Tin khác, Độc giả, Đời sống - Xã hội\n",
    "- Ví dụ văn bản nhãn **thể thao**: \n",
    "    > \"Dân_trí Real Madrid đã dẫn trước trong cả trận đấu , nhưng họ vẫn phải chấp_nhận bị Dortmund cầm hòa 2-2 ở Bernabeu . Real Madrid chấp_nhận đứng thứ_hai ở bảng F Champions League ...\"\n",
    "\n",
    "Bài toán: \n",
    "\n",
    "- Input: tập các từ trong văn bản 1 mẫu dữ liệu $X = [x_1, x_2, ... x_n]$\n",
    "- Output: nhãn $y$ là 1 trong 10 nhãn trên "
   ]
  },
  {
   "cell_type": "code",
   "execution_count": null,
   "metadata": {},
   "outputs": [],
   "source": [
    "# Cài đặt thư viện xử lý ngôn ngữ cho tiếng Việt!\n",
    "!pip install pyvi"
   ]
  },
  {
   "cell_type": "code",
   "execution_count": 1,
   "metadata": {},
   "outputs": [],
   "source": [
    "import matplotlib.pyplot as plt\n",
    "import numpy as np\n",
    "\n",
    "from sklearn.datasets import load_files\n",
    "from pyvi import ViTokenizer\n",
    "\n",
    "\n",
    "from sklearn import svm\n",
    "from sklearn.feature_extraction.text import CountVectorizer, TfidfVectorizer\n",
    "from sklearn.feature_extraction.text import TfidfTransformer\n",
    "from sklearn.model_selection import train_test_split, GridSearchCV\n",
    "from sklearn.pipeline import Pipeline\n",
    "from sklearn.model_selection import ShuffleSplit\n",
    "from sklearn.model_selection import learning_curve\n",
    "\n",
    "%matplotlib inline"
   ]
  },
  {
   "cell_type": "markdown",
   "metadata": {},
   "source": [
    "## 1. Sử dụng sklearn.datasets.load_files để load dữ liệu từ thư mục đã down từ trước\n",
    "\n",
    "Cấu trúc thư mục như sau \n",
    "\n",
    "- data/news_1135/\n",
    "\n",
    "    - Kinh tế: \n",
    "        - bài báo 1.txt \n",
    "        - bài báo 2.txt \n",
    "    - Pháp luật\n",
    "        - bài báo 3.txt \n",
    "        - bài báo 4.txt "
   ]
  },
  {
   "cell_type": "code",
   "execution_count": 10,
   "metadata": {},
   "outputs": [
    {
     "name": "stdout",
     "output_type": "stream",
     "text": [
      "['../data/news_1135/Tin kh†c\\\\0218e1df21ce358b9c6485176a48f1fcaeedef67.txt'\n",
      " '../data/news_1135/Khoa học - Công nghệ\\\\bf9889f5f2ffd6c92fa877d35ef0ef5f34f0666d.txt'\n",
      " '../data/news_1135/Tin kh†c\\\\d74aab054ffe9f8661df13bc52b438b48a63fe48.txt'\n",
      " ...\n",
      " '../data/news_1135/Thời sự\\\\a06c1ec4c146d3b4eb5070a1967e10e5e21bdc5b.txt'\n",
      " '../data/news_1135/Sức khỏe\\\\4187c4a1d528fd9ea4630d2709229df0b0d09c3d.txt'\n",
      " '../data/news_1135/Thể thao\\\\7adaf0c561796f2411340150f18417543ad4403c.txt']\n",
      "\n",
      "Tong so file: 1135\n",
      "Danh sách nhãn và id tương ứng:  [(0, 'Giải trí'), (1, 'Khoa học - Công nghệ'), (2, 'Kinh tế'), (3, 'Pháp luật'), (4, 'Sức khỏe'), (5, 'Thể thao'), (6, 'Thời sự'), (7, 'Tin kh†c'), (8, 'Độc giả'), (9, 'Đời sống - Xã hội')]\n"
     ]
    }
   ],
   "source": [
    "data_train = load_files(container_path=\"../data/news_1135/\", encoding=\"utf-8\")\n",
    "\n",
    "print(data_train.filenames)\n",
    "print()\n",
    "\n",
    "print(\"Tong so file: {}\" .format( len(data_train.filenames)))\n",
    "print(\"Danh sách nhãn và id tương ứng: \", [(idx, name) for idx, name in enumerate(data_train.target_names)] )\n"
   ]
  },
  {
   "cell_type": "markdown",
   "metadata": {},
   "source": [
    "###  Tiền xử lý dữ liệu đưa dữ liệu từ dạng text về dạng ma trận \n",
    "\n",
    "- Thử nghiệm để kiểm tra hoạt động chuyển hoá dữ liệu về dạng ma trận "
   ]
  },
  {
   "cell_type": "code",
   "execution_count": 12,
   "metadata": {
    "scrolled": true
   },
   "outputs": [
    {
     "name": "stdout",
     "output_type": "stream",
     "text": [
      "Danh sách 10 từ dừng đầu tiên (từ không mang ý nghĩa phân loại):  ['a_lô', 'a_ha', 'ai', 'ai_ai', 'ai_nấy', 'ai_đó', 'alô', 'amen', 'anh', 'anh_ấy']\n",
      "10 từ đầu tiên trong từ điển:\n",
      "1 :  ('dân_trí', 6928)\n",
      "2 :  ('sở', 17869)\n",
      "3 :  ('gd', 7729)\n",
      "4 :  ('đt', 23214)\n",
      "5 :  ('tỉnh', 20851)\n",
      "6 :  ('gia_lai', 7816)\n",
      "7 :  ('văn_bản', 21779)\n",
      "8 :  ('2258', 858)\n",
      "9 :  ('sgdđt', 17039)\n",
      "10 :  ('vp', 21572)\n",
      "11 :  ('chấn_chỉnh', 4971)\n"
     ]
    }
   ],
   "source": [
    "# load dữ liệu các stopwords \n",
    "with open(\"../data/vietnamese-stopwords.txt\",encoding=\"utf-8\") as f:\n",
    "    stopwords = f.readlines()\n",
    "stopwords = [x.strip().replace(\" \", \"_\") for x in stopwords] \n",
    "print(\"Danh sách 10 từ dừng đầu tiên (từ không mang ý nghĩa phân loại): \", stopwords[:10])\n",
    "\n",
    "# Transforming data \n",
    "# Chuyển hoá dữ liệu text về dạng vector tfidf \n",
    "#     - loại bỏ từ dừng\n",
    "#     - sinh từ điển\n",
    "module_count_vector = CountVectorizer(stop_words=stopwords)\n",
    "model_rf_preprocess = Pipeline([('vect', module_count_vector),\n",
    "                    ('tfidf', TfidfTransformer()),\n",
    "                    ])\n",
    "# Hàm thực hiện chuyển đổi dữ liệu text thành dữ liệu số dạng ma trận \n",
    "# Input: Dữ liệu 2 chiều dạng numpy.array, mảng nhãn id dạng numpy.array \n",
    "data_preprocessed = model_rf_preprocess.fit_transform(data_train.data, data_train.target)\n",
    "print(\"10 từ đầu tiên trong từ điển:\")\n",
    "i = 0\n",
    "for k,v in module_count_vector.vocabulary_.items():\n",
    "    i+=1\n",
    "    print(i, \": \", (k, v))\n",
    "    if i > 10:\n",
    "        break "
   ]
  },
  {
   "cell_type": "markdown",
   "metadata": {},
   "source": [
    "### Bài 1: Sử dụng trực tiếp TfidfVectorizer()\n",
    "https://scikit-learn.org/stable/modules/generated/sklearn.feature_extraction.text.TfidfVectorizer.html"
   ]
  },
  {
   "cell_type": "code",
   "execution_count": 15,
   "metadata": {},
   "outputs": [
    {
     "name": "stdout",
     "output_type": "stream",
     "text": [
      "Từ khóa              |     TF-IDF\n",
      "-----------------------------------\n",
      "sách                 |     0.5341\n",
      "học_sinh             |     0.2634\n",
      "tuyệt_đối            |     0.2191\n",
      "phụ_huynh            |     0.1921\n",
      "nhà_trường           |     0.1843\n",
      "gia_lai              |     0.1740\n",
      "tiếp_thị             |     0.1654\n",
      "sở                   |     0.1628\n",
      "giáo_dục             |     0.1538\n",
      "tham_khảo            |     0.1391\n"
     ]
    }
   ],
   "source": [
    "# Chú ý: có thể biến đổi dữ liệu về dạng Tf-Idf trực tiếp sử dụng TfidfVectorizer()\n",
    "# Bài tập: \n",
    "# - thực hiện điều đó\n",
    "# - hiển thị 10 từ trong văn bản đầu tiên có giá trị tfidf cao nhất\n",
    "# code\n",
    "tfidf = TfidfVectorizer(stop_words=stopwords)\n",
    "data_tfidf = tfidf.fit_transform(data_train.data, data_train.target)\n",
    "feature_names = tfidf.get_feature_names_out()\n",
    "vector_data = data_tfidf[0].tocoo()\n",
    "word_scores = list(zip([feature_names[i] for i in vector_data.col], vector_data.data))\n",
    "sorted_words = sorted(word_scores, key=lambda x: x[1], reverse=True)\n",
    "print(\"{:<20} | {:>10}\".format(\"Từ khóa\", \"TF-IDF\"))\n",
    "print(\"-\" * 35)\n",
    "for word, score in sorted_words[:10]:\n",
    "    print(\"{:<20} | {:>10.4f}\".format(word, score))"
   ]
  },
  {
   "cell_type": "markdown",
   "metadata": {},
   "source": [
    "### Chia dữ liệu làm 2 phần training và testing \n",
    "\n",
    "- Training chiếm 80 % dữ liệu \n",
    "- Testing chiếm 20 % dữ liệu "
   ]
  },
  {
   "cell_type": "code",
   "execution_count": 27,
   "metadata": {},
   "outputs": [
    {
     "name": "stdout",
     "output_type": "stream",
     "text": [
      "Dữ liệu training:  (908, 24389) (908,)\n",
      "Dữ liệu testing:  (227, 24389) (227,)\n",
      "Danh sách nhãn và id tương ứng:  [(0, 'Giải trí'), (1, 'Khoa học - Công nghệ'), (2, 'Kinh tế'), (3, 'Pháp luật'), (4, 'Sức khỏe'), (5, 'Thể thao'), (6, 'Thời sự'), (7, 'Tin kh†c'), (8, 'Độc giả'), (9, 'Đời sống - Xã hội')]\n"
     ]
    }
   ],
   "source": [
    "from sklearn.model_selection import ShuffleSplit\n",
    "\n",
    "# chia dữ liệu thành 2 phần sử dụng hàm train_test_split.\n",
    "test_size = 0.2\n",
    "# cv = ShuffleSplit(n_splits=10, test_size=0.2, random_state=0)\n",
    "X_train, X_test, y_train, y_test = train_test_split( data_preprocessed, data_train.target, test_size=test_size)\n",
    "\n",
    "# hiển thị một số thông tin về dữ liệu \n",
    "print(\"Dữ liệu training: \", X_train.shape, y_train.shape)\n",
    "print(\"Dữ liệu testing: \", X_test.shape, y_test.shape)\n",
    "print(\"Danh sách nhãn và id tương ứng: \", [(idx, name) for idx, name in enumerate(data_train.target_names)] )"
   ]
  },
  {
   "cell_type": "markdown",
   "metadata": {},
   "source": [
    "## 2. Training svm model \n",
    "\n",
    "Sử dụng thư viện sklearn để xây dựng mô hình\n",
    "-  Thử trước với hàm nhân phân tách là Linear, tham số C=1.0\n",
    "- `svm.SVC(kernel='linear', C=1.0)`\n",
    " "
   ]
  },
  {
   "cell_type": "code",
   "execution_count": 17,
   "metadata": {},
   "outputs": [
    {
     "name": "stdout",
     "output_type": "stream",
     "text": [
      "- Training ...\n",
      "- Train size = (908, 24389)\n",
      "- model - train complete\n"
     ]
    }
   ],
   "source": [
    "print(\"- Training ...\")\n",
    "print(\"- Train size = {}\".format(X_train.shape))\n",
    "model = svm.SVC(kernel='linear', C=1)\n",
    "model.fit(X_train, y_train)\n",
    "print(\"- model - train complete\")\n"
   ]
  },
  {
   "cell_type": "markdown",
   "metadata": {},
   "source": [
    "## 3. Testing svm model \n",
    "\n",
    "Thực hiện dự đoán nhãn cho từng văn bản trong tập test \n",
    "\n",
    "Độ đo đánh giá: \n",
    "> accuracy = tổng số văn bản dự đoán đúng  / tổng số văn bản có trong tập test  "
   ]
  },
  {
   "cell_type": "code",
   "execution_count": 18,
   "metadata": {},
   "outputs": [
    {
     "name": "stdout",
     "output_type": "stream",
     "text": [
      "- Testing ...\n",
      "- Test Acc = 0.8810572687224669\n",
      "- Train Acc = 0.9955947136563876\n"
     ]
    }
   ],
   "source": [
    "from sklearn.metrics import accuracy_score\n",
    "print(\"- Testing ...\")\n",
    "y_test_pred = model.predict(X_test)\n",
    "y_train_pred = model.predict(X_train)\n",
    "print(\"- Test Acc = {}\".format(accuracy_score(y_test, y_test_pred)))\n",
    "print(\"- Train Acc = {}\".format(accuracy_score(y_train, y_train_pred)))\n"
   ]
  },
  {
   "cell_type": "markdown",
   "metadata": {},
   "source": [
    "### Bài 2: thực hiện lại các bước trên với kernel = 'rbf'"
   ]
  },
  {
   "cell_type": "code",
   "execution_count": 19,
   "metadata": {},
   "outputs": [
    {
     "name": "stdout",
     "output_type": "stream",
     "text": [
      "- Training ...\n",
      "- Train size = (908, 24389)\n",
      "- model - train complete\n",
      "- Testing ...\n",
      "- Test Acc = 0.8810572687224669\n",
      "- Train Acc = 0.9955947136563876\n"
     ]
    }
   ],
   "source": [
    "# code\n",
    "print(\"- Training ...\")\n",
    "print(\"- Train size = {}\".format(X_train.shape))\n",
    "model_rbf = svm.SVC(kernel='rbf', C=1)\n",
    "model_rbf.fit(X_train, y_train)\n",
    "print(\"- model - train complete\")\n",
    "print(\"- Testing ...\")\n",
    "y_test_pred_rbf = model.predict(X_test)\n",
    "y_train_pred_rbf = model.predict(X_train)\n",
    "print(\"- Test Acc = {}\".format(accuracy_score(y_test, y_test_pred_rbf)))\n",
    "print(\"- Train Acc = {}\".format(accuracy_score(y_train, y_train_pred_rbf)))\n",
    "\n"
   ]
  },
  {
   "cell_type": "markdown",
   "metadata": {},
   "source": [
    "### 3.1. Thực hiện sử dụng model đã được train để infer 1 văn bản mới \n",
    "- Dữ liệu mới đến ở dạng dữ liệu thô => cần tiền xử lý dữ liệu về dạng dữ_liệu_ma_trận\n",
    "- infer sử dụng hàm model.predict(dữ_liệu_ma_trận) "
   ]
  },
  {
   "cell_type": "code",
   "execution_count": 20,
   "metadata": {},
   "outputs": [
    {
     "name": "stdout",
     "output_type": "stream",
     "text": [
      "['Công phượng ghi_bàn cho đội_tuyển Việt_nam']\n",
      "<Compressed Sparse Row sparse matrix of dtype 'float64'\n",
      "\twith 5 stored elements and shape (1, 24389)>\n",
      "  Coords\tValues\n",
      "  (0, 5847)\t0.33023750089838017\n",
      "  (0, 7777)\t0.4617859604824952\n",
      "  (0, 15553)\t0.6394232142292748\n",
      "  (0, 21498)\t0.23577234678310735\n",
      "  (0, 24149)\t0.4617859604824952\n"
     ]
    }
   ],
   "source": [
    "# Tiền xử lý dữ liệu sử dụng module model_rf_preprocess. \n",
    "new_doc = \"Công phượng ghi bàn cho đội tuyển Việt nam\"\n",
    "# Trước hết, cần thực hiện tách từ sử dụng pyvi\n",
    "tokenized_new_doc = ViTokenizer.tokenize(new_doc)\n",
    "# Cần đưa văn bản ở dạng mảng/vector\n",
    "tokenized_new_doc = [tokenized_new_doc]\n",
    "print(tokenized_new_doc)\n",
    "# Rồi sử dụng module model_rf_preprocess\n",
    "input_data_preprocessed = model_rf_preprocess.transform(tokenized_new_doc)\n",
    "print(input_data_preprocessed)"
   ]
  },
  {
   "cell_type": "markdown",
   "metadata": {},
   "source": [
    "### Bài 3: dự đoán nhãn của văn bản trên"
   ]
  },
  {
   "cell_type": "code",
   "execution_count": 24,
   "metadata": {},
   "outputs": [
    {
     "name": "stdout",
     "output_type": "stream",
     "text": [
      "[5] - Thể thao\n"
     ]
    }
   ],
   "source": [
    "# code \n",
    "from sklearn.metrics import accuracy_score\n",
    "y_pred = model_rbf.predict(input_data_preprocessed)\n",
    "print(str(y_pred) + ' - ' + data_train.target_names[y_pred[0]])"
   ]
  },
  {
   "cell_type": "markdown",
   "metadata": {},
   "source": [
    "## 4. Bài tập bổ sung: \n",
    "\n",
    "### 4.1 Thử nghiệm các tham số \n",
    "\n",
    "- Các tham số với giá trị khác nhau có thể ảnh hưởng để kết quả học \n",
    "- Cần thử nghiệm kỹ lượng để đưa ra kết quả khách quan: tham số C, gamma, kernel. \n",
    "    - Chọn mô hình với bộ tham số cho kết quả tốt nhất \n",
    "- Gợi ý: \n",
    "    - https://scikit-learn.org/stable/modules/generated/sklearn.svm.SVC.html\n",
    "    - Sử dụng grid search"
   ]
  },
  {
   "cell_type": "markdown",
   "metadata": {},
   "source": [
    "#### Bài 4: Vẽ Learning curve khảo sát Acc của SVM-linear với tham số C thay đổi"
   ]
  },
  {
   "cell_type": "code",
   "execution_count": 30,
   "metadata": {},
   "outputs": [],
   "source": [
    "# hàm sinh id màu  \n",
    "def get_cmap(n):\n",
    "    return 'C' + str(n)\n",
    "\n",
    "# Hàm thực hiện training model, crossvalidate và vẽ lên đồ thị sử dụng mat libplot \n",
    "def plot_learning_curve(estimator, title, label_curve, X, y, ylim=None, cv=None,\n",
    "                        n_jobs=1, train_sizes=np.linspace(.1, 1.0, 5), new_plot=False,\n",
    "                        idx_color=0):\n",
    "    \n",
    "    # Khởi tạo bức ảnh mới với thư viện plot lib \n",
    "    if new_plot:\n",
    "        # plt.figure()\n",
    "        plt.title(title)\n",
    "        plt.xlabel(\"Training examples\")\n",
    "        plt.ylabel(\"Accuracy\")\n",
    "        plt.grid()\n",
    "    \n",
    "    # chú thích nếu có \n",
    "    if ylim is not None:\n",
    "        plt.ylim(*ylim)\n",
    "        \n",
    "    # thực hiện training model, ghi nhận các giá trị trong quá trình training \n",
    "    # cv = số fold cross validate, số phần bộ dữ liệu được chia để thực hiện training testing.\n",
    "    # train_sizes = mảng tỉ lệ, các tỉ lệ được hệ thống chọn làm điểm dừng để thực hiện 1 testing \n",
    "    #  train_sizes = [0.3, 0.5] => hệ thống lấy 30 % dữ liệu để train và thực hiện test, tương tự 50 % ..\n",
    "    # scoring = hàm mục tiêu để đánh giá chất lượng mô hình và vẽ lên đồ thị \n",
    "    train_sizes, train_scores, test_scores = learning_curve(\n",
    "        estimator, X, y, cv=cv, n_jobs=n_jobs, train_sizes=train_sizes, scoring=\"accuracy\")\n",
    "    \n",
    "    # Lấy trung bình cộng các giá trị output của các fold \n",
    "    train_scores_mean = np.mean(train_scores, axis=1)\n",
    "    train_scores_std = np.std(train_scores, axis=1)\n",
    "    test_scores_mean = np.mean(test_scores, axis=1)\n",
    "    test_scores_std = np.std(test_scores, axis=1)\n",
    "    \n",
    "    # random 1 màu để vẽ \n",
    "    color = get_cmap(idx_color)\n",
    "    \n",
    "    # thực hiện vẽ các giá trị số lên đồ thị với màu vừa được random \n",
    "    plt.fill_between(train_sizes, test_scores_mean - test_scores_std,\n",
    "                     test_scores_mean + test_scores_std, alpha=0.1, color=color)\n",
    "    plt.plot(train_sizes, test_scores_mean, 'o-', color=color,\n",
    "             label=label_curve)\n",
    "\n",
    "    plt.legend(loc=\"best\")\n",
    "    return plt"
   ]
  },
  {
   "cell_type": "code",
   "execution_count": 31,
   "metadata": {},
   "outputs": [
    {
     "data": {
      "image/png": "[encoded data removed]",
      "text/plain": [
       "<Figure size 640x480 with 1 Axes>"
      ]
     },
     "metadata": {},
     "output_type": "display_data"
    }
   ],
   "source": [
    "# code\n",
    "# tham khảo miền của C\n",
    "list_C = [0.001, 0.01, 0.1, 1, 5.0, 10.0, 100]\n",
    "title = \"Learning curve with changing C\"\n",
    "\n",
    "for i, C in enumerate(list_C):\n",
    "    model = svm.SVC(kernel='linear', C=C)\n",
    "    model.fit(X_train, y_train)\n",
    "    plt = plot_learning_curve(model, title, \"C = %f\" % (C), X_train, y_train,\n",
    "                              cv=5, n_jobs=-1, idx_color=i, new_plot= (i==0))\n",
    "\n",
    "plt.show()"
   ]
  },
  {
   "cell_type": "markdown",
   "metadata": {},
   "source": [
    "#### Bài 5: Sử dụng GridSearchCV để tìm bộ tham số tốt nhất"
   ]
  },
  {
   "cell_type": "code",
   "execution_count": 33,
   "metadata": {},
   "outputs": [
    {
     "name": "stdout",
     "output_type": "stream",
     "text": [
      "best params:\n",
      "{'C': 10, 'gamma': 0.1, 'kernel': 'rbf'}\n",
      "best estimator: \n",
      "SVC(C=10, gamma=0.1)\n",
      "testing...\n",
      "accuracy_score:  0.8370044052863436\n"
     ]
    }
   ],
   "source": [
    "# code\n",
    "# Có thể tham khảo giá trị các tham số như sau\n",
    "params_grid = {'C': [0.001, 0.01, 0.1, 1, 10, 100],\n",
    "          'gamma': [0.0001, 0.001, 0.01, 0.1],\n",
    "          'kernel':['linear','rbf', 'poly'] }\n",
    "\n",
    "model = svm.SVC()\n",
    "best = GridSearchCV(model, params_grid, scoring='accuracy', n_jobs=-1, cv=5)\n",
    "best.fit(X_train, y_train)\n",
    "print(\"best params:\")\n",
    "print(best.best_params_)\n",
    "print(\"best estimator: \")\n",
    "print(best.best_estimator_)\n",
    "print(\"testing...\")\n",
    "y_pred_best = best.predict(X_test)\n",
    "print(\"accuracy_score: \", accuracy_score(y_test, y_pred_best))"
   ]
  },
  {
   "cell_type": "markdown",
   "metadata": {},
   "source": [
    "### 4.2 Phân loại số viết tay "
   ]
  },
  {
   "cell_type": "code",
   "execution_count": 34,
   "metadata": {},
   "outputs": [
    {
     "name": "stdout",
     "output_type": "stream",
     "text": [
      "Dữ liệu training =  (1437, 64) (1437,)\n",
      "Dữ liệu testing =  (360, 64) (360,)\n"
     ]
    },
    {
     "data": {
      "image/png": "[encoded data removed]",
      "text/plain": [
       "<Figure size 640x480 with 4 Axes>"
      ]
     },
     "metadata": {},
     "output_type": "display_data"
    }
   ],
   "source": [
    "# Standard scientific Python imports\n",
    "import matplotlib.pyplot as plt\n",
    "\n",
    "# Import datasets, classifiers and performance metrics\n",
    "from sklearn import datasets, svm, metrics\n",
    "\n",
    "# The digits dataset\n",
    "digits = datasets.load_digits()\n",
    "\n",
    "# The data that we are interested in is made of 8x8 images of digits, let's\n",
    "# have a look at the first 4 images, stored in the `images` attribute of the\n",
    "# dataset.  If we were working from image files, we could load them using\n",
    "# matplotlib.pyplot.imread.  Note that each image must have the same size. For these\n",
    "# images, we know which digit they represent: it is given in the 'target' of\n",
    "# the dataset.\n",
    "images_and_labels = list(zip(digits.images, digits.target))\n",
    "for index, (image, label) in enumerate(images_and_labels[:4]):\n",
    "    plt.subplot(2, 4, index + 1)\n",
    "    plt.axis('off')\n",
    "    plt.imshow(image, cmap=plt.cm.gray_r, interpolation='nearest')\n",
    "    plt.title('Training: %i' % label)\n",
    "\n",
    "# To apply a classifier on this data, we need to flatten the image, to\n",
    "# turn the data in a (samples, feature) matrix:\n",
    "n_samples = len(digits.images)\n",
    "data = digits.images.reshape((n_samples, -1))\n",
    "target = digits.target\n",
    "X_train, X_test, y_train, y_test = train_test_split( data, target, test_size=test_size)\n",
    "\n",
    "print(\"Dữ liệu training = \", X_train.shape, y_train.shape)\n",
    "print(\"Dữ liệu testing = \", X_test.shape, y_test.shape)\n"
   ]
  },
  {
   "cell_type": "markdown",
   "metadata": {},
   "source": [
    "#### Bài 6: phân loại với dữ liệu trên"
   ]
  },
  {
   "cell_type": "code",
   "execution_count": 35,
   "metadata": {},
   "outputs": [
    {
     "name": "stdout",
     "output_type": "stream",
     "text": [
      "0.9944444444444445\n"
     ]
    }
   ],
   "source": [
    "##### exercise #####\n",
    "# Yêu cầu: Ứng dụng mô hình svm vào bài toán phân loại ảnh \n",
    "# Gợi ý: dữ liệu đã được chia train, test, Áp dụng phần 2. và 3. để training và testing model. Chú ý nên có thêm phần tuning model\n",
    "######################\n",
    "\n",
    "# model = None \n",
    "model_6 = svm.SVC()\n",
    "model_6.fit(X_train, y_train)\n",
    "y_pred_6 = model_6.predict(X_test)\n",
    "print(accuracy_score(y_test, y_pred_6))\n",
    "\n",
    "######################"
   ]
  }
 ],
 "metadata": {
  "kernelspec": {
   "display_name": "base",
   "language": "python",
   "name": "python3"
  },
  "language_info": {
   "codemirror_mode": {
    "name": "ipython",
    "version": 3
   },
   "file_extension": ".py",
   "mimetype": "text/x-python",
   "name": "python",
   "nbconvert_exporter": "python",
   "pygments_lexer": "ipython3",
   "version": "3.13.5"
  }
 },
 "nbformat": 4,
 "nbformat_minor": 2
}
