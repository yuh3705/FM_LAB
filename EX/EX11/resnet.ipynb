{
 "cells": [
  {
   "cell_type": "markdown",
   "metadata": {
    "id": "9cvLiKlk53vQ"
   },
   "source": [
    "# Mạng phần dư (ResNet)\n",
    "<!-- :label:`sec_resnet` -->\n",
    "\n",
    "Khi thiết kế các mạng ngày càng sâu, ta cần hiểu việc thêm các tầng sẽ tăng độ phức tạp và khả năng biểu diễn của mạng như thế nào. Quan trọng hơn là khả năng thiết kế các mạng trong đó việc thêm các tầng vào mạng chắc chắn sẽ làm tăng tính biểu diễn thay vì chỉ tạo ra một chút khác biệt. \n",
    "\n",
    "Để làm được điều này, chúng ta cần một chút lý thuyết.\n",
    "\n",
    "## Function Classes\n",
    "\n",
    "Coi $\\mathcal{F}$ là một lớp các hàm mà một kiến trúc mạng cụ thể(Cùng với tốc độ học và các siêu tham số khác) có thể đạt được.\n",
    "Nói cách khác, với mọi hàm số $f \\in \\mathcal{F}$ luôn tồn tại một số tập tham số (như weights và biases) có thể tìm được bằng việc huấn luyện trên một tập dữ liệu phù hợp.\n",
    "\n",
    "Giả sử $f^*$ là hàm chúng ta cần tìm.\n",
    "Nếu nó thuộc tập $\\mathcal{F}$ thì sẽ tốt, nhưng thương không may mắn như vậy :)) Thay vào đó, Chúng ta sẽ cố gấng tìm các hàm số  $f^*_\\mathcal{F}$  tố nhất có thể trong tập $\\mathcal{F}$.\n",
    "\n",
    "Ví dụ, chúng ta thử giải bài toán tối ưu sau, với tập dataset cho trước, (Features $\\mathbf{X}$\n",
    "và labels $\\mathbf{y}$):\n",
    "\n",
    "$$f^*_\\mathcal{F} \\stackrel{\\mathrm{def}}{=} \\mathop{\\mathrm{argmin}}_f L(\\mathbf{X}, \\mathbf{y}, f) \\text{ subject to } f \\in \\mathcal{F}.$$\n",
    "\n",
    "Khá hợp lý khi giả sử rằng nếu thiết kế một kiến trúc khác $\\mathcal{F}'$ chúng ta có thể đạt được kết quả tốt hơn. Nói cách khác, chúng ta kỳ vọng $f^*_{\\mathcal{F}'}$ sẽ \"tốt hơn\"  $f^*_{\\mathcal{F}}$. Tuy nhiên, nếu $\\mathcal{F} \\not\\subseteq \\mathcal{F}'$ thì không thể khẳng định là $f^*_{\\mathcal{F}'}$ tốt hơn $f^*_{\\mathcal{F}}$. Thực tế, $f^*_{\\mathcal{F}'}$ thậm chí có thể xấu hơn. \n",
    "\n",
    "Việc thêm các tầng không phải lúc nào cũng làm tăng tính biểu diễn của mạng. Xem ví dụ ở hình sau, chúng ta thấy rằng ở hình bên trái(các lớp hàm số tổng quát), \n",
    "$\\mathcal{F}_3$ gần $f^*$ hơn là $\\mathcal{F}_1$, $\\mathcal{F}_6$, không thể đảm bảo rằng tăng độ phực tạp có thể giảm khoảng cách với  $f^*$. Trong khi đó, với  ở hình bên phải(các lớp với hàm số lống nhau)\n",
    "với $\\mathcal{F}_1 \\subseteq \\ldots \\subseteq \\mathcal{F}_6$\n",
    "chúng ta có thể tránh được vấn đề ở trường hợp các lớp hàm số tổng quát, khi mà khoảng cách đến hàm cần tìm  $f^*$, trên thực tế có thể tăng khi độ phức tạp tăng lên\n",
    "\n",
    "![For non-nested function classes, a larger (indicated by area) function class does not guarantee to get closer to the \"truth\" function ($f^*$). This does not happen in nested function classes.](http://d2l.ai/_images/functionclasses.svg)\n",
    "<!-- :label:`fig_functionclasses` -->\n",
    "\n",
    "Chỉ khi các lớp hàm lớn hơn chứa các lớp nhỏ hơn, thì mới đảm bảo rằng việc tăng thêm các tầng sẽ tăng khả năng biểu diễn của mạng.\n",
    "Nếu ta huấn luyện tầng mới được thêm vào thành một ánh xạ đồng nhất $f(\\mathbf{x}) = \\mathbf{x}$, thì mô hình mới sẽ hiệu quả ít nhất bằng mô hình ban đầu. Vì tầng được thêm vào có thể khớp dữ liệu huấn luyện tốt hơn, dẫn đến sai số huấn luyện cũng nhỏ hơn.\n",
    "\n",
    "Đây là câu hỏi mà He và các cộng sự đã suy nghĩ khi nghiên cứu các mô hình thị giác sâu năm 2016. Ý tưởng trọng tâm của ResNet là mỗi tầng được thêm vào nên có một thành phần là hàm số đồng nhất\n",
    "\n",
    "Cách suy nghĩ này khá trừu tượng nhưng lại dẫn đến một lời giải đơn giản khá ngạc nhiên, một khối phần dư (residual block). Với ý tưởng này, ResNet đã chiến thắng cuộc thi Nhận dạng Ảnh ImageNet năm 2015. Thiết kế này có ảnh hưởng sâu sắc tới việc xây dựng các mạng nơ-ron sâu.\n",
    "\n",
    "## (**Residual Blocks**)\n",
    "\n",
    "Chúng ta sẽ tập trung vào mạng sau đây. Đầu vào là $\\mathbf{x}$,\n",
    "hàm ánh xạ cần học được là $f(\\mathbf{x})$, và được dùng làm đầu vào của hàm kích hoạt(on top).\n",
    "Phần nằm trong viền nét đứt bên trái phải khớp trực tiếp với ánh xạ $f(\\mathbf{x})$.\n",
    "Ở hình bên phải, phần trong viền nét đứt cần biểu diễn được *residual mapping* $f(\\mathbf{x}) - \\mathbf{x}$, giống với cái tên của nó :)).\n",
    "\n",
    "Trên thực tế, ánh xạ phần dư thường dễ tối ưu hơn, chúng ta chỉ cần để weights và biases (e.g., fully-connected layer and convolutional layer)\n",
    "nằm trong phần nét đứt\n",
    "về 0. Trong ảnh bên phải, chúng ta thấy có một shortcut connection nối ngay tử input. Với resudual blocks, quá trình lan truyền thuận nhanh hơn thông qua kết nối residual.\n",
    "\n",
    "![A regular block (left) and a residual block (right).](https://github.com/d2l-ai/d2l-tensorflow-colab/blob/master/img/residual-block.svg?raw=1)\n",
    "<!-- :label:`fig_residual_block` -->\n",
    "\n",
    "\n",
    "ResNet có thiết kế tầng tích chập $3\\times 3$ giống VGG. Khối phần dư có hai tầng tích chập  $3\\times 3$  với cùng số kênh đầu ra. Mỗi tầng tích chập được theo sau bởi một tầng chuẩn hóa theo batch và một hàm kích hoạt ReLU. Ta đưa đầu vào qua khối phần dư rồi cộng với chính nó trước hàm kích hoạt ReLU cuối cùng. Thiết kế này đòi hỏi đầu ra của hai tầng tích chập phải có cùng kích thước với đầu vào, để có thể cộng lại với nhau. Nếu muốn thay đổi số lượng kênh hoặc sải bước trong khối phần dư, cần thêm một tầng tích chập  $1\\times 1$  để thay đổi kích thước đầu vào tương ứng ở nhánh ngoài. Hãy cùng xem đoạn mã bên dưới."
   ]
  },
  {
   "cell_type": "code",
   "execution_count": 1,
   "metadata": {
    "id": "ebFrwYZo6Jh8"
   },
   "outputs": [],
   "source": [
    "import torch\n",
    "import torch.nn as nn\n",
    "\n",
    "class Residual(nn.Module):\n",
    "    def __init__(self, in_channels, num_channels, use_1x1conv=False, strides=1):\n",
    "        super(Residual, self).__init__()\n",
    "        self.conv1 = nn.Conv2d(in_channels,num_channels, kernel_size=3, padding=1,stride=strides)\n",
    "        self.conv2 = nn.Conv2d(num_channels,num_channels, kernel_size=3, padding=1)\n",
    "        self.conv3 = None # Đừng sửa None này nhé :!\n",
    "        if use_1x1conv:\n",
    "            self.conv3 = nn.Conv2d(in_channels,num_channels,kernel_size=1,stride=strides)\n",
    "        self.bn1 = nn.BatchNorm2d(num_channels)\n",
    "        self.bn2 = nn.BatchNorm2d(num_channels  )\n",
    "\n",
    "    def forward(self, X):\n",
    "        Y = nn.ReLU()(self.bn1(self.conv1(X)))\n",
    "        Y = self.bn2(self.conv2(Y))\n",
    "        if self.conv3:\n",
    "            X = self.conv3(X)\n",
    "        return nn.ReLU()(Y + X)"
   ]
  },
  {
   "cell_type": "markdown",
   "metadata": {
    "id": "Jm-om8nI6qFy"
   },
   "source": [
    "Đoạn mã này tạo ra hai loại mạng: một loại cộng đầu vào vào đầu ra trước khi áp dụng hàm phi tuyến ReLU (khi use_1x1conv=True), còn ở loại thứ hai chúng ta thay đổi số kênh và độ phân giải bằng một tầng tích chập  1×1  trước khi thực hiện phép cộng\n",
    "\n",
    "![ResNet block with and without $1 \\times 1$ convolution.](https://github.com/d2l-ai/d2l-tensorflow-colab/blob/master/img/resnet-block.svg?raw=1)\n",
    "<!-- :label:`fig_resnet_block` -->\n",
    "\n",
    "<!-- Now let us look at [**a situation where the input and output are of the same shape**]. -->\n"
   ]
  },
  {
   "cell_type": "code",
   "execution_count": 2,
   "metadata": {
    "id": "eamO2Ufh6q8g"
   },
   "outputs": [],
   "source": [
    "X = torch.randn((4, 3, 6, 6)) \n",
    "blk = Residual(in_channels = 3, num_channels = 3)\n",
    "assert blk(X).shape  == (4,3,6,6)"
   ]
  },
  {
   "cell_type": "markdown",
   "metadata": {
    "id": "EZvuuoAd6z56"
   },
   "source": [
    "Chúng ta cũng có thể giảm một nửa kích thước chiều cao và chiều rộng của đầu ra trong khi tăng số kênh.\n"
   ]
  },
  {
   "cell_type": "code",
   "execution_count": 3,
   "metadata": {
    "id": "XcpSGH4U60R8"
   },
   "outputs": [],
   "source": [
    "blk = Residual(in_channels = 3,num_channels = 6, use_1x1conv=True, strides=2)\n",
    "assert blk(X).shape == (4,6,3,3)"
   ]
  },
  {
   "cell_type": "markdown",
   "metadata": {
    "id": "rYoVX_9T62mp"
   },
   "source": [
    "## [**ResNet Model**]\n",
    "\n",
    "Hai tầng đầu tiên của ResNet giống hai tầng đầu tiên của GoogLeNet: tầng tích chập $7\\times 7$  với 64 kênh đầu ra và sải bước 2, theo sau bởi tầng maxpool  $3\\times 3$ với sải bước 2. Sự khác biệt là trong ResNet, mỗi tầng tích chập theo sau bởi tầng chuẩn hóa theo batch.\n",
    "\n",
    "\n"
   ]
  },
  {
   "cell_type": "code",
   "execution_count": 4,
   "metadata": {
    "id": "Kchbj6uf64La"
   },
   "outputs": [],
   "source": [
    "net = nn.Sequential()\n",
    "net.add_module(\"conv\",nn.Conv2d(1,64, kernel_size=7, stride=2, padding=3))\n",
    "net.add_module(\"batchnorm\",nn.BatchNorm2d(64))\n",
    "net.add_module(\"Relu\",nn.ReLU())\n",
    "net.add_module(\"maxpool\",nn.MaxPool2d(3, stride = 2, padding = 1))"
   ]
  },
  {
   "cell_type": "markdown",
   "metadata": {
    "id": "C2nvUXeV65tS"
   },
   "source": [
    "GoogLeNet sử dụng bốn mô-đun được tạo thành từ các khối Inception. ResNet sử dụng bốn mô-đun được tạo thành từ các khối phần dư có cùng số kênh đầu ra. Mô-đun đầu tiên có số kênh bằng số kênh đầu vào. Vì trước đó đã sử dụng tầng gộp cực đại với sải bước 2, nên không cần phải giảm chiều cao và chiều rộng ở mô-đun này. Trong các mô-đun sau, khối phần dư đầu tiên nhân đôi số kênh, đồng thời giảm một nửa chiều cao và chiều rộng.\n",
    "\n",
    "Bây giờ ta sẽ lập trình mô-đun này. Chú ý rằng mô-đun đầu tiên được xử lý khác một chút."
   ]
  },
  {
   "cell_type": "code",
   "execution_count": 5,
   "metadata": {
    "id": "XpKCqzh_66OZ"
   },
   "outputs": [],
   "source": [
    "def resnet_block(in_channels ,num_channels, num_residuals, first_block=False):\n",
    "    blk = nn.Sequential()\n",
    "    for i in range(num_residuals):\n",
    "        if i == 0 and not first_block:\n",
    "            blk.add_module('residual_{}'.format(i),Residual(in_channels , num_channels, use_1x1conv=True, strides=2))\n",
    "        else:\n",
    "            blk.add_module('residual_{}'.format(i),Residual(num_channels, num_channels))\n",
    "    return blk"
   ]
  },
  {
   "cell_type": "markdown",
   "metadata": {
    "id": "g5CFog2b69pr"
   },
   "source": [
    "Sau đó, chúng ta thêm các khối phần dư vào ResNet. Ở đây, mỗi mô-đun có hai khối phần dư."
   ]
  },
  {
   "cell_type": "code",
   "execution_count": 6,
   "metadata": {
    "id": "wSVzt0lA6-I7"
   },
   "outputs": [],
   "source": [
    "net.add_module('resnet_block1',resnet_block(64, 64, 2, first_block=True))\n",
    "net.add_module('resnet_block2',resnet_block(64,128, 2))\n",
    "net.add_module('resnet_block3',resnet_block(128,256, 2))\n",
    "net.add_module('resnet_block4',resnet_block(256,512, 2))"
   ]
  },
  {
   "cell_type": "markdown",
   "metadata": {
    "id": "L00tHToW7Alv"
   },
   "source": [
    "Cuối cùng, giống như GoogLeNet, ta thêm một tầng GlobalAvgPool2D và một tầng Dense."
   ]
  },
  {
   "cell_type": "code",
   "execution_count": 7,
   "metadata": {
    "id": "VLX0IgV77CeN"
   },
   "outputs": [],
   "source": [
    "net.add_module('GlobalAvr',nn.AdaptiveAvgPool2d((1, 1)))\n",
    "net.add_module('Flatten',nn.Flatten())\n",
    "net.add_module('FC',nn.Linear(512,10))"
   ]
  },
  {
   "cell_type": "markdown",
   "metadata": {
    "id": "g1irEBbF7FRX"
   },
   "source": [
    "Có 4 tầng tích chập trong mỗi mô-đun (không tính tầng tích chập  1×1 ). Cộng thêm tầng tích chập đầu tiên và tầng kết nối đầy đủ cuối cùng, mô hình có tổng cộng 18 tầng. Do đó, mô hình này thường được gọi là ResNet-18. Có thể thay đổi số kênh và các khối phần dư trong mô-đun để tạo ra các mô hình ResNet khác nhau, ví dụ mô hình 152 tầng của ResNet-152. Mặc dù có kiến trúc lõi tương tự như GoogLeNet, cấu trúc của ResNet đơn giản và dễ sửa đổi hơn. Tất cả các yếu tố này dẫn đến sự phổ cập nhanh chóng và rộng rãi của ResNet\n",
    "\n",
    "<!-- :numref:`fig_resnet18` depicts the full ResNet-18. -->\n",
    "\n",
    "![The ResNet-18 architecture.](http://d2l.ai/_images/resnet18.svg)\n",
    "<!-- :label:`fig_resnet18` -->\n",
    "\n",
    "Trước khi huấn luyện, hãy quan sát thay đổi của kích thước đầu vào qua các mô-đun khác nhau trong ResNet. Như trong tất cả các kiến trúc trước, độ phân giải giảm trong khi số lượng kênh tăng đến khi tầng gộp trung bình toàn cục tổng hợp tất cả các đặc trưng."
   ]
  },
  {
   "cell_type": "code",
   "execution_count": 8,
   "metadata": {
    "id": "2DdQudPL7IwV"
   },
   "outputs": [
    {
     "name": "stdout",
     "output_type": "stream",
     "text": [
      "Conv2d output shape:\t torch.Size([1, 64, 112, 112])\n",
      "BatchNorm2d output shape:\t torch.Size([1, 64, 112, 112])\n",
      "ReLU output shape:\t torch.Size([1, 64, 112, 112])\n",
      "MaxPool2d output shape:\t torch.Size([1, 64, 56, 56])\n",
      "Sequential output shape:\t torch.Size([1, 64, 56, 56])\n",
      "Sequential output shape:\t torch.Size([1, 128, 28, 28])\n",
      "Sequential output shape:\t torch.Size([1, 256, 14, 14])\n",
      "Sequential output shape:\t torch.Size([1, 512, 7, 7])\n",
      "AdaptiveAvgPool2d output shape:\t torch.Size([1, 512, 1, 1])\n",
      "Flatten output shape:\t torch.Size([1, 512])\n",
      "Linear output shape:\t torch.Size([1, 10])\n"
     ]
    }
   ],
   "source": [
    "X = torch.randn((1, 1, 224, 224))\n",
    "for layer in net:\n",
    "    X = layer(X)\n",
    "    print(layer.__class__.__name__, 'output shape:\\t', X.shape)"
   ]
  },
  {
   "cell_type": "markdown",
   "metadata": {
    "id": "UjNdiuhe7INK"
   },
   "source": [
    "## [**Training**]\n",
    "\n",
    "Chúng ta sẽ train với tập MNIST, các bước như các bài notebook trước nhé bạn."
   ]
  },
  {
   "cell_type": "code",
   "execution_count": 9,
   "metadata": {
    "id": "RCSRQnXZ7NeV"
   },
   "outputs": [],
   "source": [
    "import torch.nn.functional as F\n",
    "import torch.optim as optim\n",
    "from torchvision import datasets, transforms\n",
    "import numpy as np\n",
    "import matplotlib.pyplot as plt\n",
    "import random"
   ]
  },
  {
   "cell_type": "code",
   "execution_count": 10,
   "metadata": {
    "id": "HdjNL6IzNfE0"
   },
   "outputs": [],
   "source": [
    "epochs = 2\n",
    "\n",
    "# Các tham số cần thiết cho quá trình traning.\n",
    "learning_rate = 0.001\n",
    "batch_size = 128\n",
    "display_step = 100\n",
    "\n",
    "# Path lưu best model \n",
    "checkpoint = 'model.pth' # có thể để dạng *.pth\n",
    "\n",
    "# device chúng ta dùng cuda\n",
    "device = 'cuda' if torch.cuda.is_available() else 'cpu'\n",
    "assert device == 'cuda' "
   ]
  },
  {
   "cell_type": "code",
   "execution_count": 11,
   "metadata": {
    "id": "D7Q2z7WRNfSF"
   },
   "outputs": [],
   "source": [
    "# Transform image \n",
    "transform=transforms.Compose([\n",
    "    transforms.ToTensor(),\n",
    "    transforms.Normalize((0.5,), (0.5,)) \n",
    "    ])\n",
    "\n",
    "# load dataset từ torchvision.datasets\n",
    "train_dataset = datasets.MNIST('../data', train=True, download=True,transform=transform)\n",
    "test_dataset = datasets.MNIST('../data', train=False,transform=transform)\n",
    "train_loader = torch.utils.data.DataLoader(train_dataset,batch_size=batch_size)\n",
    "test_loader = torch.utils.data.DataLoader(test_dataset,batch_size=batch_size)"
   ]
  },
  {
   "cell_type": "code",
   "execution_count": 12,
   "metadata": {
    "colab": {
     "base_uri": "https://localhost:8080/"
    },
    "executionInfo": {
     "elapsed": 9725,
     "status": "ok",
     "timestamp": 1629994282959,
     "user": {
      "displayName": "Max Ph",
      "photoUrl": "",
      "userId": "05319390549713197190"
     },
     "user_tz": -420
    },
    "id": "KXNxVqPrNfVV",
    "outputId": "f1acf45e-9a34-4812-94f4-79754812e475"
   },
   "outputs": [],
   "source": [
    "# call model, set deivce\n",
    "model = net.to(device)\n",
    "# load lại pretrained model (nếu có)\n",
    "try:\n",
    "  None\n",
    "except:\n",
    "  print(\"!!! Hãy train để có checkpoint file\")"
   ]
  },
  {
   "cell_type": "code",
   "execution_count": 16,
   "metadata": {
    "id": "w5islDdLNfaE"
   },
   "outputs": [
    {
     "name": "stdout",
     "output_type": "stream",
     "text": [
      "Train Epoch: 1 [0/60000 (0%)]\tTrain Loss: 0.024610\n",
      "Train Epoch: 1 [12800/60000 (21%)]\tTrain Loss: 0.049679\n",
      "Train Epoch: 1 [25600/60000 (43%)]\tTrain Loss: 0.117382\n",
      "Train Epoch: 1 [38400/60000 (64%)]\tTrain Loss: 0.064998\n",
      "Train Epoch: 1 [51200/60000 (85%)]\tTrain Loss: 0.088503\n",
      "***********    TEST_ACC = 98.76%    ***********\n"
     ]
    }
   ],
   "source": [
    "criterion = nn.CrossEntropyLoss()\n",
    "optimizer = optim.Adam(model.parameters(), lr=learning_rate)\n",
    "best_val_loss = 999\n",
    "\n",
    "for epoch in range(1,epochs):\n",
    "    # Quá trình training \n",
    "    model.train()\n",
    "    for batch_idx, (data, target) in enumerate(train_loader):\n",
    "        data, target = data.to(device), target.to(device) # device?\n",
    "        optimizer.zero_grad() # Zero_grad\n",
    "        output = model(data)\n",
    "        loss = criterion(output, target)\n",
    "        loss.backward() # backward\n",
    "        optimizer.step() # update weights\n",
    "        if batch_idx % display_step == 0:\n",
    "            print('Train Epoch: {} [{}/{} ({:.0f}%)]\\tTrain Loss: {:.6f}'.format(\n",
    "                epoch, batch_idx * len(data), len(train_loader.dataset),\n",
    "                100. * batch_idx / len(train_loader), loss.item()))\n",
    "    # Quá trình testing \n",
    "    model.eval()\n",
    "    test_loss = 0\n",
    "    correct = 0\n",
    "    # set no grad cho quá trình testing\n",
    "    with torch.no_grad():\n",
    "        for data, target in test_loader:\n",
    "            data, target = data.to(device), target.to(device)\n",
    "            output = model(data)\n",
    "            output = F.log_softmax(output, dim=1) # log softmax using F, chu y dim nhe\n",
    "            test_loss += criterion(output, target)\n",
    "            pred = output.argmax(dim=1, keepdim=True) # argmax để lấy predicted label, chú ý keepdim = True\n",
    "            correct += pred.eq(target.view_as(pred)).sum().item()\n",
    "    test_loss /= len(test_loader.dataset) \n",
    "    if test_loss < best_val_loss:\n",
    "      best_val_loss = test_loss\n",
    "      torch.save(model.state_dict, checkpoint) # lưu model\n",
    "      print(\"***********    TEST_ACC = {}%    ***********\".format(correct/100))"
   ]
  },
  {
   "cell_type": "markdown",
   "metadata": {
    "id": "kK2txB5k7QhS"
   },
   "source": [
    "## Tóm tắt\n",
    "\n",
    "* Ánh xạ phần dư có thể học hàm nhận dạng dễ dàng hơn, chẳng hạn như đẩy các tham số trong lớp trọng số về không.\n",
    "* Chúng ta có thể huấn luyện hiệu quả mạng nơ-ron sâu nhờ khối phần dư chuyển dữ liệu liên tầng.\n",
    "* ResNet có ảnh hưởng lớn đến thiết kế sau này của các mạng nơ-ron sâu, cả tích chập và tuần tự.\n",
    "\n",
    "\n",
    "\n"
   ]
  }
 ],
 "metadata": {
  "accelerator": "GPU",
  "colab": {
   "authorship_tag": "ABX9TyPbjfXQMNi4Ell7xK0kesiC",
   "collapsed_sections": [],
   "name": "resnet.ipynb",
   "provenance": []
  },
  "kernelspec": {
   "display_name": "base",
   "language": "python",
   "name": "python3"
  },
  "language_info": {
   "codemirror_mode": {
    "name": "ipython",
    "version": 3
   },
   "file_extension": ".py",
   "mimetype": "text/x-python",
   "name": "python",
   "nbconvert_exporter": "python",
   "pygments_lexer": "ipython3",
   "version": "3.13.5"
  }
 },
 "nbformat": 4,
 "nbformat_minor": 0
}
