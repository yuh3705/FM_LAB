{
 "cells": [
  {
   "cell_type": "markdown",
   "metadata": {
    "id": "xrR5fQm7p_Zs"
   },
   "source": [
    "#  Bài tâp về mạng tích chập\n",
    "\n",
    "Trong bài này, chúng ta sẽ xây dựng một mạng tích chập sử dụng torch và thử train&test với tập MNIST nhé.\n"
   ]
  },
  {
   "cell_type": "markdown",
   "metadata": {
    "id": "ff69GG6MqBL4"
   },
   "source": [
    "## Tổng quan một mạng CNN cơ bản\n",
    "\n",
    "![CNN](http://personal.ie.cuhk.edu.hk/~ccloy/project_target_code/images/fig3.png)\n",
    "\n",
    "## MNIST dataset\n",
    "\n",
    "Trong bài tập này, chúng ta sẽ sử dựng tập MNIST rất nổi tiếng vể  các chữ số viết tay từ 0->9. Tập dataset này bao gồm 60000 ảnh cho training và 10000 ảnh cho testing. Các bức ảnh này đều đã được căn giữa và chỉnh với kích thước cố định là 28x28.\n",
    "\n",
    "Trong phần tiền xử lý, chúng ta sẽ cần chuẩn hóa các giá trị pixel của mỗi ảnh về khoảng [0,1], kiểu dữ liệu sẽ là float32\n",
    "\n",
    "<!-- ![MNIST Dataset](http://neuralnetworksanddeeplearning.com/images/mnist_100_digits.png) -->\n",
    "\n",
    "Chi tiết tại: http://yann.lecun.com/exdb/mnist/"
   ]
  },
  {
   "cell_type": "markdown",
   "metadata": {
    "id": "azKN_M4XqLOg"
   },
   "source": [
    "# Some configs\n",
    "\n",
    "- Chúng ta sẽ setup một số hyper-parameters cũng như một số giá trị cần dùng theo hướng dẫn nhé\n",
    "- Ở đây, mình muốn các bạn sử dụng Cuda, hãy vào runtime, rồi change the runtime type sang GPU nhé "
   ]
  },
  {
   "cell_type": "code",
   "execution_count": 1,
   "metadata": {
    "id": "GZ19LKc1sWwt"
   },
   "outputs": [],
   "source": [
    "# Trước hết, chúng ta import một số thư viện cần thiết đã\n",
    "import torch\n",
    "import torch.nn as nn\n",
    "import torch.nn.functional as F\n",
    "import torch.optim as optim\n",
    "from torchvision import datasets, transforms\n",
    "import numpy as np\n",
    "import matplotlib.pyplot as plt\n",
    "import random"
   ]
  },
  {
   "cell_type": "code",
   "execution_count": 2,
   "metadata": {
    "id": "5JhKH6cNqF2X"
   },
   "outputs": [
    {
     "name": "stdout",
     "output_type": "stream",
     "text": [
      "True\n"
     ]
    }
   ],
   "source": [
    "# Số classes trong tập MNIST\n",
    "num_classes = 10\n",
    "\n",
    "# Số epoch \n",
    "epochs = 2\n",
    "\n",
    "# Các tham số cần thiết cho quá trình traning.\n",
    "learning_rate = 0.001\n",
    "batch_size = 128\n",
    "display_step = 50\n",
    "\n",
    "# Path lưu best model \n",
    "checkpoint = 'model.pth' # có thể để dạng *.pth\n",
    "\n",
    "# device chúng ta dùng cuda\n",
    "print(torch.cuda.is_available())\n",
    "device = 'cuda' if torch.cuda.is_available() else 'cpu'\n",
    "assert device == 'cuda' "
   ]
  },
  {
   "cell_type": "markdown",
   "metadata": {
    "id": "ebUhHkCoqNUP"
   },
   "source": [
    "# Dataloader\n"
   ]
  },
  {
   "cell_type": "code",
   "execution_count": 11,
   "metadata": {
    "id": "ifrA3N7qqIGR"
   },
   "outputs": [],
   "source": [
    "# Transform image \n",
    "transform=transforms.Compose([\n",
    "    transforms.ToTensor(),\n",
    "    transforms.Normalize((0.5,), (0.5,)) \n",
    "    ])\n",
    "\n",
    "# load dataset từ torchvision.datasets\n",
    "train_dataset = datasets.MNIST('../data', train=True, download=True,transform=transform)\n",
    "test_dataset = datasets.MNIST('../data', train=False,transform=transform)\n",
    "train_loader = torch.utils.data.DataLoader(train_dataset,batch_size=batch_size)\n",
    "test_loader = torch.utils.data.DataLoader(test_dataset,batch_size=batch_size)"
   ]
  },
  {
   "cell_type": "markdown",
   "metadata": {
    "id": "J6EMkw45qTuh"
   },
   "source": [
    "# Model\n",
    "\n",
    "- Trong bài này, chúng ta sẽ định nghĩa một class Net, nó sẽ có cấu trúc như hình ở đầu notebook\n",
    "- Bạn hãy chỉnh các tham số cho phù hợp nhé :) "
   ]
  },
  {
   "cell_type": "code",
   "execution_count": 4,
   "metadata": {
    "id": "Geui1VFQwVXk"
   },
   "outputs": [],
   "source": [
    "import torch\n",
    "import torch.nn as nn\n",
    "import torch.nn.functional as F\n",
    "\n",
    "class Net(nn.Module):\n",
    "    def __init__(self):\n",
    "        super(Net, self).__init__()\n",
    "\n",
    "        # --- 1. Convolution blocks ---\n",
    "        self.conv1 = nn.Conv2d(1, 32, kernel_size=3, stride=1, padding=1)  # (1,28,28) -> (32,28,28)\n",
    "        self.maxpool1 = nn.MaxPool2d(2, 2)                                # -> (32,14,14)\n",
    "\n",
    "        self.conv2 = nn.Conv2d(32, 64, kernel_size=3, stride=1, padding=1) # -> (64,14,14)\n",
    "        self.maxpool2 = nn.MaxPool2d(2, 2)                                # -> (64,7,7)\n",
    "\n",
    "        self.conv3 = nn.Conv2d(64, 128, kernel_size=3, stride=1, padding=1) # -> (128,7,7)\n",
    "        self.maxpool3 = nn.MaxPool2d(2, 2)                                # -> (128,3,3)\n",
    "\n",
    "        # --- 2. Fully connected layers ---\n",
    "        self.fc1 = nn.Linear(128 * 3 * 3, 256)\n",
    "        self.fc2 = nn.Linear(256, 64)\n",
    "        self.fc3 = nn.Linear(64, 10)  \n",
    "\n",
    "        # --- 3. Common layers ---\n",
    "        self.dropout = nn.Dropout(0.25)\n",
    "        self.relu = nn.ReLU()\n",
    "\n",
    "    def forward(self, x):\n",
    "        # --- Convolution + pooling ---\n",
    "        x = self.relu(self.conv1(x))\n",
    "        x = self.maxpool1(x)\n",
    "\n",
    "        x = self.relu(self.conv2(x))\n",
    "        x = self.maxpool2(x)\n",
    "\n",
    "        x = self.relu(self.conv3(x))\n",
    "        x = self.maxpool3(x)\n",
    "\n",
    "        # --- Flatten ---\n",
    "        x = x.view(x.size(0), -1)  \n",
    "\n",
    "        # --- Fully connected ---\n",
    "        x = self.relu(self.fc1(x))\n",
    "        x = self.dropout(x)\n",
    "\n",
    "        x = self.relu(self.fc2(x))\n",
    "        x = self.dropout(x)\n",
    "\n",
    "        x = self.fc3(x) \n",
    "\n",
    "        return x\n"
   ]
  },
  {
   "cell_type": "code",
   "execution_count": 5,
   "metadata": {
    "id": "6nFITKwwqtx8"
   },
   "outputs": [
    {
     "name": "stdout",
     "output_type": "stream",
     "text": [
      "!!! Hãy train để có checkpoint file\n"
     ]
    }
   ],
   "source": [
    "# call model \n",
    "model = Net().to(device)\n",
    "\n",
    "# load lại pretrained model (nếu có)\n",
    "try:\n",
    "  model.load_state_dict(torch.load(checkpoint))\n",
    "except:\n",
    "  print(\"!!! Hãy train để có checkpoint file\")"
   ]
  },
  {
   "cell_type": "code",
   "execution_count": 13,
   "metadata": {
    "id": "7ycsK9EWz1vc"
   },
   "outputs": [
    {
     "name": "stdout",
     "output_type": "stream",
     "text": [
      "Train Epoch: 1 [0/60000 (0%)]\tTrain Loss: 0.090101\n",
      "Train Epoch: 1 [6400/60000 (11%)]\tTrain Loss: 0.058464\n",
      "Train Epoch: 1 [12800/60000 (21%)]\tTrain Loss: 0.074898\n",
      "Train Epoch: 1 [19200/60000 (32%)]\tTrain Loss: 0.084772\n",
      "Train Epoch: 1 [25600/60000 (43%)]\tTrain Loss: 0.111403\n",
      "Train Epoch: 1 [32000/60000 (53%)]\tTrain Loss: 0.103931\n",
      "Train Epoch: 1 [38400/60000 (64%)]\tTrain Loss: 0.077939\n",
      "Train Epoch: 1 [44800/60000 (75%)]\tTrain Loss: 0.065236\n",
      "Train Epoch: 1 [51200/60000 (85%)]\tTrain Loss: 0.159821\n",
      "Train Epoch: 1 [57600/60000 (96%)]\tTrain Loss: 0.091231\n",
      "***********    TEST_ACC = 98.95 %    ***********\n"
     ]
    }
   ],
   "source": [
    "criterion = nn.CrossEntropyLoss()\n",
    "optimizer = optim.Adam(model.parameters(), lr = learning_rate)\n",
    "best_val_loss = 999\n",
    "\n",
    "for epoch in range(1,2):\n",
    "    # Quá trình training \n",
    "    model.train()\n",
    "    for batch_idx, (data, target) in enumerate(train_loader):\n",
    "        data, target = data.to(device), target.to(device)\n",
    "        optimizer.zero_grad()\n",
    "        output = model(data)\n",
    "        loss = criterion(output, target)\n",
    "        loss.backward()\n",
    "        optimizer.step()\n",
    "        if batch_idx % display_step == 0:\n",
    "            print('Train Epoch: {} [{}/{} ({:.0f}%)]\\tTrain Loss: {:.6f}'.format(\n",
    "                epoch, batch_idx * len(data), len(train_loader.dataset),\n",
    "                100. * batch_idx / len(train_loader), loss.item()))\n",
    "    # Quá trình testing \n",
    "    model.eval()\n",
    "    test_loss = 0\n",
    "    correct = 0\n",
    "    # set no grad cho quá trình testing\n",
    "    with torch.no_grad():\n",
    "        for data, target in test_loader:\n",
    "            data, target = data.to(device), target.to(device)\n",
    "            output = model(data)\n",
    "            output = F.log_softmax(output,dim=1) # log softmax dùng F, chú ý dim\n",
    "            test_loss += criterion(output,target) \n",
    "            pred = output.argmax(dim = 1,keepdim = True)  # argmax để lấy predicted label, chú ý dim, và keepdim = True\n",
    "            correct += pred.eq(target.view_as(pred)).sum().item()\n",
    "    test_loss /= len(test_loader.dataset) \n",
    "    if test_loss < best_val_loss:\n",
    "      best_val_loss = test_loss\n",
    "      torch.save(model.state_dict(), checkpoint)  # Lưu lại model\n",
    "      print(\"***********    TEST_ACC = {} %    ***********\".format(correct/100))"
   ]
  },
  {
   "cell_type": "code",
   "execution_count": 14,
   "metadata": {
    "id": "KC0dpWjs1Ivj"
   },
   "outputs": [
    {
     "data": {
      "text/plain": [
       "Net(\n",
       "  (conv1): Conv2d(1, 32, kernel_size=(3, 3), stride=(1, 1), padding=(1, 1))\n",
       "  (maxpool1): MaxPool2d(kernel_size=2, stride=2, padding=0, dilation=1, ceil_mode=False)\n",
       "  (conv2): Conv2d(32, 64, kernel_size=(3, 3), stride=(1, 1), padding=(1, 1))\n",
       "  (maxpool2): MaxPool2d(kernel_size=2, stride=2, padding=0, dilation=1, ceil_mode=False)\n",
       "  (conv3): Conv2d(64, 128, kernel_size=(3, 3), stride=(1, 1), padding=(1, 1))\n",
       "  (maxpool3): MaxPool2d(kernel_size=2, stride=2, padding=0, dilation=1, ceil_mode=False)\n",
       "  (fc1): Linear(in_features=1152, out_features=256, bias=True)\n",
       "  (fc2): Linear(in_features=256, out_features=64, bias=True)\n",
       "  (fc3): Linear(in_features=64, out_features=10, bias=True)\n",
       "  (dropout): Dropout(p=0.25, inplace=False)\n",
       "  (relu): ReLU()\n",
       ")"
      ]
     },
     "execution_count": 14,
     "metadata": {},
     "output_type": "execute_result"
    }
   ],
   "source": [
    "# load lại model đã train\n",
    "model.load_state_dict(torch.load(checkpoint))\n",
    "# set eval phase \n",
    "model.eval()"
   ]
  },
  {
   "cell_type": "code",
   "execution_count": 15,
   "metadata": {
    "id": "y-GONBPt1xPd"
   },
   "outputs": [],
   "source": [
    "item = iter(test_loader)"
   ]
  },
  {
   "cell_type": "code",
   "execution_count": 16,
   "metadata": {
    "id": "CC260iYZ1xwt"
   },
   "outputs": [],
   "source": [
    "data,target = next(item) # lấy một batch ra"
   ]
  },
  {
   "cell_type": "code",
   "execution_count": 17,
   "metadata": {
    "id": "WyMQrWz21zpl"
   },
   "outputs": [],
   "source": [
    "test_idx = random.choice(range(len(data))) # lấy index của một phần tử của một batch"
   ]
  },
  {
   "cell_type": "code",
   "execution_count": 18,
   "metadata": {
    "id": "NUm6QR-B10Uh"
   },
   "outputs": [],
   "source": [
    "data = data[test_idx]\n",
    "target = target[test_idx]\n",
    "assert data.shape == (1,28,28)"
   ]
  },
  {
   "cell_type": "code",
   "execution_count": 21,
   "metadata": {
    "id": "kejuKZIY11hM"
   },
   "outputs": [],
   "source": [
    "# thử predict \n",
    "\n",
    "def plot(data,model):\n",
    "  data = torch.unsqueeze(data,dim=0) # unsqueeze data\n",
    "  data = data.to(device)\n",
    "  output = model(data)\n",
    "  output = F.log_softmax(output,dim=1) # log softmax, chú ý dim\n",
    "  pred = output.argmax(dim=1,keepdim=True) # argmax, chú ý keepdim \n",
    "  print(\"Predict Number : \", pred[0][0].cpu().numpy()) \n",
    "  plt.imshow(data[0][0].cpu(),cmap='gray')\n",
    "  plt.show()"
   ]
  },
  {
   "cell_type": "code",
   "execution_count": 22,
   "metadata": {
    "colab": {
     "base_uri": "https://localhost:8080/",
     "height": 282
    },
    "executionInfo": {
     "elapsed": 22,
     "status": "ok",
     "timestamp": 1629988012806,
     "user": {
      "displayName": "Max Ph",
      "photoUrl": "",
      "userId": "05319390549713197190"
     },
     "user_tz": -420
    },
    "id": "EAvIv7Mj2L3K",
    "outputId": "2b349b6d-5b4e-4a49-fecd-5fdbc163d831"
   },
   "outputs": [
    {
     "name": "stdout",
     "output_type": "stream",
     "text": [
      "Predict Number :  8\n"
     ]
    },
    {
     "data": {
      "image/png": "[encoded data removed]",
      "text/plain": [
       "<Figure size 640x480 with 1 Axes>"
      ]
     },
     "metadata": {},
     "output_type": "display_data"
    }
   ],
   "source": [
    "plot(data,model)"
   ]
  },
  {
   "cell_type": "code",
   "execution_count": null,
   "metadata": {
    "id": "ftvH93oZ2NZ-"
   },
   "outputs": [],
   "source": []
  }
 ],
 "metadata": {
  "accelerator": "GPU",
  "colab": {
   "authorship_tag": "ABX9TyN+gr/NvBVQuzuIlv176GrN",
   "collapsed_sections": [],
   "name": "convolutional_network.ipynb",
   "provenance": []
  },
  "kernelspec": {
   "display_name": "base",
   "language": "python",
   "name": "python3"
  },
  "language_info": {
   "codemirror_mode": {
    "name": "ipython",
    "version": 3
   },
   "file_extension": ".py",
   "mimetype": "text/x-python",
   "name": "python",
   "nbconvert_exporter": "python",
   "pygments_lexer": "ipython3",
   "version": "3.13.5"
  }
 },
 "nbformat": 4,
 "nbformat_minor": 0
}
