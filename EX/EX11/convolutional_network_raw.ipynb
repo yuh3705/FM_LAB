{
 "cells": [
  {
   "cell_type": "markdown",
   "metadata": {
    "id": "OBKyt1b40TRA"
   },
   "source": [
    "#  Bài tâp về mạng tích chập\n",
    "\n",
    "Trong bài này, chúng ta sẽ xây dựng một mạng tích chập sử dụng Torch và thử train&Test tập MNIST nhé. \n"
   ]
  },
  {
   "cell_type": "markdown",
   "metadata": {
    "id": "xRMw1k_n0YY5"
   },
   "source": [
    "## Tổng quan một mạng CNN cơ bản\n",
    "\n",
    "![CNN](http://personal.ie.cuhk.edu.hk/~ccloy/project_target_code/images/fig3.png)\n",
    "\n",
    "## MNIST dataset\n",
    "\n",
    "Trong bài tập này, chúng ta sẽ sử dựng tập MNIST rất nổi tiếng vể  các chữ số viết tay từ 0->9. Tập dataset này bao gồm 60000 ảnh cho training và 10000 ảnh cho testing. Các bức ảnh này đều đã được căn giữa và chỉnh với kích thước cố định là 28x28.\n",
    "\n",
    "Trong phần tiền xử lý, chúng ta sẽ cần chuẩn hóa các giá trị pixel của mỗi ảnh về khoảng [0,1], kiểu dữ liệu sẽ là float32\n",
    "\n",
    "<!-- ![MNIST Dataset](http://neuralnetworksanddeeplearning.com/images/mnist_100_digits.png) -->\n",
    "\n",
    "Chi tiết tại: http://yann.lecun.com/exdb/mnist/"
   ]
  },
  {
   "cell_type": "code",
   "execution_count": 1,
   "metadata": {
    "id": "_bmBxOZW0UGC"
   },
   "outputs": [],
   "source": [
    "import torch\n",
    "import torch.nn as nn\n",
    "import torch.nn.functional as F\n",
    "import torch.optim as optim\n",
    "from torchvision import datasets, transforms\n",
    "import numpy as np\n",
    "import matplotlib.pyplot as plt\n",
    "import random"
   ]
  },
  {
   "cell_type": "markdown",
   "metadata": {
    "id": "PtTud_GsLWP_"
   },
   "source": [
    "# Some configs"
   ]
  },
  {
   "cell_type": "code",
   "execution_count": 3,
   "metadata": {
    "id": "3z4BK0Vr0bGV"
   },
   "outputs": [],
   "source": [
    "# Số classes trong tập MNIST\n",
    "num_classes = 10\n",
    "\n",
    "# Số epoch \n",
    "epochs = 3\n",
    "\n",
    "# Các tham số cần thiết cho quá trình traning.\n",
    "learning_rate = 0.001\n",
    "batch_size = 128\n",
    "display_step = 100\n",
    "\n",
    "# Tham số mạng CNN \n",
    "out_channel_1  = 32 # số channel của đầu ra conv thứ 1\n",
    "out_channel_2 = 64 # số channel của đầu ra conv thứ 2\n",
    "\n",
    "# Path lưu best model \n",
    "checkpoint = 'model.pth' # có thể để dạng *.pth"
   ]
  },
  {
   "cell_type": "markdown",
   "metadata": {
    "id": "J2vYvX5WLaX2"
   },
   "source": [
    "# Dataloader"
   ]
  },
  {
   "cell_type": "code",
   "execution_count": 4,
   "metadata": {
    "id": "f_F7wyna9NR7"
   },
   "outputs": [],
   "source": [
    "# Transform image \n",
    "transform=transforms.Compose([\n",
    "    transforms.ToTensor(),\n",
    "    transforms.Normalize((0.5,), (0.5,)) \n",
    "    ])\n",
    "\n",
    "# load dataset từ torchvision.datasets\n",
    "train_dataset = datasets.MNIST('../data', train=True, download=True,transform=transform)\n",
    "test_dataset = datasets.MNIST('../data', train=False,transform=transform)\n",
    "train_loader = torch.utils.data.DataLoader(train_dataset,batch_size=batch_size)\n",
    "test_loader = torch.utils.data.DataLoader(test_dataset,batch_size=batch_size)"
   ]
  },
  {
   "cell_type": "markdown",
   "metadata": {
    "id": "b5UxaA9xLczc"
   },
   "source": [
    "# Model\n",
    "\n",
    "- Input shape sẽ là: [-1, 28, 28, 1]. Ở đây -1 sẽ thể hiện batchsize, một batch thì gồm nhiều ảnh 28x28x1 (grayscale, số channel là 1 !)\n",
    "- Chúng ta sẽ định nghĩa một model đơn giản gồm 2 lớp Conv đều có filter size là 3x3 và stride hãy set là 1. \n",
    "- Ngoài ra sẽ có một lớp maxpool, set filter size 2x2\n",
    "- Flow như sau: conv2d_1 -> relu -> conv2d_2 -> relu -> maxpool2d -> dropout -> flatten -> linear1 -> relu -> dropout -> linear2\n"
   ]
  },
  {
   "cell_type": "code",
   "execution_count": 6,
   "metadata": {
    "id": "2jfcloyb0dQ9"
   },
   "outputs": [
    {
     "name": "stdout",
     "output_type": "stream",
     "text": [
      "!!! Hãy train để có checkpoint file\n"
     ]
    }
   ],
   "source": [
    "# Định nghĩa model \n",
    "\n",
    "model = nn.Sequential (\n",
    "    nn.Conv2d(1, 32, 3, 1),\n",
    "    nn.ReLU(),\n",
    "    nn.Conv2d(32, 64, 3, 1),\n",
    "    nn.ReLU(),\n",
    "    nn.MaxPool2d(2),\n",
    "    nn.Dropout(0.3),\n",
    "    nn.Flatten(),\n",
    "    nn.Linear(9216, 64),\n",
    "    nn.ReLU(),\n",
    "    nn.Dropout(0.4),\n",
    "    nn.Linear(64, 10)       \n",
    ")\n",
    "\n",
    "# load lại pretrained model (nếu có)\n",
    "try:\n",
    "  model.load_state_dict(torch.load(checkpoint))\n",
    " \n",
    "except:\n",
    "  print(\"!!! Hãy train để có checkpoint file\")"
   ]
  },
  {
   "cell_type": "code",
   "execution_count": 8,
   "metadata": {
    "id": "20fGKBm6BMRB"
   },
   "outputs": [
    {
     "name": "stdout",
     "output_type": "stream",
     "text": [
      "Train Epoch: 1 [0/60000 (0%)]\tTrain Loss: 0.087821\n",
      "Train Epoch: 1 [12800/60000 (21%)]\tTrain Loss: 0.041964\n",
      "Train Epoch: 1 [25600/60000 (43%)]\tTrain Loss: 0.069458\n",
      "Train Epoch: 1 [38400/60000 (64%)]\tTrain Loss: 0.141109\n",
      "Train Epoch: 1 [51200/60000 (85%)]\tTrain Loss: 0.135354\n",
      "***********    TEST_ACC = 98.45%    ***********\n",
      "Train Epoch: 2 [0/60000 (0%)]\tTrain Loss: 0.066775\n",
      "Train Epoch: 2 [12800/60000 (21%)]\tTrain Loss: 0.068246\n",
      "Train Epoch: 2 [25600/60000 (43%)]\tTrain Loss: 0.046371\n",
      "Train Epoch: 2 [38400/60000 (64%)]\tTrain Loss: 0.075029\n",
      "Train Epoch: 2 [51200/60000 (85%)]\tTrain Loss: 0.196693\n",
      "***********    TEST_ACC = 98.77%    ***********\n"
     ]
    }
   ],
   "source": [
    "criterion = nn.CrossEntropyLoss()\n",
    "optimizer = optim.Adam(model.parameters(), lr=learning_rate)\n",
    "best_val_loss = 999\n",
    "\n",
    "for epoch in range(1,epochs):\n",
    "    # Quá trình training \n",
    "    model.train()\n",
    "    for batch_idx, (data, target) in enumerate(train_loader):\n",
    "        optimizer.zero_grad()\n",
    "        output = model(data)\n",
    "        loss = criterion(output, target)\n",
    "        loss.backward()\n",
    "        optimizer.step()\n",
    "        if batch_idx % display_step == 0:\n",
    "            print('Train Epoch: {} [{}/{} ({:.0f}%)]\\tTrain Loss: {:.6f}'.format(\n",
    "                epoch, batch_idx * len(data), len(train_loader.dataset),\n",
    "                100. * batch_idx / len(train_loader), loss.item()))\n",
    "    # Quá trình testing \n",
    "    model.eval()\n",
    "    test_loss = 0\n",
    "    correct = 0\n",
    "    # set no grad cho quá trình testing\n",
    "    with torch.no_grad():\n",
    "        for data, target in test_loader:\n",
    "            output = model(data)\n",
    "            output = F.log_softmax(output,dim=1) # log softmax using F\n",
    "            test_loss += criterion(output, target)\n",
    "            pred = output.argmax(dim = 1,keepdim = True) # argmax để lấy predicted label, chú ý keepdim = True\n",
    "            correct += pred.eq(target.view_as(pred)).sum().item()\n",
    "    test_loss /= len(test_loader.dataset) \n",
    "    if test_loss < best_val_loss:\n",
    "      best_val_loss = test_loss\n",
    "      torch.save(model.state_dict(), checkpoint)  # Lưu lại model\n",
    "      print(\"***********    TEST_ACC = {}%    ***********\".format(correct/100))"
   ]
  },
  {
   "cell_type": "markdown",
   "metadata": {
    "id": "_NAtF8XBN_l6"
   },
   "source": [
    "# Visualize Image"
   ]
  },
  {
   "cell_type": "code",
   "execution_count": 9,
   "metadata": {
    "id": "rzU5GUQqGBH5"
   },
   "outputs": [
    {
     "data": {
      "text/plain": [
       "Sequential(\n",
       "  (0): Conv2d(1, 32, kernel_size=(3, 3), stride=(1, 1))\n",
       "  (1): ReLU()\n",
       "  (2): Conv2d(32, 64, kernel_size=(3, 3), stride=(1, 1))\n",
       "  (3): ReLU()\n",
       "  (4): MaxPool2d(kernel_size=2, stride=2, padding=0, dilation=1, ceil_mode=False)\n",
       "  (5): Dropout(p=0.3, inplace=False)\n",
       "  (6): Flatten(start_dim=1, end_dim=-1)\n",
       "  (7): Linear(in_features=9216, out_features=64, bias=True)\n",
       "  (8): ReLU()\n",
       "  (9): Dropout(p=0.4, inplace=False)\n",
       "  (10): Linear(in_features=64, out_features=10, bias=True)\n",
       ")"
      ]
     },
     "execution_count": 9,
     "metadata": {},
     "output_type": "execute_result"
    }
   ],
   "source": [
    "# load lại model đã train\n",
    "model.load_state_dict(torch.load(checkpoint))\n",
    "# set eval phase \n",
    "model.eval()"
   ]
  },
  {
   "cell_type": "code",
   "execution_count": 10,
   "metadata": {
    "id": "RD8Z-ZX_Mlsp"
   },
   "outputs": [],
   "source": [
    "item = iter(test_loader)"
   ]
  },
  {
   "cell_type": "code",
   "execution_count": 11,
   "metadata": {
    "id": "3kC33zgmM5ZI"
   },
   "outputs": [],
   "source": [
    "data,target = next(item) # lấy một batch ra"
   ]
  },
  {
   "cell_type": "code",
   "execution_count": 12,
   "metadata": {
    "id": "t1-GZt14N-ym"
   },
   "outputs": [],
   "source": [
    "test_idx = random.choice(range(len(data))) # lấy index của một phần tử của một batch"
   ]
  },
  {
   "cell_type": "code",
   "execution_count": 13,
   "metadata": {
    "id": "OkahsgWAOo6i"
   },
   "outputs": [],
   "source": [
    "data = data[test_idx]\n",
    "target = target[test_idx]\n",
    "assert data.shape == (1,28,28)"
   ]
  },
  {
   "cell_type": "code",
   "execution_count": 14,
   "metadata": {
    "id": "DCHOlzBvMznD"
   },
   "outputs": [],
   "source": [
    "# thử predict \n",
    "\n",
    "def plot(data,model):\n",
    "  data = torch.unsqueeze(data,dim=0) # unsqueeze data\n",
    "  output = model(data)\n",
    "  output = F.log_softmax(output,dim=1) # log softmax, chú ý dim\n",
    "  pred = output.argmax(dim=1,keepdim=True) # argmax, chú ý keepdim \n",
    "  print(\"Predict Number : \", pred[0][0].numpy()) \n",
    "  plt.imshow(data[0][0],cmap='gray')\n",
    "  plt.show()"
   ]
  },
  {
   "cell_type": "code",
   "execution_count": 15,
   "metadata": {
    "colab": {
     "base_uri": "https://localhost:8080/",
     "height": 282
    },
    "executionInfo": {
     "elapsed": 340,
     "status": "ok",
     "timestamp": 1629979771991,
     "user": {
      "displayName": "Max Ph",
      "photoUrl": "",
      "userId": "05319390549713197190"
     },
     "user_tz": -420
    },
    "id": "Ci0XeQngPdtB",
    "outputId": "1deafd0a-7a63-4527-da81-9dfa44be20ea"
   },
   "outputs": [
    {
     "name": "stdout",
     "output_type": "stream",
     "text": [
      "Predict Number :  9\n"
     ]
    },
    {
     "data": {
      "image/png": "[encoded data removed]",
      "text/plain": [
       "<Figure size 640x480 with 1 Axes>"
      ]
     },
     "metadata": {},
     "output_type": "display_data"
    }
   ],
   "source": [
    "plot(data,model)"
   ]
  },
  {
   "cell_type": "code",
   "execution_count": null,
   "metadata": {
    "id": "rqF_zKNkQD0F"
   },
   "outputs": [],
   "source": []
  }
 ],
 "metadata": {
  "colab": {
   "authorship_tag": "ABX9TyO4CO/iFklpLRJjowQ5Vuac",
   "collapsed_sections": [],
   "name": "convolutional_network_raw.ipynb",
   "provenance": []
  },
  "kernelspec": {
   "display_name": "base",
   "language": "python",
   "name": "python3"
  },
  "language_info": {
   "codemirror_mode": {
    "name": "ipython",
    "version": 3
   },
   "file_extension": ".py",
   "mimetype": "text/x-python",
   "name": "python",
   "nbconvert_exporter": "python",
   "pygments_lexer": "ipython3",
   "version": "3.13.5"
  }
 },
 "nbformat": 4,
 "nbformat_minor": 0
}
